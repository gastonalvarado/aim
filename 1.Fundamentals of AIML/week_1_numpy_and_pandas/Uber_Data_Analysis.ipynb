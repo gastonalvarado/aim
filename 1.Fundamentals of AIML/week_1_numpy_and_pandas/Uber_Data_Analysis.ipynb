{
  "nbformat": 4,
  "nbformat_minor": 0,
  "metadata": {
    "kernelspec": {
      "display_name": "Python 3",
      "language": "python",
      "name": "python3"
    },
    "language_info": {
      "codemirror_mode": {
        "name": "ipython",
        "version": 3
      },
      "file_extension": ".py",
      "mimetype": "text/x-python",
      "name": "python",
      "nbconvert_exporter": "python",
      "pygments_lexer": "ipython3",
      "version": "3.7.4"
    },
    "colab": {
      "name": "Uber Data Analysis_.ipynb",
      "provenance": [],
      "collapsed_sections": [
        "8jSvBLWi73vR"
      ]
    },
    "widgets": {
      "application/vnd.jupyter.widget-state+json": {
        "636a8d72e3384528b9ae8cbf2186b09b": {
          "model_module": "@jupyter-widgets/controls",
          "model_name": "HBoxModel",
          "state": {
            "_view_name": "HBoxView",
            "_dom_classes": [],
            "_model_name": "HBoxModel",
            "_view_module": "@jupyter-widgets/controls",
            "_model_module_version": "1.5.0",
            "_view_count": null,
            "_view_module_version": "1.5.0",
            "box_style": "",
            "layout": "IPY_MODEL_8f7fafcf44ae41be9f5619aab14e2b15",
            "_model_module": "@jupyter-widgets/controls",
            "children": [
              "IPY_MODEL_3a272646e3134d618fb4b423a91abf51",
              "IPY_MODEL_3caf8ac364574b6fbf816df3eeb303e2"
            ]
          }
        },
        "8f7fafcf44ae41be9f5619aab14e2b15": {
          "model_module": "@jupyter-widgets/base",
          "model_name": "LayoutModel",
          "state": {
            "_view_name": "LayoutView",
            "grid_template_rows": null,
            "right": null,
            "justify_content": null,
            "_view_module": "@jupyter-widgets/base",
            "overflow": null,
            "_model_module_version": "1.2.0",
            "_view_count": null,
            "flex_flow": null,
            "width": null,
            "min_width": null,
            "border": null,
            "align_items": null,
            "bottom": null,
            "_model_module": "@jupyter-widgets/base",
            "top": null,
            "grid_column": null,
            "overflow_y": null,
            "overflow_x": null,
            "grid_auto_flow": null,
            "grid_area": null,
            "grid_template_columns": null,
            "flex": null,
            "_model_name": "LayoutModel",
            "justify_items": null,
            "grid_row": null,
            "max_height": null,
            "align_content": null,
            "visibility": null,
            "align_self": null,
            "height": null,
            "min_height": null,
            "padding": null,
            "grid_auto_rows": null,
            "grid_gap": null,
            "max_width": null,
            "order": null,
            "_view_module_version": "1.2.0",
            "grid_template_areas": null,
            "object_position": null,
            "object_fit": null,
            "grid_auto_columns": null,
            "margin": null,
            "display": null,
            "left": null
          }
        },
        "3a272646e3134d618fb4b423a91abf51": {
          "model_module": "@jupyter-widgets/controls",
          "model_name": "FloatProgressModel",
          "state": {
            "_view_name": "ProgressView",
            "style": "IPY_MODEL_b28ac870e6d541c5b54d4f1dffefce37",
            "_dom_classes": [],
            "description": "Summarize dataset: 100%",
            "_model_name": "FloatProgressModel",
            "bar_style": "success",
            "max": 21,
            "_view_module": "@jupyter-widgets/controls",
            "_model_module_version": "1.5.0",
            "value": 21,
            "_view_count": null,
            "_view_module_version": "1.5.0",
            "orientation": "horizontal",
            "min": 0,
            "description_tooltip": null,
            "_model_module": "@jupyter-widgets/controls",
            "layout": "IPY_MODEL_9657fb4abc67484cb6e85b69006324e6"
          }
        },
        "3caf8ac364574b6fbf816df3eeb303e2": {
          "model_module": "@jupyter-widgets/controls",
          "model_name": "HTMLModel",
          "state": {
            "_view_name": "HTMLView",
            "style": "IPY_MODEL_118335e46ea94d4c9a101a6eec32a77b",
            "_dom_classes": [],
            "description": "",
            "_model_name": "HTMLModel",
            "placeholder": "​",
            "_view_module": "@jupyter-widgets/controls",
            "_model_module_version": "1.5.0",
            "value": " 21/21 [00:06&lt;00:00,  3.35it/s, Completed]",
            "_view_count": null,
            "_view_module_version": "1.5.0",
            "description_tooltip": null,
            "_model_module": "@jupyter-widgets/controls",
            "layout": "IPY_MODEL_9e73a07e8cb848ff99515c8081ad4751"
          }
        },
        "b28ac870e6d541c5b54d4f1dffefce37": {
          "model_module": "@jupyter-widgets/controls",
          "model_name": "ProgressStyleModel",
          "state": {
            "_view_name": "StyleView",
            "_model_name": "ProgressStyleModel",
            "description_width": "initial",
            "_view_module": "@jupyter-widgets/base",
            "_model_module_version": "1.5.0",
            "_view_count": null,
            "_view_module_version": "1.2.0",
            "bar_color": null,
            "_model_module": "@jupyter-widgets/controls"
          }
        },
        "9657fb4abc67484cb6e85b69006324e6": {
          "model_module": "@jupyter-widgets/base",
          "model_name": "LayoutModel",
          "state": {
            "_view_name": "LayoutView",
            "grid_template_rows": null,
            "right": null,
            "justify_content": null,
            "_view_module": "@jupyter-widgets/base",
            "overflow": null,
            "_model_module_version": "1.2.0",
            "_view_count": null,
            "flex_flow": null,
            "width": null,
            "min_width": null,
            "border": null,
            "align_items": null,
            "bottom": null,
            "_model_module": "@jupyter-widgets/base",
            "top": null,
            "grid_column": null,
            "overflow_y": null,
            "overflow_x": null,
            "grid_auto_flow": null,
            "grid_area": null,
            "grid_template_columns": null,
            "flex": null,
            "_model_name": "LayoutModel",
            "justify_items": null,
            "grid_row": null,
            "max_height": null,
            "align_content": null,
            "visibility": null,
            "align_self": null,
            "height": null,
            "min_height": null,
            "padding": null,
            "grid_auto_rows": null,
            "grid_gap": null,
            "max_width": null,
            "order": null,
            "_view_module_version": "1.2.0",
            "grid_template_areas": null,
            "object_position": null,
            "object_fit": null,
            "grid_auto_columns": null,
            "margin": null,
            "display": null,
            "left": null
          }
        },
        "118335e46ea94d4c9a101a6eec32a77b": {
          "model_module": "@jupyter-widgets/controls",
          "model_name": "DescriptionStyleModel",
          "state": {
            "_view_name": "StyleView",
            "_model_name": "DescriptionStyleModel",
            "description_width": "",
            "_view_module": "@jupyter-widgets/base",
            "_model_module_version": "1.5.0",
            "_view_count": null,
            "_view_module_version": "1.2.0",
            "_model_module": "@jupyter-widgets/controls"
          }
        },
        "9e73a07e8cb848ff99515c8081ad4751": {
          "model_module": "@jupyter-widgets/base",
          "model_name": "LayoutModel",
          "state": {
            "_view_name": "LayoutView",
            "grid_template_rows": null,
            "right": null,
            "justify_content": null,
            "_view_module": "@jupyter-widgets/base",
            "overflow": null,
            "_model_module_version": "1.2.0",
            "_view_count": null,
            "flex_flow": null,
            "width": null,
            "min_width": null,
            "border": null,
            "align_items": null,
            "bottom": null,
            "_model_module": "@jupyter-widgets/base",
            "top": null,
            "grid_column": null,
            "overflow_y": null,
            "overflow_x": null,
            "grid_auto_flow": null,
            "grid_area": null,
            "grid_template_columns": null,
            "flex": null,
            "_model_name": "LayoutModel",
            "justify_items": null,
            "grid_row": null,
            "max_height": null,
            "align_content": null,
            "visibility": null,
            "align_self": null,
            "height": null,
            "min_height": null,
            "padding": null,
            "grid_auto_rows": null,
            "grid_gap": null,
            "max_width": null,
            "order": null,
            "_view_module_version": "1.2.0",
            "grid_template_areas": null,
            "object_position": null,
            "object_fit": null,
            "grid_auto_columns": null,
            "margin": null,
            "display": null,
            "left": null
          }
        },
        "1922659150cd427d8689868f4dce6b02": {
          "model_module": "@jupyter-widgets/controls",
          "model_name": "HBoxModel",
          "state": {
            "_view_name": "HBoxView",
            "_dom_classes": [],
            "_model_name": "HBoxModel",
            "_view_module": "@jupyter-widgets/controls",
            "_model_module_version": "1.5.0",
            "_view_count": null,
            "_view_module_version": "1.5.0",
            "box_style": "",
            "layout": "IPY_MODEL_2cbcc7ac8d1c4c108e83d87f726ac3fa",
            "_model_module": "@jupyter-widgets/controls",
            "children": [
              "IPY_MODEL_db18f08eec74473495074ada24bc89fc",
              "IPY_MODEL_d91a955076314f15a06ec8a5c8093461"
            ]
          }
        },
        "2cbcc7ac8d1c4c108e83d87f726ac3fa": {
          "model_module": "@jupyter-widgets/base",
          "model_name": "LayoutModel",
          "state": {
            "_view_name": "LayoutView",
            "grid_template_rows": null,
            "right": null,
            "justify_content": null,
            "_view_module": "@jupyter-widgets/base",
            "overflow": null,
            "_model_module_version": "1.2.0",
            "_view_count": null,
            "flex_flow": null,
            "width": null,
            "min_width": null,
            "border": null,
            "align_items": null,
            "bottom": null,
            "_model_module": "@jupyter-widgets/base",
            "top": null,
            "grid_column": null,
            "overflow_y": null,
            "overflow_x": null,
            "grid_auto_flow": null,
            "grid_area": null,
            "grid_template_columns": null,
            "flex": null,
            "_model_name": "LayoutModel",
            "justify_items": null,
            "grid_row": null,
            "max_height": null,
            "align_content": null,
            "visibility": null,
            "align_self": null,
            "height": null,
            "min_height": null,
            "padding": null,
            "grid_auto_rows": null,
            "grid_gap": null,
            "max_width": null,
            "order": null,
            "_view_module_version": "1.2.0",
            "grid_template_areas": null,
            "object_position": null,
            "object_fit": null,
            "grid_auto_columns": null,
            "margin": null,
            "display": null,
            "left": null
          }
        },
        "db18f08eec74473495074ada24bc89fc": {
          "model_module": "@jupyter-widgets/controls",
          "model_name": "FloatProgressModel",
          "state": {
            "_view_name": "ProgressView",
            "style": "IPY_MODEL_066ef01d1d364c1580142f705a559fe9",
            "_dom_classes": [],
            "description": "Generate report structure: 100%",
            "_model_name": "FloatProgressModel",
            "bar_style": "success",
            "max": 1,
            "_view_module": "@jupyter-widgets/controls",
            "_model_module_version": "1.5.0",
            "value": 1,
            "_view_count": null,
            "_view_module_version": "1.5.0",
            "orientation": "horizontal",
            "min": 0,
            "description_tooltip": null,
            "_model_module": "@jupyter-widgets/controls",
            "layout": "IPY_MODEL_1c772e21d02343849c54002e7ea6360a"
          }
        },
        "d91a955076314f15a06ec8a5c8093461": {
          "model_module": "@jupyter-widgets/controls",
          "model_name": "HTMLModel",
          "state": {
            "_view_name": "HTMLView",
            "style": "IPY_MODEL_48802e3bbece4c9abbd23a6df5f9a018",
            "_dom_classes": [],
            "description": "",
            "_model_name": "HTMLModel",
            "placeholder": "​",
            "_view_module": "@jupyter-widgets/controls",
            "_model_module_version": "1.5.0",
            "value": " 1/1 [00:02&lt;00:00,  2.58s/it]",
            "_view_count": null,
            "_view_module_version": "1.5.0",
            "description_tooltip": null,
            "_model_module": "@jupyter-widgets/controls",
            "layout": "IPY_MODEL_f53135e5d10e4e8a96d64944b0b66722"
          }
        },
        "066ef01d1d364c1580142f705a559fe9": {
          "model_module": "@jupyter-widgets/controls",
          "model_name": "ProgressStyleModel",
          "state": {
            "_view_name": "StyleView",
            "_model_name": "ProgressStyleModel",
            "description_width": "initial",
            "_view_module": "@jupyter-widgets/base",
            "_model_module_version": "1.5.0",
            "_view_count": null,
            "_view_module_version": "1.2.0",
            "bar_color": null,
            "_model_module": "@jupyter-widgets/controls"
          }
        },
        "1c772e21d02343849c54002e7ea6360a": {
          "model_module": "@jupyter-widgets/base",
          "model_name": "LayoutModel",
          "state": {
            "_view_name": "LayoutView",
            "grid_template_rows": null,
            "right": null,
            "justify_content": null,
            "_view_module": "@jupyter-widgets/base",
            "overflow": null,
            "_model_module_version": "1.2.0",
            "_view_count": null,
            "flex_flow": null,
            "width": null,
            "min_width": null,
            "border": null,
            "align_items": null,
            "bottom": null,
            "_model_module": "@jupyter-widgets/base",
            "top": null,
            "grid_column": null,
            "overflow_y": null,
            "overflow_x": null,
            "grid_auto_flow": null,
            "grid_area": null,
            "grid_template_columns": null,
            "flex": null,
            "_model_name": "LayoutModel",
            "justify_items": null,
            "grid_row": null,
            "max_height": null,
            "align_content": null,
            "visibility": null,
            "align_self": null,
            "height": null,
            "min_height": null,
            "padding": null,
            "grid_auto_rows": null,
            "grid_gap": null,
            "max_width": null,
            "order": null,
            "_view_module_version": "1.2.0",
            "grid_template_areas": null,
            "object_position": null,
            "object_fit": null,
            "grid_auto_columns": null,
            "margin": null,
            "display": null,
            "left": null
          }
        },
        "48802e3bbece4c9abbd23a6df5f9a018": {
          "model_module": "@jupyter-widgets/controls",
          "model_name": "DescriptionStyleModel",
          "state": {
            "_view_name": "StyleView",
            "_model_name": "DescriptionStyleModel",
            "description_width": "",
            "_view_module": "@jupyter-widgets/base",
            "_model_module_version": "1.5.0",
            "_view_count": null,
            "_view_module_version": "1.2.0",
            "_model_module": "@jupyter-widgets/controls"
          }
        },
        "f53135e5d10e4e8a96d64944b0b66722": {
          "model_module": "@jupyter-widgets/base",
          "model_name": "LayoutModel",
          "state": {
            "_view_name": "LayoutView",
            "grid_template_rows": null,
            "right": null,
            "justify_content": null,
            "_view_module": "@jupyter-widgets/base",
            "overflow": null,
            "_model_module_version": "1.2.0",
            "_view_count": null,
            "flex_flow": null,
            "width": null,
            "min_width": null,
            "border": null,
            "align_items": null,
            "bottom": null,
            "_model_module": "@jupyter-widgets/base",
            "top": null,
            "grid_column": null,
            "overflow_y": null,
            "overflow_x": null,
            "grid_auto_flow": null,
            "grid_area": null,
            "grid_template_columns": null,
            "flex": null,
            "_model_name": "LayoutModel",
            "justify_items": null,
            "grid_row": null,
            "max_height": null,
            "align_content": null,
            "visibility": null,
            "align_self": null,
            "height": null,
            "min_height": null,
            "padding": null,
            "grid_auto_rows": null,
            "grid_gap": null,
            "max_width": null,
            "order": null,
            "_view_module_version": "1.2.0",
            "grid_template_areas": null,
            "object_position": null,
            "object_fit": null,
            "grid_auto_columns": null,
            "margin": null,
            "display": null,
            "left": null
          }
        },
        "ee7bb7cf782347ed906b5bd6c4e1e253": {
          "model_module": "@jupyter-widgets/controls",
          "model_name": "HBoxModel",
          "state": {
            "_view_name": "HBoxView",
            "_dom_classes": [],
            "_model_name": "HBoxModel",
            "_view_module": "@jupyter-widgets/controls",
            "_model_module_version": "1.5.0",
            "_view_count": null,
            "_view_module_version": "1.5.0",
            "box_style": "",
            "layout": "IPY_MODEL_ab5822f91f7f46cfaf6fce6b3e928356",
            "_model_module": "@jupyter-widgets/controls",
            "children": [
              "IPY_MODEL_553b3f7e195c495c80c3ff6d0c5f53ae",
              "IPY_MODEL_835ec7d15fc64a74bd60389e5de5b401"
            ]
          }
        },
        "ab5822f91f7f46cfaf6fce6b3e928356": {
          "model_module": "@jupyter-widgets/base",
          "model_name": "LayoutModel",
          "state": {
            "_view_name": "LayoutView",
            "grid_template_rows": null,
            "right": null,
            "justify_content": null,
            "_view_module": "@jupyter-widgets/base",
            "overflow": null,
            "_model_module_version": "1.2.0",
            "_view_count": null,
            "flex_flow": null,
            "width": null,
            "min_width": null,
            "border": null,
            "align_items": null,
            "bottom": null,
            "_model_module": "@jupyter-widgets/base",
            "top": null,
            "grid_column": null,
            "overflow_y": null,
            "overflow_x": null,
            "grid_auto_flow": null,
            "grid_area": null,
            "grid_template_columns": null,
            "flex": null,
            "_model_name": "LayoutModel",
            "justify_items": null,
            "grid_row": null,
            "max_height": null,
            "align_content": null,
            "visibility": null,
            "align_self": null,
            "height": null,
            "min_height": null,
            "padding": null,
            "grid_auto_rows": null,
            "grid_gap": null,
            "max_width": null,
            "order": null,
            "_view_module_version": "1.2.0",
            "grid_template_areas": null,
            "object_position": null,
            "object_fit": null,
            "grid_auto_columns": null,
            "margin": null,
            "display": null,
            "left": null
          }
        },
        "553b3f7e195c495c80c3ff6d0c5f53ae": {
          "model_module": "@jupyter-widgets/controls",
          "model_name": "FloatProgressModel",
          "state": {
            "_view_name": "ProgressView",
            "style": "IPY_MODEL_bbbada057d4d43379ccc1038040ee7a6",
            "_dom_classes": [],
            "description": "Render HTML: 100%",
            "_model_name": "FloatProgressModel",
            "bar_style": "success",
            "max": 1,
            "_view_module": "@jupyter-widgets/controls",
            "_model_module_version": "1.5.0",
            "value": 1,
            "_view_count": null,
            "_view_module_version": "1.5.0",
            "orientation": "horizontal",
            "min": 0,
            "description_tooltip": null,
            "_model_module": "@jupyter-widgets/controls",
            "layout": "IPY_MODEL_9a373c2f4b0b4fdd97fef0774218273d"
          }
        },
        "835ec7d15fc64a74bd60389e5de5b401": {
          "model_module": "@jupyter-widgets/controls",
          "model_name": "HTMLModel",
          "state": {
            "_view_name": "HTMLView",
            "style": "IPY_MODEL_996dce9580da41f4a7f5ebf765f9330b",
            "_dom_classes": [],
            "description": "",
            "_model_name": "HTMLModel",
            "placeholder": "​",
            "_view_module": "@jupyter-widgets/controls",
            "_model_module_version": "1.5.0",
            "value": " 1/1 [00:00&lt;00:00,  1.90it/s]",
            "_view_count": null,
            "_view_module_version": "1.5.0",
            "description_tooltip": null,
            "_model_module": "@jupyter-widgets/controls",
            "layout": "IPY_MODEL_565ca1a277734a0e8abd255ec2b6014e"
          }
        },
        "bbbada057d4d43379ccc1038040ee7a6": {
          "model_module": "@jupyter-widgets/controls",
          "model_name": "ProgressStyleModel",
          "state": {
            "_view_name": "StyleView",
            "_model_name": "ProgressStyleModel",
            "description_width": "initial",
            "_view_module": "@jupyter-widgets/base",
            "_model_module_version": "1.5.0",
            "_view_count": null,
            "_view_module_version": "1.2.0",
            "bar_color": null,
            "_model_module": "@jupyter-widgets/controls"
          }
        },
        "9a373c2f4b0b4fdd97fef0774218273d": {
          "model_module": "@jupyter-widgets/base",
          "model_name": "LayoutModel",
          "state": {
            "_view_name": "LayoutView",
            "grid_template_rows": null,
            "right": null,
            "justify_content": null,
            "_view_module": "@jupyter-widgets/base",
            "overflow": null,
            "_model_module_version": "1.2.0",
            "_view_count": null,
            "flex_flow": null,
            "width": null,
            "min_width": null,
            "border": null,
            "align_items": null,
            "bottom": null,
            "_model_module": "@jupyter-widgets/base",
            "top": null,
            "grid_column": null,
            "overflow_y": null,
            "overflow_x": null,
            "grid_auto_flow": null,
            "grid_area": null,
            "grid_template_columns": null,
            "flex": null,
            "_model_name": "LayoutModel",
            "justify_items": null,
            "grid_row": null,
            "max_height": null,
            "align_content": null,
            "visibility": null,
            "align_self": null,
            "height": null,
            "min_height": null,
            "padding": null,
            "grid_auto_rows": null,
            "grid_gap": null,
            "max_width": null,
            "order": null,
            "_view_module_version": "1.2.0",
            "grid_template_areas": null,
            "object_position": null,
            "object_fit": null,
            "grid_auto_columns": null,
            "margin": null,
            "display": null,
            "left": null
          }
        },
        "996dce9580da41f4a7f5ebf765f9330b": {
          "model_module": "@jupyter-widgets/controls",
          "model_name": "DescriptionStyleModel",
          "state": {
            "_view_name": "StyleView",
            "_model_name": "DescriptionStyleModel",
            "description_width": "",
            "_view_module": "@jupyter-widgets/base",
            "_model_module_version": "1.5.0",
            "_view_count": null,
            "_view_module_version": "1.2.0",
            "_model_module": "@jupyter-widgets/controls"
          }
        },
        "565ca1a277734a0e8abd255ec2b6014e": {
          "model_module": "@jupyter-widgets/base",
          "model_name": "LayoutModel",
          "state": {
            "_view_name": "LayoutView",
            "grid_template_rows": null,
            "right": null,
            "justify_content": null,
            "_view_module": "@jupyter-widgets/base",
            "overflow": null,
            "_model_module_version": "1.2.0",
            "_view_count": null,
            "flex_flow": null,
            "width": null,
            "min_width": null,
            "border": null,
            "align_items": null,
            "bottom": null,
            "_model_module": "@jupyter-widgets/base",
            "top": null,
            "grid_column": null,
            "overflow_y": null,
            "overflow_x": null,
            "grid_auto_flow": null,
            "grid_area": null,
            "grid_template_columns": null,
            "flex": null,
            "_model_name": "LayoutModel",
            "justify_items": null,
            "grid_row": null,
            "max_height": null,
            "align_content": null,
            "visibility": null,
            "align_self": null,
            "height": null,
            "min_height": null,
            "padding": null,
            "grid_auto_rows": null,
            "grid_gap": null,
            "max_width": null,
            "order": null,
            "_view_module_version": "1.2.0",
            "grid_template_areas": null,
            "object_position": null,
            "object_fit": null,
            "grid_auto_columns": null,
            "margin": null,
            "display": null,
            "left": null
          }
        },
        "e21efa0d2fca46059507f0f013fa9f13": {
          "model_module": "@jupyter-widgets/controls",
          "model_name": "HBoxModel",
          "state": {
            "_view_name": "HBoxView",
            "_dom_classes": [],
            "_model_name": "HBoxModel",
            "_view_module": "@jupyter-widgets/controls",
            "_model_module_version": "1.5.0",
            "_view_count": null,
            "_view_module_version": "1.5.0",
            "box_style": "",
            "layout": "IPY_MODEL_f271def9ac4743e2a0afc0801f948cd0",
            "_model_module": "@jupyter-widgets/controls",
            "children": [
              "IPY_MODEL_bebe201dcdea40beaae04e4c5b054a1d",
              "IPY_MODEL_9c62f73b723641ea8e3a4cd292790727"
            ]
          }
        },
        "f271def9ac4743e2a0afc0801f948cd0": {
          "model_module": "@jupyter-widgets/base",
          "model_name": "LayoutModel",
          "state": {
            "_view_name": "LayoutView",
            "grid_template_rows": null,
            "right": null,
            "justify_content": null,
            "_view_module": "@jupyter-widgets/base",
            "overflow": null,
            "_model_module_version": "1.2.0",
            "_view_count": null,
            "flex_flow": null,
            "width": null,
            "min_width": null,
            "border": null,
            "align_items": null,
            "bottom": null,
            "_model_module": "@jupyter-widgets/base",
            "top": null,
            "grid_column": null,
            "overflow_y": null,
            "overflow_x": null,
            "grid_auto_flow": null,
            "grid_area": null,
            "grid_template_columns": null,
            "flex": null,
            "_model_name": "LayoutModel",
            "justify_items": null,
            "grid_row": null,
            "max_height": null,
            "align_content": null,
            "visibility": null,
            "align_self": null,
            "height": null,
            "min_height": null,
            "padding": null,
            "grid_auto_rows": null,
            "grid_gap": null,
            "max_width": null,
            "order": null,
            "_view_module_version": "1.2.0",
            "grid_template_areas": null,
            "object_position": null,
            "object_fit": null,
            "grid_auto_columns": null,
            "margin": null,
            "display": null,
            "left": null
          }
        },
        "bebe201dcdea40beaae04e4c5b054a1d": {
          "model_module": "@jupyter-widgets/controls",
          "model_name": "FloatProgressModel",
          "state": {
            "_view_name": "ProgressView",
            "style": "IPY_MODEL_e128e47e7ac54bc3b0b36573473dc615",
            "_dom_classes": [],
            "description": "Export report to file: 100%",
            "_model_name": "FloatProgressModel",
            "bar_style": "success",
            "max": 1,
            "_view_module": "@jupyter-widgets/controls",
            "_model_module_version": "1.5.0",
            "value": 1,
            "_view_count": null,
            "_view_module_version": "1.5.0",
            "orientation": "horizontal",
            "min": 0,
            "description_tooltip": null,
            "_model_module": "@jupyter-widgets/controls",
            "layout": "IPY_MODEL_c9d4246e94824ec7b731b6df98850733"
          }
        },
        "9c62f73b723641ea8e3a4cd292790727": {
          "model_module": "@jupyter-widgets/controls",
          "model_name": "HTMLModel",
          "state": {
            "_view_name": "HTMLView",
            "style": "IPY_MODEL_b331d128783348a7a0bb9d098249d998",
            "_dom_classes": [],
            "description": "",
            "_model_name": "HTMLModel",
            "placeholder": "​",
            "_view_module": "@jupyter-widgets/controls",
            "_model_module_version": "1.5.0",
            "value": " 1/1 [00:00&lt;00:00,  5.75it/s]",
            "_view_count": null,
            "_view_module_version": "1.5.0",
            "description_tooltip": null,
            "_model_module": "@jupyter-widgets/controls",
            "layout": "IPY_MODEL_3a43f1f850254895a9241e9b1ab3dca8"
          }
        },
        "e128e47e7ac54bc3b0b36573473dc615": {
          "model_module": "@jupyter-widgets/controls",
          "model_name": "ProgressStyleModel",
          "state": {
            "_view_name": "StyleView",
            "_model_name": "ProgressStyleModel",
            "description_width": "initial",
            "_view_module": "@jupyter-widgets/base",
            "_model_module_version": "1.5.0",
            "_view_count": null,
            "_view_module_version": "1.2.0",
            "bar_color": null,
            "_model_module": "@jupyter-widgets/controls"
          }
        },
        "c9d4246e94824ec7b731b6df98850733": {
          "model_module": "@jupyter-widgets/base",
          "model_name": "LayoutModel",
          "state": {
            "_view_name": "LayoutView",
            "grid_template_rows": null,
            "right": null,
            "justify_content": null,
            "_view_module": "@jupyter-widgets/base",
            "overflow": null,
            "_model_module_version": "1.2.0",
            "_view_count": null,
            "flex_flow": null,
            "width": null,
            "min_width": null,
            "border": null,
            "align_items": null,
            "bottom": null,
            "_model_module": "@jupyter-widgets/base",
            "top": null,
            "grid_column": null,
            "overflow_y": null,
            "overflow_x": null,
            "grid_auto_flow": null,
            "grid_area": null,
            "grid_template_columns": null,
            "flex": null,
            "_model_name": "LayoutModel",
            "justify_items": null,
            "grid_row": null,
            "max_height": null,
            "align_content": null,
            "visibility": null,
            "align_self": null,
            "height": null,
            "min_height": null,
            "padding": null,
            "grid_auto_rows": null,
            "grid_gap": null,
            "max_width": null,
            "order": null,
            "_view_module_version": "1.2.0",
            "grid_template_areas": null,
            "object_position": null,
            "object_fit": null,
            "grid_auto_columns": null,
            "margin": null,
            "display": null,
            "left": null
          }
        },
        "b331d128783348a7a0bb9d098249d998": {
          "model_module": "@jupyter-widgets/controls",
          "model_name": "DescriptionStyleModel",
          "state": {
            "_view_name": "StyleView",
            "_model_name": "DescriptionStyleModel",
            "description_width": "",
            "_view_module": "@jupyter-widgets/base",
            "_model_module_version": "1.5.0",
            "_view_count": null,
            "_view_module_version": "1.2.0",
            "_model_module": "@jupyter-widgets/controls"
          }
        },
        "3a43f1f850254895a9241e9b1ab3dca8": {
          "model_module": "@jupyter-widgets/base",
          "model_name": "LayoutModel",
          "state": {
            "_view_name": "LayoutView",
            "grid_template_rows": null,
            "right": null,
            "justify_content": null,
            "_view_module": "@jupyter-widgets/base",
            "overflow": null,
            "_model_module_version": "1.2.0",
            "_view_count": null,
            "flex_flow": null,
            "width": null,
            "min_width": null,
            "border": null,
            "align_items": null,
            "bottom": null,
            "_model_module": "@jupyter-widgets/base",
            "top": null,
            "grid_column": null,
            "overflow_y": null,
            "overflow_x": null,
            "grid_auto_flow": null,
            "grid_area": null,
            "grid_template_columns": null,
            "flex": null,
            "_model_name": "LayoutModel",
            "justify_items": null,
            "grid_row": null,
            "max_height": null,
            "align_content": null,
            "visibility": null,
            "align_self": null,
            "height": null,
            "min_height": null,
            "padding": null,
            "grid_auto_rows": null,
            "grid_gap": null,
            "max_width": null,
            "order": null,
            "_view_module_version": "1.2.0",
            "grid_template_areas": null,
            "object_position": null,
            "object_fit": null,
            "grid_auto_columns": null,
            "margin": null,
            "display": null,
            "left": null
          }
        }
      }
    }
  },
  "cells": [
    {
      "cell_type": "markdown",
      "metadata": {
        "id": "DBcX05TS73uH",
        "colab_type": "text"
      },
      "source": [
        "### Case study  - Uber Data Analysis\n",
        "\n",
        "The data of a driver’s uber trips are available for year 2016.\n",
        "Your manager wants you to explore this data to give him some useful insights about the trip behaviour of a Uber driver.\n",
        "\n",
        "#### Dataset - \n",
        "The dataset contains Start Date, End Date, Start Location, End Location, Miles Driven and Purpose of drive (Business, Personal, Meals, Errands, Meetings, Customer Support etc.)\n"
      ]
    },
    {
      "cell_type": "markdown",
      "metadata": {
        "id": "PMFDUmLo73uJ",
        "colab_type": "text"
      },
      "source": [
        "#### Steps - \n",
        "\n",
        "1.Import the libraries\n",
        "\n",
        "2.Get the data and observe it\n",
        "\n",
        "3.Check missing values, either remove it or fill it.\n",
        "\n",
        "4.Get summary of data using python function.\n",
        "\n",
        "5.Explore the data parameter wise\n",
        "\n",
        "Here we have information of destination(start and stop), time(start and stop), category and purpose of trip, miles covered.\n"
      ]
    },
    {
      "cell_type": "code",
      "metadata": {
        "id": "noJv0wCY73uK",
        "colab_type": "code",
        "colab": {}
      },
      "source": [
        "# ----------------------\n",
        "# Concepts To cover \n",
        "# ----------------------\n",
        "# 1. Data profiling\n",
        "# 2. group by function\n",
        "# 3. Apply function \n",
        "# 4. DateTime operations "
      ],
      "execution_count": 1,
      "outputs": []
    },
    {
      "cell_type": "code",
      "metadata": {
        "id": "lv4Pa2U2OQHx",
        "colab_type": "code",
        "colab": {}
      },
      "source": [
        "!pip install pandas==1.0.5\n",
        "!pip install pandas-profiling==2.8.0"
      ],
      "execution_count": null,
      "outputs": []
    },
    {
      "cell_type": "code",
      "metadata": {
        "id": "SY3vuCtI73uN",
        "colab_type": "code",
        "colab": {}
      },
      "source": [
        "# Import the libraries \n",
        "import numpy as np\n",
        "import pandas as pd"
      ],
      "execution_count": 3,
      "outputs": []
    },
    {
      "cell_type": "code",
      "metadata": {
        "id": "4FvdGEL573uQ",
        "colab_type": "code",
        "colab": {}
      },
      "source": [
        "# Read the Data \n",
        "\n",
        "\n",
        "# df = pd.read_csv('../data/uberdrive.csv', skiprows = 100)  # To skip first n nows \n",
        "# df = pd.read_csv('../data/uberdrive.csv', nrows = 100)  # Load only the first n rows\n",
        "# df = pd.read_csv('../data/uberdrive.csv', usecols = ['START_DATE*', 'END_DATE*'])  # Load only selected columns\n",
        "\n",
        "df = pd.read_csv('uberdrive.csv')"
      ],
      "execution_count": 4,
      "outputs": []
    },
    {
      "cell_type": "code",
      "metadata": {
        "id": "rfp142SP73uS",
        "colab_type": "code",
        "colab": {
          "base_uri": "https://localhost:8080/",
          "height": 297
        },
        "outputId": "7c059e9c-86d7-493f-ba8b-0e2b20289efa"
      },
      "source": [
        "df.head(8) # View first 8 rows of data "
      ],
      "execution_count": 5,
      "outputs": [
        {
          "output_type": "execute_result",
          "data": {
            "text/html": [
              "<div>\n",
              "<style scoped>\n",
              "    .dataframe tbody tr th:only-of-type {\n",
              "        vertical-align: middle;\n",
              "    }\n",
              "\n",
              "    .dataframe tbody tr th {\n",
              "        vertical-align: top;\n",
              "    }\n",
              "\n",
              "    .dataframe thead th {\n",
              "        text-align: right;\n",
              "    }\n",
              "</style>\n",
              "<table border=\"1\" class=\"dataframe\">\n",
              "  <thead>\n",
              "    <tr style=\"text-align: right;\">\n",
              "      <th></th>\n",
              "      <th>START_DATE*</th>\n",
              "      <th>END_DATE*</th>\n",
              "      <th>CATEGORY*</th>\n",
              "      <th>START*</th>\n",
              "      <th>STOP*</th>\n",
              "      <th>MILES*</th>\n",
              "      <th>PURPOSE*</th>\n",
              "    </tr>\n",
              "  </thead>\n",
              "  <tbody>\n",
              "    <tr>\n",
              "      <th>0</th>\n",
              "      <td>1/1/2016 21:11</td>\n",
              "      <td>1/1/2016 21:17</td>\n",
              "      <td>Business</td>\n",
              "      <td>Fort Pierce</td>\n",
              "      <td>Fort Pierce</td>\n",
              "      <td>5.1</td>\n",
              "      <td>Meal/Entertain</td>\n",
              "    </tr>\n",
              "    <tr>\n",
              "      <th>1</th>\n",
              "      <td>1/2/2016 1:25</td>\n",
              "      <td>1/2/2016 1:37</td>\n",
              "      <td>Business</td>\n",
              "      <td>Fort Pierce</td>\n",
              "      <td>Fort Pierce</td>\n",
              "      <td>5.0</td>\n",
              "      <td>NaN</td>\n",
              "    </tr>\n",
              "    <tr>\n",
              "      <th>2</th>\n",
              "      <td>1/2/2016 20:25</td>\n",
              "      <td>1/2/2016 20:38</td>\n",
              "      <td>Business</td>\n",
              "      <td>Fort Pierce</td>\n",
              "      <td>Fort Pierce</td>\n",
              "      <td>4.8</td>\n",
              "      <td>Errand/Supplies</td>\n",
              "    </tr>\n",
              "    <tr>\n",
              "      <th>3</th>\n",
              "      <td>1/5/2016 17:31</td>\n",
              "      <td>1/5/2016 17:45</td>\n",
              "      <td>Business</td>\n",
              "      <td>Fort Pierce</td>\n",
              "      <td>Fort Pierce</td>\n",
              "      <td>4.7</td>\n",
              "      <td>Meeting</td>\n",
              "    </tr>\n",
              "    <tr>\n",
              "      <th>4</th>\n",
              "      <td>1/6/2016 14:42</td>\n",
              "      <td>1/6/2016 15:49</td>\n",
              "      <td>Business</td>\n",
              "      <td>Fort Pierce</td>\n",
              "      <td>West Palm Beach</td>\n",
              "      <td>63.7</td>\n",
              "      <td>Customer Visit</td>\n",
              "    </tr>\n",
              "    <tr>\n",
              "      <th>5</th>\n",
              "      <td>1/6/2016 17:15</td>\n",
              "      <td>1/6/2016 17:19</td>\n",
              "      <td>Business</td>\n",
              "      <td>West Palm Beach</td>\n",
              "      <td>West Palm Beach</td>\n",
              "      <td>4.3</td>\n",
              "      <td>Meal/Entertain</td>\n",
              "    </tr>\n",
              "    <tr>\n",
              "      <th>6</th>\n",
              "      <td>1/6/2016 17:30</td>\n",
              "      <td>1/6/2016 17:35</td>\n",
              "      <td>Business</td>\n",
              "      <td>West Palm Beach</td>\n",
              "      <td>Palm Beach</td>\n",
              "      <td>7.1</td>\n",
              "      <td>Meeting</td>\n",
              "    </tr>\n",
              "    <tr>\n",
              "      <th>7</th>\n",
              "      <td>1/7/2016 13:27</td>\n",
              "      <td>1/7/2016 13:33</td>\n",
              "      <td>Business</td>\n",
              "      <td>Cary</td>\n",
              "      <td>Cary</td>\n",
              "      <td>0.8</td>\n",
              "      <td>Meeting</td>\n",
              "    </tr>\n",
              "  </tbody>\n",
              "</table>\n",
              "</div>"
            ],
            "text/plain": [
              "      START_DATE*       END_DATE*  ... MILES*         PURPOSE*\n",
              "0  1/1/2016 21:11  1/1/2016 21:17  ...    5.1   Meal/Entertain\n",
              "1   1/2/2016 1:25   1/2/2016 1:37  ...    5.0              NaN\n",
              "2  1/2/2016 20:25  1/2/2016 20:38  ...    4.8  Errand/Supplies\n",
              "3  1/5/2016 17:31  1/5/2016 17:45  ...    4.7          Meeting\n",
              "4  1/6/2016 14:42  1/6/2016 15:49  ...   63.7   Customer Visit\n",
              "5  1/6/2016 17:15  1/6/2016 17:19  ...    4.3   Meal/Entertain\n",
              "6  1/6/2016 17:30  1/6/2016 17:35  ...    7.1          Meeting\n",
              "7  1/7/2016 13:27  1/7/2016 13:33  ...    0.8          Meeting\n",
              "\n",
              "[8 rows x 7 columns]"
            ]
          },
          "metadata": {
            "tags": []
          },
          "execution_count": 5
        }
      ]
    },
    {
      "cell_type": "code",
      "metadata": {
        "id": "Zq-hLyXH73uV",
        "colab_type": "code",
        "colab": {
          "base_uri": "https://localhost:8080/",
          "height": 359
        },
        "outputId": "ae2b5b05-3375-4849-e673-f1365efc806a"
      },
      "source": [
        "#View the last 10 rows of data\n",
        "df.tail(10)"
      ],
      "execution_count": 6,
      "outputs": [
        {
          "output_type": "execute_result",
          "data": {
            "text/html": [
              "<div>\n",
              "<style scoped>\n",
              "    .dataframe tbody tr th:only-of-type {\n",
              "        vertical-align: middle;\n",
              "    }\n",
              "\n",
              "    .dataframe tbody tr th {\n",
              "        vertical-align: top;\n",
              "    }\n",
              "\n",
              "    .dataframe thead th {\n",
              "        text-align: right;\n",
              "    }\n",
              "</style>\n",
              "<table border=\"1\" class=\"dataframe\">\n",
              "  <thead>\n",
              "    <tr style=\"text-align: right;\">\n",
              "      <th></th>\n",
              "      <th>START_DATE*</th>\n",
              "      <th>END_DATE*</th>\n",
              "      <th>CATEGORY*</th>\n",
              "      <th>START*</th>\n",
              "      <th>STOP*</th>\n",
              "      <th>MILES*</th>\n",
              "      <th>PURPOSE*</th>\n",
              "    </tr>\n",
              "  </thead>\n",
              "  <tbody>\n",
              "    <tr>\n",
              "      <th>1146</th>\n",
              "      <td>12/30/2016 11:31</td>\n",
              "      <td>12/30/2016 11:56</td>\n",
              "      <td>Business</td>\n",
              "      <td>Kar?chi</td>\n",
              "      <td>Kar?chi</td>\n",
              "      <td>2.9</td>\n",
              "      <td>Errand/Supplies</td>\n",
              "    </tr>\n",
              "    <tr>\n",
              "      <th>1147</th>\n",
              "      <td>12/30/2016 15:41</td>\n",
              "      <td>12/30/2016 16:03</td>\n",
              "      <td>Business</td>\n",
              "      <td>Kar?chi</td>\n",
              "      <td>Kar?chi</td>\n",
              "      <td>4.6</td>\n",
              "      <td>Errand/Supplies</td>\n",
              "    </tr>\n",
              "    <tr>\n",
              "      <th>1148</th>\n",
              "      <td>12/30/2016 16:45</td>\n",
              "      <td>12/30/2016 17:08</td>\n",
              "      <td>Business</td>\n",
              "      <td>Kar?chi</td>\n",
              "      <td>Kar?chi</td>\n",
              "      <td>4.6</td>\n",
              "      <td>Meeting</td>\n",
              "    </tr>\n",
              "    <tr>\n",
              "      <th>1149</th>\n",
              "      <td>12/30/2016 23:06</td>\n",
              "      <td>12/30/2016 23:10</td>\n",
              "      <td>Business</td>\n",
              "      <td>Kar?chi</td>\n",
              "      <td>Kar?chi</td>\n",
              "      <td>0.8</td>\n",
              "      <td>Customer Visit</td>\n",
              "    </tr>\n",
              "    <tr>\n",
              "      <th>1150</th>\n",
              "      <td>12/31/2016 1:07</td>\n",
              "      <td>12/31/2016 1:14</td>\n",
              "      <td>Business</td>\n",
              "      <td>Kar?chi</td>\n",
              "      <td>Kar?chi</td>\n",
              "      <td>0.7</td>\n",
              "      <td>Meeting</td>\n",
              "    </tr>\n",
              "    <tr>\n",
              "      <th>1151</th>\n",
              "      <td>12/31/2016 13:24</td>\n",
              "      <td>12/31/2016 13:42</td>\n",
              "      <td>Business</td>\n",
              "      <td>Kar?chi</td>\n",
              "      <td>Unknown Location</td>\n",
              "      <td>3.9</td>\n",
              "      <td>Temporary Site</td>\n",
              "    </tr>\n",
              "    <tr>\n",
              "      <th>1152</th>\n",
              "      <td>12/31/2016 15:03</td>\n",
              "      <td>12/31/2016 15:38</td>\n",
              "      <td>Business</td>\n",
              "      <td>Unknown Location</td>\n",
              "      <td>Unknown Location</td>\n",
              "      <td>16.2</td>\n",
              "      <td>Meeting</td>\n",
              "    </tr>\n",
              "    <tr>\n",
              "      <th>1153</th>\n",
              "      <td>12/31/2016 21:32</td>\n",
              "      <td>12/31/2016 21:50</td>\n",
              "      <td>Business</td>\n",
              "      <td>Katunayake</td>\n",
              "      <td>Gampaha</td>\n",
              "      <td>6.4</td>\n",
              "      <td>Temporary Site</td>\n",
              "    </tr>\n",
              "    <tr>\n",
              "      <th>1154</th>\n",
              "      <td>12/31/2016 22:08</td>\n",
              "      <td>12/31/2016 23:51</td>\n",
              "      <td>Business</td>\n",
              "      <td>Gampaha</td>\n",
              "      <td>Ilukwatta</td>\n",
              "      <td>48.2</td>\n",
              "      <td>Temporary Site</td>\n",
              "    </tr>\n",
              "    <tr>\n",
              "      <th>1155</th>\n",
              "      <td>Totals</td>\n",
              "      <td>NaN</td>\n",
              "      <td>NaN</td>\n",
              "      <td>NaN</td>\n",
              "      <td>NaN</td>\n",
              "      <td>12204.7</td>\n",
              "      <td>NaN</td>\n",
              "    </tr>\n",
              "  </tbody>\n",
              "</table>\n",
              "</div>"
            ],
            "text/plain": [
              "           START_DATE*         END_DATE*  ...   MILES*         PURPOSE*\n",
              "1146  12/30/2016 11:31  12/30/2016 11:56  ...      2.9  Errand/Supplies\n",
              "1147  12/30/2016 15:41  12/30/2016 16:03  ...      4.6  Errand/Supplies\n",
              "1148  12/30/2016 16:45  12/30/2016 17:08  ...      4.6          Meeting\n",
              "1149  12/30/2016 23:06  12/30/2016 23:10  ...      0.8   Customer Visit\n",
              "1150   12/31/2016 1:07   12/31/2016 1:14  ...      0.7          Meeting\n",
              "1151  12/31/2016 13:24  12/31/2016 13:42  ...      3.9   Temporary Site\n",
              "1152  12/31/2016 15:03  12/31/2016 15:38  ...     16.2          Meeting\n",
              "1153  12/31/2016 21:32  12/31/2016 21:50  ...      6.4   Temporary Site\n",
              "1154  12/31/2016 22:08  12/31/2016 23:51  ...     48.2   Temporary Site\n",
              "1155            Totals               NaN  ...  12204.7              NaN\n",
              "\n",
              "[10 rows x 7 columns]"
            ]
          },
          "metadata": {
            "tags": []
          },
          "execution_count": 6
        }
      ]
    },
    {
      "cell_type": "code",
      "metadata": {
        "id": "oG5qPCEa73uY",
        "colab_type": "code",
        "colab": {
          "base_uri": "https://localhost:8080/",
          "height": 51
        },
        "outputId": "7a36d667-5349-466a-cf7e-a52d42987aae"
      },
      "source": [
        "# understand shape and size of data \n",
        "print(df.shape)\n",
        "print(df.size)"
      ],
      "execution_count": 7,
      "outputs": [
        {
          "output_type": "stream",
          "text": [
            "(1156, 7)\n",
            "8092\n"
          ],
          "name": "stdout"
        }
      ]
    },
    {
      "cell_type": "code",
      "metadata": {
        "id": "jKJUFnBT73ua",
        "colab_type": "code",
        "colab": {
          "base_uri": "https://localhost:8080/",
          "height": 255
        },
        "outputId": "4d75d3b1-6403-44d8-a1a9-78ae367a8b22"
      },
      "source": [
        "# check info about data (includes column names, the number of non-null values in it, and data-type for each column.)\n",
        "df.info()"
      ],
      "execution_count": 8,
      "outputs": [
        {
          "output_type": "stream",
          "text": [
            "<class 'pandas.core.frame.DataFrame'>\n",
            "RangeIndex: 1156 entries, 0 to 1155\n",
            "Data columns (total 7 columns):\n",
            " #   Column       Non-Null Count  Dtype  \n",
            "---  ------       --------------  -----  \n",
            " 0   START_DATE*  1156 non-null   object \n",
            " 1   END_DATE*    1155 non-null   object \n",
            " 2   CATEGORY*    1155 non-null   object \n",
            " 3   START*       1155 non-null   object \n",
            " 4   STOP*        1155 non-null   object \n",
            " 5   MILES*       1156 non-null   float64\n",
            " 6   PURPOSE*     653 non-null    object \n",
            "dtypes: float64(1), object(6)\n",
            "memory usage: 63.3+ KB\n"
          ],
          "name": "stdout"
        }
      ]
    },
    {
      "cell_type": "code",
      "metadata": {
        "id": "KXbs-K6G73ud",
        "colab_type": "code",
        "colab": {
          "base_uri": "https://localhost:8080/",
          "height": 153
        },
        "outputId": "306ec931-5f86-4887-bb18-c802a92d5b1f"
      },
      "source": [
        "# Same as above, gives non-null number of records\n",
        "df.count()"
      ],
      "execution_count": 9,
      "outputs": [
        {
          "output_type": "execute_result",
          "data": {
            "text/plain": [
              "START_DATE*    1156\n",
              "END_DATE*      1155\n",
              "CATEGORY*      1155\n",
              "START*         1155\n",
              "STOP*          1155\n",
              "MILES*         1156\n",
              "PURPOSE*        653\n",
              "dtype: int64"
            ]
          },
          "metadata": {
            "tags": []
          },
          "execution_count": 9
        }
      ]
    },
    {
      "cell_type": "markdown",
      "metadata": {
        "id": "Omq73OvI73uf",
        "colab_type": "text"
      },
      "source": [
        "1. PURPOSE column has lots of missing values  \n",
        "2. 1155 or 1156 records ??"
      ]
    },
    {
      "cell_type": "code",
      "metadata": {
        "id": "3S6zWaci73ui",
        "colab_type": "code",
        "colab": {
          "base_uri": "https://localhost:8080/",
          "height": 34
        },
        "outputId": "4377a4b1-36ab-4f8f-8fcc-3e6fd70dd782"
      },
      "source": [
        "# Is any of the values in the df null?  (# Useful in writing validation scripts on large number of files )\n",
        "df.isnull().any().any()"
      ],
      "execution_count": 10,
      "outputs": [
        {
          "output_type": "execute_result",
          "data": {
            "text/plain": [
              "True"
            ]
          },
          "metadata": {
            "tags": []
          },
          "execution_count": 10
        }
      ]
    },
    {
      "cell_type": "code",
      "metadata": {
        "id": "ojDpH4_V73uk",
        "colab_type": "code",
        "colab": {
          "base_uri": "https://localhost:8080/",
          "height": 153
        },
        "outputId": "1eca11ac-d253-4c14-e21d-3470319b163c"
      },
      "source": [
        "#Is any of the values in columns of the df null ? ( # Useful in writing validation scripts on large number of files )\n",
        "df.isnull().any() "
      ],
      "execution_count": 11,
      "outputs": [
        {
          "output_type": "execute_result",
          "data": {
            "text/plain": [
              "START_DATE*    False\n",
              "END_DATE*       True\n",
              "CATEGORY*       True\n",
              "START*          True\n",
              "STOP*           True\n",
              "MILES*         False\n",
              "PURPOSE*        True\n",
              "dtype: bool"
            ]
          },
          "metadata": {
            "tags": []
          },
          "execution_count": 11
        }
      ]
    },
    {
      "cell_type": "code",
      "metadata": {
        "id": "NOODK6E-73un",
        "colab_type": "code",
        "colab": {}
      },
      "source": [
        "null_cols = df.columns[df.isnull().any()]\n",
        "null_cols = list(null_cols)\n",
        "#Get the columns into a list and do use it to do some operations"
      ],
      "execution_count": 12,
      "outputs": []
    },
    {
      "cell_type": "code",
      "metadata": {
        "id": "y1bRbOJ773ug",
        "colab_type": "code",
        "colab": {
          "base_uri": "https://localhost:8080/",
          "height": 153
        },
        "outputId": "90d46cf3-c285-4f6a-f6c6-3c40e01e1d1e"
      },
      "source": [
        "# isnull() function checks the number of null values and sum() function sums up the count of these.\n",
        "# Shows the column wise values of missing data\n",
        "df.isnull().sum()"
      ],
      "execution_count": 13,
      "outputs": [
        {
          "output_type": "execute_result",
          "data": {
            "text/plain": [
              "START_DATE*      0\n",
              "END_DATE*        1\n",
              "CATEGORY*        1\n",
              "START*           1\n",
              "STOP*            1\n",
              "MILES*           0\n",
              "PURPOSE*       503\n",
              "dtype: int64"
            ]
          },
          "metadata": {
            "tags": []
          },
          "execution_count": 13
        }
      ]
    },
    {
      "cell_type": "markdown",
      "metadata": {
        "id": "1xhOfheZ73ur",
        "colab_type": "text"
      },
      "source": [
        "Show the records with missing values for column= PURPOSE "
      ]
    },
    {
      "cell_type": "code",
      "metadata": {
        "id": "0vCMvVsv73us",
        "colab_type": "code",
        "colab": {
          "base_uri": "https://localhost:8080/",
          "height": 419
        },
        "outputId": "7357fb27-2fe2-415d-aaeb-aa945f466b31"
      },
      "source": [
        "df[df['PURPOSE*'].isnull()]\n",
        "# you can as well do a head() function on this to just view the first n rows"
      ],
      "execution_count": 14,
      "outputs": [
        {
          "output_type": "execute_result",
          "data": {
            "text/html": [
              "<div>\n",
              "<style scoped>\n",
              "    .dataframe tbody tr th:only-of-type {\n",
              "        vertical-align: middle;\n",
              "    }\n",
              "\n",
              "    .dataframe tbody tr th {\n",
              "        vertical-align: top;\n",
              "    }\n",
              "\n",
              "    .dataframe thead th {\n",
              "        text-align: right;\n",
              "    }\n",
              "</style>\n",
              "<table border=\"1\" class=\"dataframe\">\n",
              "  <thead>\n",
              "    <tr style=\"text-align: right;\">\n",
              "      <th></th>\n",
              "      <th>START_DATE*</th>\n",
              "      <th>END_DATE*</th>\n",
              "      <th>CATEGORY*</th>\n",
              "      <th>START*</th>\n",
              "      <th>STOP*</th>\n",
              "      <th>MILES*</th>\n",
              "      <th>PURPOSE*</th>\n",
              "    </tr>\n",
              "  </thead>\n",
              "  <tbody>\n",
              "    <tr>\n",
              "      <th>1</th>\n",
              "      <td>1/2/2016 1:25</td>\n",
              "      <td>1/2/2016 1:37</td>\n",
              "      <td>Business</td>\n",
              "      <td>Fort Pierce</td>\n",
              "      <td>Fort Pierce</td>\n",
              "      <td>5.0</td>\n",
              "      <td>NaN</td>\n",
              "    </tr>\n",
              "    <tr>\n",
              "      <th>32</th>\n",
              "      <td>1/19/2016 9:09</td>\n",
              "      <td>1/19/2016 9:23</td>\n",
              "      <td>Business</td>\n",
              "      <td>Whitebridge</td>\n",
              "      <td>Lake Wellingborough</td>\n",
              "      <td>7.2</td>\n",
              "      <td>NaN</td>\n",
              "    </tr>\n",
              "    <tr>\n",
              "      <th>85</th>\n",
              "      <td>2/9/2016 10:54</td>\n",
              "      <td>2/9/2016 11:07</td>\n",
              "      <td>Personal</td>\n",
              "      <td>Whitebridge</td>\n",
              "      <td>Northwoods</td>\n",
              "      <td>5.3</td>\n",
              "      <td>NaN</td>\n",
              "    </tr>\n",
              "    <tr>\n",
              "      <th>86</th>\n",
              "      <td>2/9/2016 11:43</td>\n",
              "      <td>2/9/2016 11:50</td>\n",
              "      <td>Personal</td>\n",
              "      <td>Northwoods</td>\n",
              "      <td>Tanglewood</td>\n",
              "      <td>3.0</td>\n",
              "      <td>NaN</td>\n",
              "    </tr>\n",
              "    <tr>\n",
              "      <th>87</th>\n",
              "      <td>2/9/2016 13:36</td>\n",
              "      <td>2/9/2016 13:52</td>\n",
              "      <td>Personal</td>\n",
              "      <td>Tanglewood</td>\n",
              "      <td>Preston</td>\n",
              "      <td>5.1</td>\n",
              "      <td>NaN</td>\n",
              "    </tr>\n",
              "    <tr>\n",
              "      <th>...</th>\n",
              "      <td>...</td>\n",
              "      <td>...</td>\n",
              "      <td>...</td>\n",
              "      <td>...</td>\n",
              "      <td>...</td>\n",
              "      <td>...</td>\n",
              "      <td>...</td>\n",
              "    </tr>\n",
              "    <tr>\n",
              "      <th>1066</th>\n",
              "      <td>12/19/2016 14:37</td>\n",
              "      <td>12/19/2016 14:50</td>\n",
              "      <td>Business</td>\n",
              "      <td>Unknown Location</td>\n",
              "      <td>Unknown Location</td>\n",
              "      <td>5.4</td>\n",
              "      <td>NaN</td>\n",
              "    </tr>\n",
              "    <tr>\n",
              "      <th>1069</th>\n",
              "      <td>12/19/2016 19:05</td>\n",
              "      <td>12/19/2016 19:17</td>\n",
              "      <td>Business</td>\n",
              "      <td>Islamabad</td>\n",
              "      <td>Unknown Location</td>\n",
              "      <td>2.2</td>\n",
              "      <td>NaN</td>\n",
              "    </tr>\n",
              "    <tr>\n",
              "      <th>1071</th>\n",
              "      <td>12/20/2016 8:49</td>\n",
              "      <td>12/20/2016 9:24</td>\n",
              "      <td>Business</td>\n",
              "      <td>Unknown Location</td>\n",
              "      <td>Rawalpindi</td>\n",
              "      <td>12.0</td>\n",
              "      <td>NaN</td>\n",
              "    </tr>\n",
              "    <tr>\n",
              "      <th>1143</th>\n",
              "      <td>12/29/2016 20:53</td>\n",
              "      <td>12/29/2016 21:42</td>\n",
              "      <td>Business</td>\n",
              "      <td>Kar?chi</td>\n",
              "      <td>Unknown Location</td>\n",
              "      <td>6.4</td>\n",
              "      <td>NaN</td>\n",
              "    </tr>\n",
              "    <tr>\n",
              "      <th>1155</th>\n",
              "      <td>Totals</td>\n",
              "      <td>NaN</td>\n",
              "      <td>NaN</td>\n",
              "      <td>NaN</td>\n",
              "      <td>NaN</td>\n",
              "      <td>12204.7</td>\n",
              "      <td>NaN</td>\n",
              "    </tr>\n",
              "  </tbody>\n",
              "</table>\n",
              "<p>503 rows × 7 columns</p>\n",
              "</div>"
            ],
            "text/plain": [
              "           START_DATE*         END_DATE*  ...   MILES* PURPOSE*\n",
              "1        1/2/2016 1:25     1/2/2016 1:37  ...      5.0      NaN\n",
              "32      1/19/2016 9:09    1/19/2016 9:23  ...      7.2      NaN\n",
              "85      2/9/2016 10:54    2/9/2016 11:07  ...      5.3      NaN\n",
              "86      2/9/2016 11:43    2/9/2016 11:50  ...      3.0      NaN\n",
              "87      2/9/2016 13:36    2/9/2016 13:52  ...      5.1      NaN\n",
              "...                ...               ...  ...      ...      ...\n",
              "1066  12/19/2016 14:37  12/19/2016 14:50  ...      5.4      NaN\n",
              "1069  12/19/2016 19:05  12/19/2016 19:17  ...      2.2      NaN\n",
              "1071   12/20/2016 8:49   12/20/2016 9:24  ...     12.0      NaN\n",
              "1143  12/29/2016 20:53  12/29/2016 21:42  ...      6.4      NaN\n",
              "1155            Totals               NaN  ...  12204.7      NaN\n",
              "\n",
              "[503 rows x 7 columns]"
            ]
          },
          "metadata": {
            "tags": []
          },
          "execution_count": 14
        }
      ]
    },
    {
      "cell_type": "markdown",
      "metadata": {
        "id": "SS8i8JjO73uu",
        "colab_type": "text"
      },
      "source": [
        "How many records are non-null  / have values ( in a particular column )"
      ]
    },
    {
      "cell_type": "code",
      "metadata": {
        "id": "WI00GfPC73uu",
        "colab_type": "code",
        "colab": {
          "base_uri": "https://localhost:8080/",
          "height": 34
        },
        "outputId": "cd463441-07cf-4d1b-bd97-7f37c1419d1f"
      },
      "source": [
        "df['PURPOSE*'].count()"
      ],
      "execution_count": 15,
      "outputs": [
        {
          "output_type": "execute_result",
          "data": {
            "text/plain": [
              "653"
            ]
          },
          "metadata": {
            "tags": []
          },
          "execution_count": 15
        }
      ]
    },
    {
      "cell_type": "markdown",
      "metadata": {
        "id": "PgNx3U4j73ux",
        "colab_type": "text"
      },
      "source": [
        "### Renaming columns"
      ]
    },
    {
      "cell_type": "code",
      "metadata": {
        "id": "j0YgTTz-73ux",
        "colab_type": "code",
        "colab": {
          "base_uri": "https://localhost:8080/",
          "height": 204
        },
        "outputId": "92bc3544-8f0f-4b70-d3e7-156b676c777b"
      },
      "source": [
        "# Rename the columns to remove the * from the names\n",
        "# Why ? we can use df.START_DATE same way as  df['START_DATE*']\n",
        "col_names = ['START_DATE','END_DATE','CAT', 'START' , 'STOP' , 'MILES','PURPOSE']\n",
        "df.columns = col_names\n",
        "\n",
        "\n",
        "#or \n",
        "# Replace the * character from all the  columns .\n",
        "# ( in case you have many columns and cant manually write the column names )\n",
        "df.columns = df.columns.str.replace(\"*\", \"\")\n",
        "\n",
        "# You can also rename the specific column names \n",
        "df.rename( columns = {'CAT':'CATEGORY'})\n",
        "df.head()"
      ],
      "execution_count": 16,
      "outputs": [
        {
          "output_type": "execute_result",
          "data": {
            "text/html": [
              "<div>\n",
              "<style scoped>\n",
              "    .dataframe tbody tr th:only-of-type {\n",
              "        vertical-align: middle;\n",
              "    }\n",
              "\n",
              "    .dataframe tbody tr th {\n",
              "        vertical-align: top;\n",
              "    }\n",
              "\n",
              "    .dataframe thead th {\n",
              "        text-align: right;\n",
              "    }\n",
              "</style>\n",
              "<table border=\"1\" class=\"dataframe\">\n",
              "  <thead>\n",
              "    <tr style=\"text-align: right;\">\n",
              "      <th></th>\n",
              "      <th>START_DATE</th>\n",
              "      <th>END_DATE</th>\n",
              "      <th>CAT</th>\n",
              "      <th>START</th>\n",
              "      <th>STOP</th>\n",
              "      <th>MILES</th>\n",
              "      <th>PURPOSE</th>\n",
              "    </tr>\n",
              "  </thead>\n",
              "  <tbody>\n",
              "    <tr>\n",
              "      <th>0</th>\n",
              "      <td>1/1/2016 21:11</td>\n",
              "      <td>1/1/2016 21:17</td>\n",
              "      <td>Business</td>\n",
              "      <td>Fort Pierce</td>\n",
              "      <td>Fort Pierce</td>\n",
              "      <td>5.1</td>\n",
              "      <td>Meal/Entertain</td>\n",
              "    </tr>\n",
              "    <tr>\n",
              "      <th>1</th>\n",
              "      <td>1/2/2016 1:25</td>\n",
              "      <td>1/2/2016 1:37</td>\n",
              "      <td>Business</td>\n",
              "      <td>Fort Pierce</td>\n",
              "      <td>Fort Pierce</td>\n",
              "      <td>5.0</td>\n",
              "      <td>NaN</td>\n",
              "    </tr>\n",
              "    <tr>\n",
              "      <th>2</th>\n",
              "      <td>1/2/2016 20:25</td>\n",
              "      <td>1/2/2016 20:38</td>\n",
              "      <td>Business</td>\n",
              "      <td>Fort Pierce</td>\n",
              "      <td>Fort Pierce</td>\n",
              "      <td>4.8</td>\n",
              "      <td>Errand/Supplies</td>\n",
              "    </tr>\n",
              "    <tr>\n",
              "      <th>3</th>\n",
              "      <td>1/5/2016 17:31</td>\n",
              "      <td>1/5/2016 17:45</td>\n",
              "      <td>Business</td>\n",
              "      <td>Fort Pierce</td>\n",
              "      <td>Fort Pierce</td>\n",
              "      <td>4.7</td>\n",
              "      <td>Meeting</td>\n",
              "    </tr>\n",
              "    <tr>\n",
              "      <th>4</th>\n",
              "      <td>1/6/2016 14:42</td>\n",
              "      <td>1/6/2016 15:49</td>\n",
              "      <td>Business</td>\n",
              "      <td>Fort Pierce</td>\n",
              "      <td>West Palm Beach</td>\n",
              "      <td>63.7</td>\n",
              "      <td>Customer Visit</td>\n",
              "    </tr>\n",
              "  </tbody>\n",
              "</table>\n",
              "</div>"
            ],
            "text/plain": [
              "       START_DATE        END_DATE  ... MILES          PURPOSE\n",
              "0  1/1/2016 21:11  1/1/2016 21:17  ...   5.1   Meal/Entertain\n",
              "1   1/2/2016 1:25   1/2/2016 1:37  ...   5.0              NaN\n",
              "2  1/2/2016 20:25  1/2/2016 20:38  ...   4.8  Errand/Supplies\n",
              "3  1/5/2016 17:31  1/5/2016 17:45  ...   4.7          Meeting\n",
              "4  1/6/2016 14:42  1/6/2016 15:49  ...  63.7   Customer Visit\n",
              "\n",
              "[5 rows x 7 columns]"
            ]
          },
          "metadata": {
            "tags": []
          },
          "execution_count": 16
        }
      ]
    },
    {
      "cell_type": "code",
      "metadata": {
        "id": "43_bNWl_73uz",
        "colab_type": "code",
        "colab": {
          "base_uri": "https://localhost:8080/",
          "height": 204
        },
        "outputId": "a7a30ad0-a4a2-41c3-8e82-1b3e4f19a6bd"
      },
      "source": [
        "df.head()"
      ],
      "execution_count": 17,
      "outputs": [
        {
          "output_type": "execute_result",
          "data": {
            "text/html": [
              "<div>\n",
              "<style scoped>\n",
              "    .dataframe tbody tr th:only-of-type {\n",
              "        vertical-align: middle;\n",
              "    }\n",
              "\n",
              "    .dataframe tbody tr th {\n",
              "        vertical-align: top;\n",
              "    }\n",
              "\n",
              "    .dataframe thead th {\n",
              "        text-align: right;\n",
              "    }\n",
              "</style>\n",
              "<table border=\"1\" class=\"dataframe\">\n",
              "  <thead>\n",
              "    <tr style=\"text-align: right;\">\n",
              "      <th></th>\n",
              "      <th>START_DATE</th>\n",
              "      <th>END_DATE</th>\n",
              "      <th>CAT</th>\n",
              "      <th>START</th>\n",
              "      <th>STOP</th>\n",
              "      <th>MILES</th>\n",
              "      <th>PURPOSE</th>\n",
              "    </tr>\n",
              "  </thead>\n",
              "  <tbody>\n",
              "    <tr>\n",
              "      <th>0</th>\n",
              "      <td>1/1/2016 21:11</td>\n",
              "      <td>1/1/2016 21:17</td>\n",
              "      <td>Business</td>\n",
              "      <td>Fort Pierce</td>\n",
              "      <td>Fort Pierce</td>\n",
              "      <td>5.1</td>\n",
              "      <td>Meal/Entertain</td>\n",
              "    </tr>\n",
              "    <tr>\n",
              "      <th>1</th>\n",
              "      <td>1/2/2016 1:25</td>\n",
              "      <td>1/2/2016 1:37</td>\n",
              "      <td>Business</td>\n",
              "      <td>Fort Pierce</td>\n",
              "      <td>Fort Pierce</td>\n",
              "      <td>5.0</td>\n",
              "      <td>NaN</td>\n",
              "    </tr>\n",
              "    <tr>\n",
              "      <th>2</th>\n",
              "      <td>1/2/2016 20:25</td>\n",
              "      <td>1/2/2016 20:38</td>\n",
              "      <td>Business</td>\n",
              "      <td>Fort Pierce</td>\n",
              "      <td>Fort Pierce</td>\n",
              "      <td>4.8</td>\n",
              "      <td>Errand/Supplies</td>\n",
              "    </tr>\n",
              "    <tr>\n",
              "      <th>3</th>\n",
              "      <td>1/5/2016 17:31</td>\n",
              "      <td>1/5/2016 17:45</td>\n",
              "      <td>Business</td>\n",
              "      <td>Fort Pierce</td>\n",
              "      <td>Fort Pierce</td>\n",
              "      <td>4.7</td>\n",
              "      <td>Meeting</td>\n",
              "    </tr>\n",
              "    <tr>\n",
              "      <th>4</th>\n",
              "      <td>1/6/2016 14:42</td>\n",
              "      <td>1/6/2016 15:49</td>\n",
              "      <td>Business</td>\n",
              "      <td>Fort Pierce</td>\n",
              "      <td>West Palm Beach</td>\n",
              "      <td>63.7</td>\n",
              "      <td>Customer Visit</td>\n",
              "    </tr>\n",
              "  </tbody>\n",
              "</table>\n",
              "</div>"
            ],
            "text/plain": [
              "       START_DATE        END_DATE  ... MILES          PURPOSE\n",
              "0  1/1/2016 21:11  1/1/2016 21:17  ...   5.1   Meal/Entertain\n",
              "1   1/2/2016 1:25   1/2/2016 1:37  ...   5.0              NaN\n",
              "2  1/2/2016 20:25  1/2/2016 20:38  ...   4.8  Errand/Supplies\n",
              "3  1/5/2016 17:31  1/5/2016 17:45  ...   4.7          Meeting\n",
              "4  1/6/2016 14:42  1/6/2016 15:49  ...  63.7   Customer Visit\n",
              "\n",
              "[5 rows x 7 columns]"
            ]
          },
          "metadata": {
            "tags": []
          },
          "execution_count": 17
        }
      ]
    },
    {
      "cell_type": "markdown",
      "metadata": {
        "id": "Ebt8vpgH73u3",
        "colab_type": "text"
      },
      "source": [
        "### Filtering dataframes -1 "
      ]
    },
    {
      "cell_type": "code",
      "metadata": {
        "id": "AA1Def0u73u3",
        "colab_type": "code",
        "colab": {
          "base_uri": "https://localhost:8080/",
          "height": 419
        },
        "outputId": "06b8ba30-5d85-45d8-8bbb-fcacd907526b"
      },
      "source": [
        "# shows the entries where PURPOSE is null\n",
        "df[df.PURPOSE.isnull()]"
      ],
      "execution_count": 18,
      "outputs": [
        {
          "output_type": "execute_result",
          "data": {
            "text/html": [
              "<div>\n",
              "<style scoped>\n",
              "    .dataframe tbody tr th:only-of-type {\n",
              "        vertical-align: middle;\n",
              "    }\n",
              "\n",
              "    .dataframe tbody tr th {\n",
              "        vertical-align: top;\n",
              "    }\n",
              "\n",
              "    .dataframe thead th {\n",
              "        text-align: right;\n",
              "    }\n",
              "</style>\n",
              "<table border=\"1\" class=\"dataframe\">\n",
              "  <thead>\n",
              "    <tr style=\"text-align: right;\">\n",
              "      <th></th>\n",
              "      <th>START_DATE</th>\n",
              "      <th>END_DATE</th>\n",
              "      <th>CAT</th>\n",
              "      <th>START</th>\n",
              "      <th>STOP</th>\n",
              "      <th>MILES</th>\n",
              "      <th>PURPOSE</th>\n",
              "    </tr>\n",
              "  </thead>\n",
              "  <tbody>\n",
              "    <tr>\n",
              "      <th>1</th>\n",
              "      <td>1/2/2016 1:25</td>\n",
              "      <td>1/2/2016 1:37</td>\n",
              "      <td>Business</td>\n",
              "      <td>Fort Pierce</td>\n",
              "      <td>Fort Pierce</td>\n",
              "      <td>5.0</td>\n",
              "      <td>NaN</td>\n",
              "    </tr>\n",
              "    <tr>\n",
              "      <th>32</th>\n",
              "      <td>1/19/2016 9:09</td>\n",
              "      <td>1/19/2016 9:23</td>\n",
              "      <td>Business</td>\n",
              "      <td>Whitebridge</td>\n",
              "      <td>Lake Wellingborough</td>\n",
              "      <td>7.2</td>\n",
              "      <td>NaN</td>\n",
              "    </tr>\n",
              "    <tr>\n",
              "      <th>85</th>\n",
              "      <td>2/9/2016 10:54</td>\n",
              "      <td>2/9/2016 11:07</td>\n",
              "      <td>Personal</td>\n",
              "      <td>Whitebridge</td>\n",
              "      <td>Northwoods</td>\n",
              "      <td>5.3</td>\n",
              "      <td>NaN</td>\n",
              "    </tr>\n",
              "    <tr>\n",
              "      <th>86</th>\n",
              "      <td>2/9/2016 11:43</td>\n",
              "      <td>2/9/2016 11:50</td>\n",
              "      <td>Personal</td>\n",
              "      <td>Northwoods</td>\n",
              "      <td>Tanglewood</td>\n",
              "      <td>3.0</td>\n",
              "      <td>NaN</td>\n",
              "    </tr>\n",
              "    <tr>\n",
              "      <th>87</th>\n",
              "      <td>2/9/2016 13:36</td>\n",
              "      <td>2/9/2016 13:52</td>\n",
              "      <td>Personal</td>\n",
              "      <td>Tanglewood</td>\n",
              "      <td>Preston</td>\n",
              "      <td>5.1</td>\n",
              "      <td>NaN</td>\n",
              "    </tr>\n",
              "    <tr>\n",
              "      <th>...</th>\n",
              "      <td>...</td>\n",
              "      <td>...</td>\n",
              "      <td>...</td>\n",
              "      <td>...</td>\n",
              "      <td>...</td>\n",
              "      <td>...</td>\n",
              "      <td>...</td>\n",
              "    </tr>\n",
              "    <tr>\n",
              "      <th>1066</th>\n",
              "      <td>12/19/2016 14:37</td>\n",
              "      <td>12/19/2016 14:50</td>\n",
              "      <td>Business</td>\n",
              "      <td>Unknown Location</td>\n",
              "      <td>Unknown Location</td>\n",
              "      <td>5.4</td>\n",
              "      <td>NaN</td>\n",
              "    </tr>\n",
              "    <tr>\n",
              "      <th>1069</th>\n",
              "      <td>12/19/2016 19:05</td>\n",
              "      <td>12/19/2016 19:17</td>\n",
              "      <td>Business</td>\n",
              "      <td>Islamabad</td>\n",
              "      <td>Unknown Location</td>\n",
              "      <td>2.2</td>\n",
              "      <td>NaN</td>\n",
              "    </tr>\n",
              "    <tr>\n",
              "      <th>1071</th>\n",
              "      <td>12/20/2016 8:49</td>\n",
              "      <td>12/20/2016 9:24</td>\n",
              "      <td>Business</td>\n",
              "      <td>Unknown Location</td>\n",
              "      <td>Rawalpindi</td>\n",
              "      <td>12.0</td>\n",
              "      <td>NaN</td>\n",
              "    </tr>\n",
              "    <tr>\n",
              "      <th>1143</th>\n",
              "      <td>12/29/2016 20:53</td>\n",
              "      <td>12/29/2016 21:42</td>\n",
              "      <td>Business</td>\n",
              "      <td>Kar?chi</td>\n",
              "      <td>Unknown Location</td>\n",
              "      <td>6.4</td>\n",
              "      <td>NaN</td>\n",
              "    </tr>\n",
              "    <tr>\n",
              "      <th>1155</th>\n",
              "      <td>Totals</td>\n",
              "      <td>NaN</td>\n",
              "      <td>NaN</td>\n",
              "      <td>NaN</td>\n",
              "      <td>NaN</td>\n",
              "      <td>12204.7</td>\n",
              "      <td>NaN</td>\n",
              "    </tr>\n",
              "  </tbody>\n",
              "</table>\n",
              "<p>503 rows × 7 columns</p>\n",
              "</div>"
            ],
            "text/plain": [
              "            START_DATE          END_DATE  ...    MILES PURPOSE\n",
              "1        1/2/2016 1:25     1/2/2016 1:37  ...      5.0     NaN\n",
              "32      1/19/2016 9:09    1/19/2016 9:23  ...      7.2     NaN\n",
              "85      2/9/2016 10:54    2/9/2016 11:07  ...      5.3     NaN\n",
              "86      2/9/2016 11:43    2/9/2016 11:50  ...      3.0     NaN\n",
              "87      2/9/2016 13:36    2/9/2016 13:52  ...      5.1     NaN\n",
              "...                ...               ...  ...      ...     ...\n",
              "1066  12/19/2016 14:37  12/19/2016 14:50  ...      5.4     NaN\n",
              "1069  12/19/2016 19:05  12/19/2016 19:17  ...      2.2     NaN\n",
              "1071   12/20/2016 8:49   12/20/2016 9:24  ...     12.0     NaN\n",
              "1143  12/29/2016 20:53  12/29/2016 21:42  ...      6.4     NaN\n",
              "1155            Totals               NaN  ...  12204.7     NaN\n",
              "\n",
              "[503 rows x 7 columns]"
            ]
          },
          "metadata": {
            "tags": []
          },
          "execution_count": 18
        }
      ]
    },
    {
      "cell_type": "code",
      "metadata": {
        "id": "kLcmzTuSAK1V",
        "colab_type": "code",
        "colab": {
          "base_uri": "https://localhost:8080/",
          "height": 419
        },
        "outputId": "1eb2ab6d-02ad-4f6f-bcb3-32bf77414469"
      },
      "source": [
        "# inverting the selection ( not null ) ( works for booleans cases)\n",
        "df[~df.PURPOSE.isnull()]"
      ],
      "execution_count": 19,
      "outputs": [
        {
          "output_type": "execute_result",
          "data": {
            "text/html": [
              "<div>\n",
              "<style scoped>\n",
              "    .dataframe tbody tr th:only-of-type {\n",
              "        vertical-align: middle;\n",
              "    }\n",
              "\n",
              "    .dataframe tbody tr th {\n",
              "        vertical-align: top;\n",
              "    }\n",
              "\n",
              "    .dataframe thead th {\n",
              "        text-align: right;\n",
              "    }\n",
              "</style>\n",
              "<table border=\"1\" class=\"dataframe\">\n",
              "  <thead>\n",
              "    <tr style=\"text-align: right;\">\n",
              "      <th></th>\n",
              "      <th>START_DATE</th>\n",
              "      <th>END_DATE</th>\n",
              "      <th>CAT</th>\n",
              "      <th>START</th>\n",
              "      <th>STOP</th>\n",
              "      <th>MILES</th>\n",
              "      <th>PURPOSE</th>\n",
              "    </tr>\n",
              "  </thead>\n",
              "  <tbody>\n",
              "    <tr>\n",
              "      <th>0</th>\n",
              "      <td>1/1/2016 21:11</td>\n",
              "      <td>1/1/2016 21:17</td>\n",
              "      <td>Business</td>\n",
              "      <td>Fort Pierce</td>\n",
              "      <td>Fort Pierce</td>\n",
              "      <td>5.1</td>\n",
              "      <td>Meal/Entertain</td>\n",
              "    </tr>\n",
              "    <tr>\n",
              "      <th>2</th>\n",
              "      <td>1/2/2016 20:25</td>\n",
              "      <td>1/2/2016 20:38</td>\n",
              "      <td>Business</td>\n",
              "      <td>Fort Pierce</td>\n",
              "      <td>Fort Pierce</td>\n",
              "      <td>4.8</td>\n",
              "      <td>Errand/Supplies</td>\n",
              "    </tr>\n",
              "    <tr>\n",
              "      <th>3</th>\n",
              "      <td>1/5/2016 17:31</td>\n",
              "      <td>1/5/2016 17:45</td>\n",
              "      <td>Business</td>\n",
              "      <td>Fort Pierce</td>\n",
              "      <td>Fort Pierce</td>\n",
              "      <td>4.7</td>\n",
              "      <td>Meeting</td>\n",
              "    </tr>\n",
              "    <tr>\n",
              "      <th>4</th>\n",
              "      <td>1/6/2016 14:42</td>\n",
              "      <td>1/6/2016 15:49</td>\n",
              "      <td>Business</td>\n",
              "      <td>Fort Pierce</td>\n",
              "      <td>West Palm Beach</td>\n",
              "      <td>63.7</td>\n",
              "      <td>Customer Visit</td>\n",
              "    </tr>\n",
              "    <tr>\n",
              "      <th>5</th>\n",
              "      <td>1/6/2016 17:15</td>\n",
              "      <td>1/6/2016 17:19</td>\n",
              "      <td>Business</td>\n",
              "      <td>West Palm Beach</td>\n",
              "      <td>West Palm Beach</td>\n",
              "      <td>4.3</td>\n",
              "      <td>Meal/Entertain</td>\n",
              "    </tr>\n",
              "    <tr>\n",
              "      <th>...</th>\n",
              "      <td>...</td>\n",
              "      <td>...</td>\n",
              "      <td>...</td>\n",
              "      <td>...</td>\n",
              "      <td>...</td>\n",
              "      <td>...</td>\n",
              "      <td>...</td>\n",
              "    </tr>\n",
              "    <tr>\n",
              "      <th>1150</th>\n",
              "      <td>12/31/2016 1:07</td>\n",
              "      <td>12/31/2016 1:14</td>\n",
              "      <td>Business</td>\n",
              "      <td>Kar?chi</td>\n",
              "      <td>Kar?chi</td>\n",
              "      <td>0.7</td>\n",
              "      <td>Meeting</td>\n",
              "    </tr>\n",
              "    <tr>\n",
              "      <th>1151</th>\n",
              "      <td>12/31/2016 13:24</td>\n",
              "      <td>12/31/2016 13:42</td>\n",
              "      <td>Business</td>\n",
              "      <td>Kar?chi</td>\n",
              "      <td>Unknown Location</td>\n",
              "      <td>3.9</td>\n",
              "      <td>Temporary Site</td>\n",
              "    </tr>\n",
              "    <tr>\n",
              "      <th>1152</th>\n",
              "      <td>12/31/2016 15:03</td>\n",
              "      <td>12/31/2016 15:38</td>\n",
              "      <td>Business</td>\n",
              "      <td>Unknown Location</td>\n",
              "      <td>Unknown Location</td>\n",
              "      <td>16.2</td>\n",
              "      <td>Meeting</td>\n",
              "    </tr>\n",
              "    <tr>\n",
              "      <th>1153</th>\n",
              "      <td>12/31/2016 21:32</td>\n",
              "      <td>12/31/2016 21:50</td>\n",
              "      <td>Business</td>\n",
              "      <td>Katunayake</td>\n",
              "      <td>Gampaha</td>\n",
              "      <td>6.4</td>\n",
              "      <td>Temporary Site</td>\n",
              "    </tr>\n",
              "    <tr>\n",
              "      <th>1154</th>\n",
              "      <td>12/31/2016 22:08</td>\n",
              "      <td>12/31/2016 23:51</td>\n",
              "      <td>Business</td>\n",
              "      <td>Gampaha</td>\n",
              "      <td>Ilukwatta</td>\n",
              "      <td>48.2</td>\n",
              "      <td>Temporary Site</td>\n",
              "    </tr>\n",
              "  </tbody>\n",
              "</table>\n",
              "<p>653 rows × 7 columns</p>\n",
              "</div>"
            ],
            "text/plain": [
              "            START_DATE          END_DATE  ... MILES          PURPOSE\n",
              "0       1/1/2016 21:11    1/1/2016 21:17  ...   5.1   Meal/Entertain\n",
              "2       1/2/2016 20:25    1/2/2016 20:38  ...   4.8  Errand/Supplies\n",
              "3       1/5/2016 17:31    1/5/2016 17:45  ...   4.7          Meeting\n",
              "4       1/6/2016 14:42    1/6/2016 15:49  ...  63.7   Customer Visit\n",
              "5       1/6/2016 17:15    1/6/2016 17:19  ...   4.3   Meal/Entertain\n",
              "...                ...               ...  ...   ...              ...\n",
              "1150   12/31/2016 1:07   12/31/2016 1:14  ...   0.7          Meeting\n",
              "1151  12/31/2016 13:24  12/31/2016 13:42  ...   3.9   Temporary Site\n",
              "1152  12/31/2016 15:03  12/31/2016 15:38  ...  16.2          Meeting\n",
              "1153  12/31/2016 21:32  12/31/2016 21:50  ...   6.4   Temporary Site\n",
              "1154  12/31/2016 22:08  12/31/2016 23:51  ...  48.2   Temporary Site\n",
              "\n",
              "[653 rows x 7 columns]"
            ]
          },
          "metadata": {
            "tags": []
          },
          "execution_count": 19
        }
      ]
    },
    {
      "cell_type": "markdown",
      "metadata": {
        "id": "0mGILHvP73u5",
        "colab_type": "text"
      },
      "source": [
        "### Filtering dataframe - 2 "
      ]
    },
    {
      "cell_type": "code",
      "metadata": {
        "id": "x3eNeRib73u5",
        "colab_type": "code",
        "colab": {
          "base_uri": "https://localhost:8080/",
          "height": 1000
        },
        "outputId": "2f75e4e2-9c8f-4a10-bc9b-5dfad1b7a96a"
      },
      "source": [
        "#1. Conditions within dataframe \n",
        "df[df['MILES'] > 30]"
      ],
      "execution_count": 20,
      "outputs": [
        {
          "output_type": "execute_result",
          "data": {
            "text/html": [
              "<div>\n",
              "<style scoped>\n",
              "    .dataframe tbody tr th:only-of-type {\n",
              "        vertical-align: middle;\n",
              "    }\n",
              "\n",
              "    .dataframe tbody tr th {\n",
              "        vertical-align: top;\n",
              "    }\n",
              "\n",
              "    .dataframe thead th {\n",
              "        text-align: right;\n",
              "    }\n",
              "</style>\n",
              "<table border=\"1\" class=\"dataframe\">\n",
              "  <thead>\n",
              "    <tr style=\"text-align: right;\">\n",
              "      <th></th>\n",
              "      <th>START_DATE</th>\n",
              "      <th>END_DATE</th>\n",
              "      <th>CAT</th>\n",
              "      <th>START</th>\n",
              "      <th>STOP</th>\n",
              "      <th>MILES</th>\n",
              "      <th>PURPOSE</th>\n",
              "    </tr>\n",
              "  </thead>\n",
              "  <tbody>\n",
              "    <tr>\n",
              "      <th>4</th>\n",
              "      <td>1/6/2016 14:42</td>\n",
              "      <td>1/6/2016 15:49</td>\n",
              "      <td>Business</td>\n",
              "      <td>Fort Pierce</td>\n",
              "      <td>West Palm Beach</td>\n",
              "      <td>63.7</td>\n",
              "      <td>Customer Visit</td>\n",
              "    </tr>\n",
              "    <tr>\n",
              "      <th>36</th>\n",
              "      <td>1/20/2016 13:25</td>\n",
              "      <td>1/20/2016 14:19</td>\n",
              "      <td>Business</td>\n",
              "      <td>Raleigh</td>\n",
              "      <td>Cary</td>\n",
              "      <td>40.2</td>\n",
              "      <td>Customer Visit</td>\n",
              "    </tr>\n",
              "    <tr>\n",
              "      <th>108</th>\n",
              "      <td>2/16/2016 3:21</td>\n",
              "      <td>2/16/2016 4:13</td>\n",
              "      <td>Business</td>\n",
              "      <td>Katunayaka</td>\n",
              "      <td>Unknown Location</td>\n",
              "      <td>43.7</td>\n",
              "      <td>Customer Visit</td>\n",
              "    </tr>\n",
              "    <tr>\n",
              "      <th>232</th>\n",
              "      <td>3/17/2016 12:52</td>\n",
              "      <td>3/17/2016 15:11</td>\n",
              "      <td>Business</td>\n",
              "      <td>Austin</td>\n",
              "      <td>Katy</td>\n",
              "      <td>136.0</td>\n",
              "      <td>Customer Visit</td>\n",
              "    </tr>\n",
              "    <tr>\n",
              "      <th>233</th>\n",
              "      <td>3/17/2016 15:16</td>\n",
              "      <td>3/17/2016 15:58</td>\n",
              "      <td>Business</td>\n",
              "      <td>Katy</td>\n",
              "      <td>Houston</td>\n",
              "      <td>30.2</td>\n",
              "      <td>Meeting</td>\n",
              "    </tr>\n",
              "    <tr>\n",
              "      <th>245</th>\n",
              "      <td>3/19/2016 14:01</td>\n",
              "      <td>3/19/2016 14:57</td>\n",
              "      <td>Business</td>\n",
              "      <td>Sugar Land</td>\n",
              "      <td>Houston</td>\n",
              "      <td>35.1</td>\n",
              "      <td>Customer Visit</td>\n",
              "    </tr>\n",
              "    <tr>\n",
              "      <th>246</th>\n",
              "      <td>3/19/2016 15:34</td>\n",
              "      <td>3/19/2016 16:38</td>\n",
              "      <td>Business</td>\n",
              "      <td>Houston</td>\n",
              "      <td>Galveston</td>\n",
              "      <td>36.5</td>\n",
              "      <td>Meal/Entertain</td>\n",
              "    </tr>\n",
              "    <tr>\n",
              "      <th>251</th>\n",
              "      <td>3/19/2016 19:33</td>\n",
              "      <td>3/19/2016 20:39</td>\n",
              "      <td>Business</td>\n",
              "      <td>Galveston</td>\n",
              "      <td>Houston</td>\n",
              "      <td>57.0</td>\n",
              "      <td>Customer Visit</td>\n",
              "    </tr>\n",
              "    <tr>\n",
              "      <th>268</th>\n",
              "      <td>3/25/2016 13:24</td>\n",
              "      <td>3/25/2016 16:22</td>\n",
              "      <td>Business</td>\n",
              "      <td>Cary</td>\n",
              "      <td>Latta</td>\n",
              "      <td>144.0</td>\n",
              "      <td>Customer Visit</td>\n",
              "    </tr>\n",
              "    <tr>\n",
              "      <th>269</th>\n",
              "      <td>3/25/2016 16:52</td>\n",
              "      <td>3/25/2016 22:22</td>\n",
              "      <td>Business</td>\n",
              "      <td>Latta</td>\n",
              "      <td>Jacksonville</td>\n",
              "      <td>310.3</td>\n",
              "      <td>Customer Visit</td>\n",
              "    </tr>\n",
              "    <tr>\n",
              "      <th>270</th>\n",
              "      <td>3/25/2016 22:54</td>\n",
              "      <td>3/26/2016 1:39</td>\n",
              "      <td>Business</td>\n",
              "      <td>Jacksonville</td>\n",
              "      <td>Kissimmee</td>\n",
              "      <td>201.0</td>\n",
              "      <td>Meeting</td>\n",
              "    </tr>\n",
              "    <tr>\n",
              "      <th>295</th>\n",
              "      <td>4/2/2016 12:21</td>\n",
              "      <td>4/2/2016 14:47</td>\n",
              "      <td>Business</td>\n",
              "      <td>Kissimmee</td>\n",
              "      <td>Daytona Beach</td>\n",
              "      <td>77.3</td>\n",
              "      <td>Customer Visit</td>\n",
              "    </tr>\n",
              "    <tr>\n",
              "      <th>296</th>\n",
              "      <td>4/2/2016 16:57</td>\n",
              "      <td>4/2/2016 18:09</td>\n",
              "      <td>Business</td>\n",
              "      <td>Daytona Beach</td>\n",
              "      <td>Jacksonville</td>\n",
              "      <td>80.5</td>\n",
              "      <td>Customer Visit</td>\n",
              "    </tr>\n",
              "    <tr>\n",
              "      <th>297</th>\n",
              "      <td>4/2/2016 19:38</td>\n",
              "      <td>4/2/2016 22:36</td>\n",
              "      <td>Business</td>\n",
              "      <td>Jacksonville</td>\n",
              "      <td>Ridgeland</td>\n",
              "      <td>174.2</td>\n",
              "      <td>Customer Visit</td>\n",
              "    </tr>\n",
              "    <tr>\n",
              "      <th>298</th>\n",
              "      <td>4/2/2016 23:11</td>\n",
              "      <td>4/3/2016 1:34</td>\n",
              "      <td>Business</td>\n",
              "      <td>Ridgeland</td>\n",
              "      <td>Florence</td>\n",
              "      <td>144.0</td>\n",
              "      <td>Meeting</td>\n",
              "    </tr>\n",
              "    <tr>\n",
              "      <th>299</th>\n",
              "      <td>4/3/2016 2:00</td>\n",
              "      <td>4/3/2016 4:16</td>\n",
              "      <td>Business</td>\n",
              "      <td>Florence</td>\n",
              "      <td>Cary</td>\n",
              "      <td>159.3</td>\n",
              "      <td>Meeting</td>\n",
              "    </tr>\n",
              "    <tr>\n",
              "      <th>335</th>\n",
              "      <td>4/28/2016 13:30</td>\n",
              "      <td>4/28/2016 13:49</td>\n",
              "      <td>Business</td>\n",
              "      <td>Raleigh</td>\n",
              "      <td>Cary</td>\n",
              "      <td>32.8</td>\n",
              "      <td>Customer Visit</td>\n",
              "    </tr>\n",
              "    <tr>\n",
              "      <th>478</th>\n",
              "      <td>6/27/2016 7:37</td>\n",
              "      <td>6/27/2016 8:48</td>\n",
              "      <td>Business</td>\n",
              "      <td>New Orleans</td>\n",
              "      <td>Covington</td>\n",
              "      <td>46.9</td>\n",
              "      <td>NaN</td>\n",
              "    </tr>\n",
              "    <tr>\n",
              "      <th>546</th>\n",
              "      <td>7/14/2016 16:39</td>\n",
              "      <td>7/14/2016 20:05</td>\n",
              "      <td>Business</td>\n",
              "      <td>Morrisville</td>\n",
              "      <td>Banner Elk</td>\n",
              "      <td>195.3</td>\n",
              "      <td>NaN</td>\n",
              "    </tr>\n",
              "    <tr>\n",
              "      <th>554</th>\n",
              "      <td>7/16/2016 15:29</td>\n",
              "      <td>7/16/2016 16:57</td>\n",
              "      <td>Personal</td>\n",
              "      <td>Newland</td>\n",
              "      <td>Boone</td>\n",
              "      <td>41.9</td>\n",
              "      <td>NaN</td>\n",
              "    </tr>\n",
              "    <tr>\n",
              "      <th>559</th>\n",
              "      <td>7/17/2016 12:20</td>\n",
              "      <td>7/17/2016 15:25</td>\n",
              "      <td>Personal</td>\n",
              "      <td>Boone</td>\n",
              "      <td>Cary</td>\n",
              "      <td>180.2</td>\n",
              "      <td>Commute</td>\n",
              "    </tr>\n",
              "    <tr>\n",
              "      <th>651</th>\n",
              "      <td>8/11/2016 18:37</td>\n",
              "      <td>8/11/2016 19:29</td>\n",
              "      <td>Business</td>\n",
              "      <td>Cary</td>\n",
              "      <td>Wake Forest</td>\n",
              "      <td>31.7</td>\n",
              "      <td>NaN</td>\n",
              "    </tr>\n",
              "    <tr>\n",
              "      <th>652</th>\n",
              "      <td>8/11/2016 20:59</td>\n",
              "      <td>8/11/2016 21:44</td>\n",
              "      <td>Business</td>\n",
              "      <td>Wake Forest</td>\n",
              "      <td>Cary</td>\n",
              "      <td>31.9</td>\n",
              "      <td>NaN</td>\n",
              "    </tr>\n",
              "    <tr>\n",
              "      <th>707</th>\n",
              "      <td>8/24/2016 13:01</td>\n",
              "      <td>8/24/2016 15:25</td>\n",
              "      <td>Business</td>\n",
              "      <td>Unknown Location</td>\n",
              "      <td>Unknown Location</td>\n",
              "      <td>96.2</td>\n",
              "      <td>NaN</td>\n",
              "    </tr>\n",
              "    <tr>\n",
              "      <th>708</th>\n",
              "      <td>8/25/2016 15:17</td>\n",
              "      <td>8/25/2016 16:22</td>\n",
              "      <td>Business</td>\n",
              "      <td>Unknown Location</td>\n",
              "      <td>Unknown Location</td>\n",
              "      <td>35.0</td>\n",
              "      <td>NaN</td>\n",
              "    </tr>\n",
              "    <tr>\n",
              "      <th>710</th>\n",
              "      <td>8/25/2016 17:19</td>\n",
              "      <td>8/25/2016 19:20</td>\n",
              "      <td>Business</td>\n",
              "      <td>Unknown Location</td>\n",
              "      <td>Unknown Location</td>\n",
              "      <td>50.4</td>\n",
              "      <td>NaN</td>\n",
              "    </tr>\n",
              "    <tr>\n",
              "      <th>726</th>\n",
              "      <td>8/27/2016 14:01</td>\n",
              "      <td>8/27/2016 15:44</td>\n",
              "      <td>Business</td>\n",
              "      <td>Lahore</td>\n",
              "      <td>Unknown Location</td>\n",
              "      <td>86.6</td>\n",
              "      <td>NaN</td>\n",
              "    </tr>\n",
              "    <tr>\n",
              "      <th>727</th>\n",
              "      <td>8/27/2016 16:15</td>\n",
              "      <td>8/27/2016 19:13</td>\n",
              "      <td>Business</td>\n",
              "      <td>Unknown Location</td>\n",
              "      <td>Unknown Location</td>\n",
              "      <td>156.9</td>\n",
              "      <td>NaN</td>\n",
              "    </tr>\n",
              "    <tr>\n",
              "      <th>751</th>\n",
              "      <td>9/6/2016 17:49</td>\n",
              "      <td>9/6/2016 17:49</td>\n",
              "      <td>Business</td>\n",
              "      <td>Unknown Location</td>\n",
              "      <td>Unknown Location</td>\n",
              "      <td>69.1</td>\n",
              "      <td>NaN</td>\n",
              "    </tr>\n",
              "    <tr>\n",
              "      <th>776</th>\n",
              "      <td>9/27/2016 21:01</td>\n",
              "      <td>9/28/2016 2:37</td>\n",
              "      <td>Business</td>\n",
              "      <td>Unknown Location</td>\n",
              "      <td>Unknown Location</td>\n",
              "      <td>195.6</td>\n",
              "      <td>NaN</td>\n",
              "    </tr>\n",
              "    <tr>\n",
              "      <th>779</th>\n",
              "      <td>9/30/2016 17:39</td>\n",
              "      <td>9/30/2016 20:20</td>\n",
              "      <td>Business</td>\n",
              "      <td>Islamabad</td>\n",
              "      <td>Islamabad</td>\n",
              "      <td>37.7</td>\n",
              "      <td>NaN</td>\n",
              "    </tr>\n",
              "    <tr>\n",
              "      <th>788</th>\n",
              "      <td>10/6/2016 17:23</td>\n",
              "      <td>10/6/2016 17:40</td>\n",
              "      <td>Business</td>\n",
              "      <td>R?walpindi</td>\n",
              "      <td>Unknown Location</td>\n",
              "      <td>112.6</td>\n",
              "      <td>NaN</td>\n",
              "    </tr>\n",
              "    <tr>\n",
              "      <th>791</th>\n",
              "      <td>10/7/2016 10:56</td>\n",
              "      <td>10/7/2016 10:59</td>\n",
              "      <td>Business</td>\n",
              "      <td>Unknown Location</td>\n",
              "      <td>Lahore</td>\n",
              "      <td>33.2</td>\n",
              "      <td>NaN</td>\n",
              "    </tr>\n",
              "    <tr>\n",
              "      <th>841</th>\n",
              "      <td>10/20/2016 12:19</td>\n",
              "      <td>10/20/2016 13:17</td>\n",
              "      <td>Business</td>\n",
              "      <td>Berkeley</td>\n",
              "      <td>San Jose</td>\n",
              "      <td>47.7</td>\n",
              "      <td>NaN</td>\n",
              "    </tr>\n",
              "    <tr>\n",
              "      <th>842</th>\n",
              "      <td>10/20/2016 20:44</td>\n",
              "      <td>10/20/2016 21:37</td>\n",
              "      <td>Business</td>\n",
              "      <td>San Jose</td>\n",
              "      <td>Emeryville</td>\n",
              "      <td>44.6</td>\n",
              "      <td>NaN</td>\n",
              "    </tr>\n",
              "    <tr>\n",
              "      <th>869</th>\n",
              "      <td>10/28/2016 15:53</td>\n",
              "      <td>10/28/2016 17:59</td>\n",
              "      <td>Business</td>\n",
              "      <td>Cary</td>\n",
              "      <td>Winston Salem</td>\n",
              "      <td>107.0</td>\n",
              "      <td>Meeting</td>\n",
              "    </tr>\n",
              "    <tr>\n",
              "      <th>870</th>\n",
              "      <td>10/28/2016 18:13</td>\n",
              "      <td>10/28/2016 20:07</td>\n",
              "      <td>Business</td>\n",
              "      <td>Winston Salem</td>\n",
              "      <td>Asheville</td>\n",
              "      <td>133.6</td>\n",
              "      <td>Meeting</td>\n",
              "    </tr>\n",
              "    <tr>\n",
              "      <th>871</th>\n",
              "      <td>10/28/2016 20:13</td>\n",
              "      <td>10/28/2016 22:00</td>\n",
              "      <td>Business</td>\n",
              "      <td>Asheville</td>\n",
              "      <td>Topton</td>\n",
              "      <td>91.8</td>\n",
              "      <td>Meeting</td>\n",
              "    </tr>\n",
              "    <tr>\n",
              "      <th>872</th>\n",
              "      <td>10/29/2016 15:22</td>\n",
              "      <td>10/29/2016 17:05</td>\n",
              "      <td>Business</td>\n",
              "      <td>Topton</td>\n",
              "      <td>Hayesville</td>\n",
              "      <td>40.7</td>\n",
              "      <td>Meeting</td>\n",
              "    </tr>\n",
              "    <tr>\n",
              "      <th>873</th>\n",
              "      <td>10/29/2016 17:13</td>\n",
              "      <td>10/29/2016 19:19</td>\n",
              "      <td>Business</td>\n",
              "      <td>Hayesville</td>\n",
              "      <td>Topton</td>\n",
              "      <td>75.7</td>\n",
              "      <td>NaN</td>\n",
              "    </tr>\n",
              "    <tr>\n",
              "      <th>880</th>\n",
              "      <td>10/30/2016 13:24</td>\n",
              "      <td>10/30/2016 14:37</td>\n",
              "      <td>Business</td>\n",
              "      <td>Bryson City</td>\n",
              "      <td>Asheville</td>\n",
              "      <td>68.4</td>\n",
              "      <td>NaN</td>\n",
              "    </tr>\n",
              "    <tr>\n",
              "      <th>881</th>\n",
              "      <td>10/30/2016 15:22</td>\n",
              "      <td>10/30/2016 18:23</td>\n",
              "      <td>Business</td>\n",
              "      <td>Asheville</td>\n",
              "      <td>Mebane</td>\n",
              "      <td>195.9</td>\n",
              "      <td>NaN</td>\n",
              "    </tr>\n",
              "    <tr>\n",
              "      <th>882</th>\n",
              "      <td>10/30/2016 18:26</td>\n",
              "      <td>10/30/2016 19:39</td>\n",
              "      <td>Business</td>\n",
              "      <td>Mebane</td>\n",
              "      <td>Cary</td>\n",
              "      <td>45.2</td>\n",
              "      <td>NaN</td>\n",
              "    </tr>\n",
              "    <tr>\n",
              "      <th>913</th>\n",
              "      <td>11/6/2016 16:27</td>\n",
              "      <td>11/6/2016 17:28</td>\n",
              "      <td>Business</td>\n",
              "      <td>Santa Clara</td>\n",
              "      <td>Berkeley</td>\n",
              "      <td>43.9</td>\n",
              "      <td>Customer Visit</td>\n",
              "    </tr>\n",
              "    <tr>\n",
              "      <th>936</th>\n",
              "      <td>11/11/2016 9:35</td>\n",
              "      <td>11/11/2016 10:23</td>\n",
              "      <td>Business</td>\n",
              "      <td>Berkeley</td>\n",
              "      <td>Menlo Park</td>\n",
              "      <td>45.9</td>\n",
              "      <td>Customer Visit</td>\n",
              "    </tr>\n",
              "    <tr>\n",
              "      <th>939</th>\n",
              "      <td>11/11/2016 14:39</td>\n",
              "      <td>11/11/2016 15:46</td>\n",
              "      <td>Business</td>\n",
              "      <td>Menlo Park</td>\n",
              "      <td>Berkeley</td>\n",
              "      <td>36.6</td>\n",
              "      <td>Customer Visit</td>\n",
              "    </tr>\n",
              "    <tr>\n",
              "      <th>960</th>\n",
              "      <td>11/14/2016 11:24</td>\n",
              "      <td>11/14/2016 12:13</td>\n",
              "      <td>Business</td>\n",
              "      <td>Berkeley</td>\n",
              "      <td>Mountain View</td>\n",
              "      <td>44.6</td>\n",
              "      <td>Customer Visit</td>\n",
              "    </tr>\n",
              "    <tr>\n",
              "      <th>961</th>\n",
              "      <td>11/14/2016 13:40</td>\n",
              "      <td>11/14/2016 14:33</td>\n",
              "      <td>Business</td>\n",
              "      <td>Mountain View</td>\n",
              "      <td>Berkeley</td>\n",
              "      <td>43.6</td>\n",
              "      <td>Customer Visit</td>\n",
              "    </tr>\n",
              "    <tr>\n",
              "      <th>979</th>\n",
              "      <td>11/20/2016 10:27</td>\n",
              "      <td>11/20/2016 11:32</td>\n",
              "      <td>Business</td>\n",
              "      <td>Cary</td>\n",
              "      <td>Cary</td>\n",
              "      <td>39.2</td>\n",
              "      <td>Between Offices</td>\n",
              "    </tr>\n",
              "    <tr>\n",
              "      <th>1088</th>\n",
              "      <td>12/21/2016 20:56</td>\n",
              "      <td>12/21/2016 23:42</td>\n",
              "      <td>Business</td>\n",
              "      <td>Rawalpindi</td>\n",
              "      <td>Unknown Location</td>\n",
              "      <td>103.0</td>\n",
              "      <td>Meeting</td>\n",
              "    </tr>\n",
              "    <tr>\n",
              "      <th>1089</th>\n",
              "      <td>12/22/2016 15:40</td>\n",
              "      <td>12/22/2016 16:38</td>\n",
              "      <td>Business</td>\n",
              "      <td>Unknown Location</td>\n",
              "      <td>Unknown Location</td>\n",
              "      <td>32.3</td>\n",
              "      <td>Meeting</td>\n",
              "    </tr>\n",
              "    <tr>\n",
              "      <th>1154</th>\n",
              "      <td>12/31/2016 22:08</td>\n",
              "      <td>12/31/2016 23:51</td>\n",
              "      <td>Business</td>\n",
              "      <td>Gampaha</td>\n",
              "      <td>Ilukwatta</td>\n",
              "      <td>48.2</td>\n",
              "      <td>Temporary Site</td>\n",
              "    </tr>\n",
              "    <tr>\n",
              "      <th>1155</th>\n",
              "      <td>Totals</td>\n",
              "      <td>NaN</td>\n",
              "      <td>NaN</td>\n",
              "      <td>NaN</td>\n",
              "      <td>NaN</td>\n",
              "      <td>12204.7</td>\n",
              "      <td>NaN</td>\n",
              "    </tr>\n",
              "  </tbody>\n",
              "</table>\n",
              "</div>"
            ],
            "text/plain": [
              "            START_DATE          END_DATE  ...    MILES          PURPOSE\n",
              "4       1/6/2016 14:42    1/6/2016 15:49  ...     63.7   Customer Visit\n",
              "36     1/20/2016 13:25   1/20/2016 14:19  ...     40.2   Customer Visit\n",
              "108     2/16/2016 3:21    2/16/2016 4:13  ...     43.7   Customer Visit\n",
              "232    3/17/2016 12:52   3/17/2016 15:11  ...    136.0   Customer Visit\n",
              "233    3/17/2016 15:16   3/17/2016 15:58  ...     30.2          Meeting\n",
              "245    3/19/2016 14:01   3/19/2016 14:57  ...     35.1   Customer Visit\n",
              "246    3/19/2016 15:34   3/19/2016 16:38  ...     36.5   Meal/Entertain\n",
              "251    3/19/2016 19:33   3/19/2016 20:39  ...     57.0   Customer Visit\n",
              "268    3/25/2016 13:24   3/25/2016 16:22  ...    144.0   Customer Visit\n",
              "269    3/25/2016 16:52   3/25/2016 22:22  ...    310.3   Customer Visit\n",
              "270    3/25/2016 22:54    3/26/2016 1:39  ...    201.0          Meeting\n",
              "295     4/2/2016 12:21    4/2/2016 14:47  ...     77.3   Customer Visit\n",
              "296     4/2/2016 16:57    4/2/2016 18:09  ...     80.5   Customer Visit\n",
              "297     4/2/2016 19:38    4/2/2016 22:36  ...    174.2   Customer Visit\n",
              "298     4/2/2016 23:11     4/3/2016 1:34  ...    144.0          Meeting\n",
              "299      4/3/2016 2:00     4/3/2016 4:16  ...    159.3          Meeting\n",
              "335    4/28/2016 13:30   4/28/2016 13:49  ...     32.8   Customer Visit\n",
              "478     6/27/2016 7:37    6/27/2016 8:48  ...     46.9              NaN\n",
              "546    7/14/2016 16:39   7/14/2016 20:05  ...    195.3              NaN\n",
              "554    7/16/2016 15:29   7/16/2016 16:57  ...     41.9              NaN\n",
              "559    7/17/2016 12:20   7/17/2016 15:25  ...    180.2          Commute\n",
              "651    8/11/2016 18:37   8/11/2016 19:29  ...     31.7              NaN\n",
              "652    8/11/2016 20:59   8/11/2016 21:44  ...     31.9              NaN\n",
              "707    8/24/2016 13:01   8/24/2016 15:25  ...     96.2              NaN\n",
              "708    8/25/2016 15:17   8/25/2016 16:22  ...     35.0              NaN\n",
              "710    8/25/2016 17:19   8/25/2016 19:20  ...     50.4              NaN\n",
              "726    8/27/2016 14:01   8/27/2016 15:44  ...     86.6              NaN\n",
              "727    8/27/2016 16:15   8/27/2016 19:13  ...    156.9              NaN\n",
              "751     9/6/2016 17:49    9/6/2016 17:49  ...     69.1              NaN\n",
              "776    9/27/2016 21:01    9/28/2016 2:37  ...    195.6              NaN\n",
              "779    9/30/2016 17:39   9/30/2016 20:20  ...     37.7              NaN\n",
              "788    10/6/2016 17:23   10/6/2016 17:40  ...    112.6              NaN\n",
              "791    10/7/2016 10:56   10/7/2016 10:59  ...     33.2              NaN\n",
              "841   10/20/2016 12:19  10/20/2016 13:17  ...     47.7              NaN\n",
              "842   10/20/2016 20:44  10/20/2016 21:37  ...     44.6              NaN\n",
              "869   10/28/2016 15:53  10/28/2016 17:59  ...    107.0          Meeting\n",
              "870   10/28/2016 18:13  10/28/2016 20:07  ...    133.6          Meeting\n",
              "871   10/28/2016 20:13  10/28/2016 22:00  ...     91.8          Meeting\n",
              "872   10/29/2016 15:22  10/29/2016 17:05  ...     40.7          Meeting\n",
              "873   10/29/2016 17:13  10/29/2016 19:19  ...     75.7              NaN\n",
              "880   10/30/2016 13:24  10/30/2016 14:37  ...     68.4              NaN\n",
              "881   10/30/2016 15:22  10/30/2016 18:23  ...    195.9              NaN\n",
              "882   10/30/2016 18:26  10/30/2016 19:39  ...     45.2              NaN\n",
              "913    11/6/2016 16:27   11/6/2016 17:28  ...     43.9   Customer Visit\n",
              "936    11/11/2016 9:35  11/11/2016 10:23  ...     45.9   Customer Visit\n",
              "939   11/11/2016 14:39  11/11/2016 15:46  ...     36.6   Customer Visit\n",
              "960   11/14/2016 11:24  11/14/2016 12:13  ...     44.6   Customer Visit\n",
              "961   11/14/2016 13:40  11/14/2016 14:33  ...     43.6   Customer Visit\n",
              "979   11/20/2016 10:27  11/20/2016 11:32  ...     39.2  Between Offices\n",
              "1088  12/21/2016 20:56  12/21/2016 23:42  ...    103.0          Meeting\n",
              "1089  12/22/2016 15:40  12/22/2016 16:38  ...     32.3          Meeting\n",
              "1154  12/31/2016 22:08  12/31/2016 23:51  ...     48.2   Temporary Site\n",
              "1155            Totals               NaN  ...  12204.7              NaN\n",
              "\n",
              "[53 rows x 7 columns]"
            ]
          },
          "metadata": {
            "tags": []
          },
          "execution_count": 20
        }
      ]
    },
    {
      "cell_type": "code",
      "metadata": {
        "id": "-zGY5ulEARWK",
        "colab_type": "code",
        "colab": {
          "base_uri": "https://localhost:8080/",
          "height": 1000
        },
        "outputId": "1c830674-deb1-4298-b104-8628dc8dc069"
      },
      "source": [
        "#2. SQL-like query\n",
        "df.query('MILES > 30')"
      ],
      "execution_count": 21,
      "outputs": [
        {
          "output_type": "execute_result",
          "data": {
            "text/html": [
              "<div>\n",
              "<style scoped>\n",
              "    .dataframe tbody tr th:only-of-type {\n",
              "        vertical-align: middle;\n",
              "    }\n",
              "\n",
              "    .dataframe tbody tr th {\n",
              "        vertical-align: top;\n",
              "    }\n",
              "\n",
              "    .dataframe thead th {\n",
              "        text-align: right;\n",
              "    }\n",
              "</style>\n",
              "<table border=\"1\" class=\"dataframe\">\n",
              "  <thead>\n",
              "    <tr style=\"text-align: right;\">\n",
              "      <th></th>\n",
              "      <th>START_DATE</th>\n",
              "      <th>END_DATE</th>\n",
              "      <th>CAT</th>\n",
              "      <th>START</th>\n",
              "      <th>STOP</th>\n",
              "      <th>MILES</th>\n",
              "      <th>PURPOSE</th>\n",
              "    </tr>\n",
              "  </thead>\n",
              "  <tbody>\n",
              "    <tr>\n",
              "      <th>4</th>\n",
              "      <td>1/6/2016 14:42</td>\n",
              "      <td>1/6/2016 15:49</td>\n",
              "      <td>Business</td>\n",
              "      <td>Fort Pierce</td>\n",
              "      <td>West Palm Beach</td>\n",
              "      <td>63.7</td>\n",
              "      <td>Customer Visit</td>\n",
              "    </tr>\n",
              "    <tr>\n",
              "      <th>36</th>\n",
              "      <td>1/20/2016 13:25</td>\n",
              "      <td>1/20/2016 14:19</td>\n",
              "      <td>Business</td>\n",
              "      <td>Raleigh</td>\n",
              "      <td>Cary</td>\n",
              "      <td>40.2</td>\n",
              "      <td>Customer Visit</td>\n",
              "    </tr>\n",
              "    <tr>\n",
              "      <th>108</th>\n",
              "      <td>2/16/2016 3:21</td>\n",
              "      <td>2/16/2016 4:13</td>\n",
              "      <td>Business</td>\n",
              "      <td>Katunayaka</td>\n",
              "      <td>Unknown Location</td>\n",
              "      <td>43.7</td>\n",
              "      <td>Customer Visit</td>\n",
              "    </tr>\n",
              "    <tr>\n",
              "      <th>232</th>\n",
              "      <td>3/17/2016 12:52</td>\n",
              "      <td>3/17/2016 15:11</td>\n",
              "      <td>Business</td>\n",
              "      <td>Austin</td>\n",
              "      <td>Katy</td>\n",
              "      <td>136.0</td>\n",
              "      <td>Customer Visit</td>\n",
              "    </tr>\n",
              "    <tr>\n",
              "      <th>233</th>\n",
              "      <td>3/17/2016 15:16</td>\n",
              "      <td>3/17/2016 15:58</td>\n",
              "      <td>Business</td>\n",
              "      <td>Katy</td>\n",
              "      <td>Houston</td>\n",
              "      <td>30.2</td>\n",
              "      <td>Meeting</td>\n",
              "    </tr>\n",
              "    <tr>\n",
              "      <th>245</th>\n",
              "      <td>3/19/2016 14:01</td>\n",
              "      <td>3/19/2016 14:57</td>\n",
              "      <td>Business</td>\n",
              "      <td>Sugar Land</td>\n",
              "      <td>Houston</td>\n",
              "      <td>35.1</td>\n",
              "      <td>Customer Visit</td>\n",
              "    </tr>\n",
              "    <tr>\n",
              "      <th>246</th>\n",
              "      <td>3/19/2016 15:34</td>\n",
              "      <td>3/19/2016 16:38</td>\n",
              "      <td>Business</td>\n",
              "      <td>Houston</td>\n",
              "      <td>Galveston</td>\n",
              "      <td>36.5</td>\n",
              "      <td>Meal/Entertain</td>\n",
              "    </tr>\n",
              "    <tr>\n",
              "      <th>251</th>\n",
              "      <td>3/19/2016 19:33</td>\n",
              "      <td>3/19/2016 20:39</td>\n",
              "      <td>Business</td>\n",
              "      <td>Galveston</td>\n",
              "      <td>Houston</td>\n",
              "      <td>57.0</td>\n",
              "      <td>Customer Visit</td>\n",
              "    </tr>\n",
              "    <tr>\n",
              "      <th>268</th>\n",
              "      <td>3/25/2016 13:24</td>\n",
              "      <td>3/25/2016 16:22</td>\n",
              "      <td>Business</td>\n",
              "      <td>Cary</td>\n",
              "      <td>Latta</td>\n",
              "      <td>144.0</td>\n",
              "      <td>Customer Visit</td>\n",
              "    </tr>\n",
              "    <tr>\n",
              "      <th>269</th>\n",
              "      <td>3/25/2016 16:52</td>\n",
              "      <td>3/25/2016 22:22</td>\n",
              "      <td>Business</td>\n",
              "      <td>Latta</td>\n",
              "      <td>Jacksonville</td>\n",
              "      <td>310.3</td>\n",
              "      <td>Customer Visit</td>\n",
              "    </tr>\n",
              "    <tr>\n",
              "      <th>270</th>\n",
              "      <td>3/25/2016 22:54</td>\n",
              "      <td>3/26/2016 1:39</td>\n",
              "      <td>Business</td>\n",
              "      <td>Jacksonville</td>\n",
              "      <td>Kissimmee</td>\n",
              "      <td>201.0</td>\n",
              "      <td>Meeting</td>\n",
              "    </tr>\n",
              "    <tr>\n",
              "      <th>295</th>\n",
              "      <td>4/2/2016 12:21</td>\n",
              "      <td>4/2/2016 14:47</td>\n",
              "      <td>Business</td>\n",
              "      <td>Kissimmee</td>\n",
              "      <td>Daytona Beach</td>\n",
              "      <td>77.3</td>\n",
              "      <td>Customer Visit</td>\n",
              "    </tr>\n",
              "    <tr>\n",
              "      <th>296</th>\n",
              "      <td>4/2/2016 16:57</td>\n",
              "      <td>4/2/2016 18:09</td>\n",
              "      <td>Business</td>\n",
              "      <td>Daytona Beach</td>\n",
              "      <td>Jacksonville</td>\n",
              "      <td>80.5</td>\n",
              "      <td>Customer Visit</td>\n",
              "    </tr>\n",
              "    <tr>\n",
              "      <th>297</th>\n",
              "      <td>4/2/2016 19:38</td>\n",
              "      <td>4/2/2016 22:36</td>\n",
              "      <td>Business</td>\n",
              "      <td>Jacksonville</td>\n",
              "      <td>Ridgeland</td>\n",
              "      <td>174.2</td>\n",
              "      <td>Customer Visit</td>\n",
              "    </tr>\n",
              "    <tr>\n",
              "      <th>298</th>\n",
              "      <td>4/2/2016 23:11</td>\n",
              "      <td>4/3/2016 1:34</td>\n",
              "      <td>Business</td>\n",
              "      <td>Ridgeland</td>\n",
              "      <td>Florence</td>\n",
              "      <td>144.0</td>\n",
              "      <td>Meeting</td>\n",
              "    </tr>\n",
              "    <tr>\n",
              "      <th>299</th>\n",
              "      <td>4/3/2016 2:00</td>\n",
              "      <td>4/3/2016 4:16</td>\n",
              "      <td>Business</td>\n",
              "      <td>Florence</td>\n",
              "      <td>Cary</td>\n",
              "      <td>159.3</td>\n",
              "      <td>Meeting</td>\n",
              "    </tr>\n",
              "    <tr>\n",
              "      <th>335</th>\n",
              "      <td>4/28/2016 13:30</td>\n",
              "      <td>4/28/2016 13:49</td>\n",
              "      <td>Business</td>\n",
              "      <td>Raleigh</td>\n",
              "      <td>Cary</td>\n",
              "      <td>32.8</td>\n",
              "      <td>Customer Visit</td>\n",
              "    </tr>\n",
              "    <tr>\n",
              "      <th>478</th>\n",
              "      <td>6/27/2016 7:37</td>\n",
              "      <td>6/27/2016 8:48</td>\n",
              "      <td>Business</td>\n",
              "      <td>New Orleans</td>\n",
              "      <td>Covington</td>\n",
              "      <td>46.9</td>\n",
              "      <td>NaN</td>\n",
              "    </tr>\n",
              "    <tr>\n",
              "      <th>546</th>\n",
              "      <td>7/14/2016 16:39</td>\n",
              "      <td>7/14/2016 20:05</td>\n",
              "      <td>Business</td>\n",
              "      <td>Morrisville</td>\n",
              "      <td>Banner Elk</td>\n",
              "      <td>195.3</td>\n",
              "      <td>NaN</td>\n",
              "    </tr>\n",
              "    <tr>\n",
              "      <th>554</th>\n",
              "      <td>7/16/2016 15:29</td>\n",
              "      <td>7/16/2016 16:57</td>\n",
              "      <td>Personal</td>\n",
              "      <td>Newland</td>\n",
              "      <td>Boone</td>\n",
              "      <td>41.9</td>\n",
              "      <td>NaN</td>\n",
              "    </tr>\n",
              "    <tr>\n",
              "      <th>559</th>\n",
              "      <td>7/17/2016 12:20</td>\n",
              "      <td>7/17/2016 15:25</td>\n",
              "      <td>Personal</td>\n",
              "      <td>Boone</td>\n",
              "      <td>Cary</td>\n",
              "      <td>180.2</td>\n",
              "      <td>Commute</td>\n",
              "    </tr>\n",
              "    <tr>\n",
              "      <th>651</th>\n",
              "      <td>8/11/2016 18:37</td>\n",
              "      <td>8/11/2016 19:29</td>\n",
              "      <td>Business</td>\n",
              "      <td>Cary</td>\n",
              "      <td>Wake Forest</td>\n",
              "      <td>31.7</td>\n",
              "      <td>NaN</td>\n",
              "    </tr>\n",
              "    <tr>\n",
              "      <th>652</th>\n",
              "      <td>8/11/2016 20:59</td>\n",
              "      <td>8/11/2016 21:44</td>\n",
              "      <td>Business</td>\n",
              "      <td>Wake Forest</td>\n",
              "      <td>Cary</td>\n",
              "      <td>31.9</td>\n",
              "      <td>NaN</td>\n",
              "    </tr>\n",
              "    <tr>\n",
              "      <th>707</th>\n",
              "      <td>8/24/2016 13:01</td>\n",
              "      <td>8/24/2016 15:25</td>\n",
              "      <td>Business</td>\n",
              "      <td>Unknown Location</td>\n",
              "      <td>Unknown Location</td>\n",
              "      <td>96.2</td>\n",
              "      <td>NaN</td>\n",
              "    </tr>\n",
              "    <tr>\n",
              "      <th>708</th>\n",
              "      <td>8/25/2016 15:17</td>\n",
              "      <td>8/25/2016 16:22</td>\n",
              "      <td>Business</td>\n",
              "      <td>Unknown Location</td>\n",
              "      <td>Unknown Location</td>\n",
              "      <td>35.0</td>\n",
              "      <td>NaN</td>\n",
              "    </tr>\n",
              "    <tr>\n",
              "      <th>710</th>\n",
              "      <td>8/25/2016 17:19</td>\n",
              "      <td>8/25/2016 19:20</td>\n",
              "      <td>Business</td>\n",
              "      <td>Unknown Location</td>\n",
              "      <td>Unknown Location</td>\n",
              "      <td>50.4</td>\n",
              "      <td>NaN</td>\n",
              "    </tr>\n",
              "    <tr>\n",
              "      <th>726</th>\n",
              "      <td>8/27/2016 14:01</td>\n",
              "      <td>8/27/2016 15:44</td>\n",
              "      <td>Business</td>\n",
              "      <td>Lahore</td>\n",
              "      <td>Unknown Location</td>\n",
              "      <td>86.6</td>\n",
              "      <td>NaN</td>\n",
              "    </tr>\n",
              "    <tr>\n",
              "      <th>727</th>\n",
              "      <td>8/27/2016 16:15</td>\n",
              "      <td>8/27/2016 19:13</td>\n",
              "      <td>Business</td>\n",
              "      <td>Unknown Location</td>\n",
              "      <td>Unknown Location</td>\n",
              "      <td>156.9</td>\n",
              "      <td>NaN</td>\n",
              "    </tr>\n",
              "    <tr>\n",
              "      <th>751</th>\n",
              "      <td>9/6/2016 17:49</td>\n",
              "      <td>9/6/2016 17:49</td>\n",
              "      <td>Business</td>\n",
              "      <td>Unknown Location</td>\n",
              "      <td>Unknown Location</td>\n",
              "      <td>69.1</td>\n",
              "      <td>NaN</td>\n",
              "    </tr>\n",
              "    <tr>\n",
              "      <th>776</th>\n",
              "      <td>9/27/2016 21:01</td>\n",
              "      <td>9/28/2016 2:37</td>\n",
              "      <td>Business</td>\n",
              "      <td>Unknown Location</td>\n",
              "      <td>Unknown Location</td>\n",
              "      <td>195.6</td>\n",
              "      <td>NaN</td>\n",
              "    </tr>\n",
              "    <tr>\n",
              "      <th>779</th>\n",
              "      <td>9/30/2016 17:39</td>\n",
              "      <td>9/30/2016 20:20</td>\n",
              "      <td>Business</td>\n",
              "      <td>Islamabad</td>\n",
              "      <td>Islamabad</td>\n",
              "      <td>37.7</td>\n",
              "      <td>NaN</td>\n",
              "    </tr>\n",
              "    <tr>\n",
              "      <th>788</th>\n",
              "      <td>10/6/2016 17:23</td>\n",
              "      <td>10/6/2016 17:40</td>\n",
              "      <td>Business</td>\n",
              "      <td>R?walpindi</td>\n",
              "      <td>Unknown Location</td>\n",
              "      <td>112.6</td>\n",
              "      <td>NaN</td>\n",
              "    </tr>\n",
              "    <tr>\n",
              "      <th>791</th>\n",
              "      <td>10/7/2016 10:56</td>\n",
              "      <td>10/7/2016 10:59</td>\n",
              "      <td>Business</td>\n",
              "      <td>Unknown Location</td>\n",
              "      <td>Lahore</td>\n",
              "      <td>33.2</td>\n",
              "      <td>NaN</td>\n",
              "    </tr>\n",
              "    <tr>\n",
              "      <th>841</th>\n",
              "      <td>10/20/2016 12:19</td>\n",
              "      <td>10/20/2016 13:17</td>\n",
              "      <td>Business</td>\n",
              "      <td>Berkeley</td>\n",
              "      <td>San Jose</td>\n",
              "      <td>47.7</td>\n",
              "      <td>NaN</td>\n",
              "    </tr>\n",
              "    <tr>\n",
              "      <th>842</th>\n",
              "      <td>10/20/2016 20:44</td>\n",
              "      <td>10/20/2016 21:37</td>\n",
              "      <td>Business</td>\n",
              "      <td>San Jose</td>\n",
              "      <td>Emeryville</td>\n",
              "      <td>44.6</td>\n",
              "      <td>NaN</td>\n",
              "    </tr>\n",
              "    <tr>\n",
              "      <th>869</th>\n",
              "      <td>10/28/2016 15:53</td>\n",
              "      <td>10/28/2016 17:59</td>\n",
              "      <td>Business</td>\n",
              "      <td>Cary</td>\n",
              "      <td>Winston Salem</td>\n",
              "      <td>107.0</td>\n",
              "      <td>Meeting</td>\n",
              "    </tr>\n",
              "    <tr>\n",
              "      <th>870</th>\n",
              "      <td>10/28/2016 18:13</td>\n",
              "      <td>10/28/2016 20:07</td>\n",
              "      <td>Business</td>\n",
              "      <td>Winston Salem</td>\n",
              "      <td>Asheville</td>\n",
              "      <td>133.6</td>\n",
              "      <td>Meeting</td>\n",
              "    </tr>\n",
              "    <tr>\n",
              "      <th>871</th>\n",
              "      <td>10/28/2016 20:13</td>\n",
              "      <td>10/28/2016 22:00</td>\n",
              "      <td>Business</td>\n",
              "      <td>Asheville</td>\n",
              "      <td>Topton</td>\n",
              "      <td>91.8</td>\n",
              "      <td>Meeting</td>\n",
              "    </tr>\n",
              "    <tr>\n",
              "      <th>872</th>\n",
              "      <td>10/29/2016 15:22</td>\n",
              "      <td>10/29/2016 17:05</td>\n",
              "      <td>Business</td>\n",
              "      <td>Topton</td>\n",
              "      <td>Hayesville</td>\n",
              "      <td>40.7</td>\n",
              "      <td>Meeting</td>\n",
              "    </tr>\n",
              "    <tr>\n",
              "      <th>873</th>\n",
              "      <td>10/29/2016 17:13</td>\n",
              "      <td>10/29/2016 19:19</td>\n",
              "      <td>Business</td>\n",
              "      <td>Hayesville</td>\n",
              "      <td>Topton</td>\n",
              "      <td>75.7</td>\n",
              "      <td>NaN</td>\n",
              "    </tr>\n",
              "    <tr>\n",
              "      <th>880</th>\n",
              "      <td>10/30/2016 13:24</td>\n",
              "      <td>10/30/2016 14:37</td>\n",
              "      <td>Business</td>\n",
              "      <td>Bryson City</td>\n",
              "      <td>Asheville</td>\n",
              "      <td>68.4</td>\n",
              "      <td>NaN</td>\n",
              "    </tr>\n",
              "    <tr>\n",
              "      <th>881</th>\n",
              "      <td>10/30/2016 15:22</td>\n",
              "      <td>10/30/2016 18:23</td>\n",
              "      <td>Business</td>\n",
              "      <td>Asheville</td>\n",
              "      <td>Mebane</td>\n",
              "      <td>195.9</td>\n",
              "      <td>NaN</td>\n",
              "    </tr>\n",
              "    <tr>\n",
              "      <th>882</th>\n",
              "      <td>10/30/2016 18:26</td>\n",
              "      <td>10/30/2016 19:39</td>\n",
              "      <td>Business</td>\n",
              "      <td>Mebane</td>\n",
              "      <td>Cary</td>\n",
              "      <td>45.2</td>\n",
              "      <td>NaN</td>\n",
              "    </tr>\n",
              "    <tr>\n",
              "      <th>913</th>\n",
              "      <td>11/6/2016 16:27</td>\n",
              "      <td>11/6/2016 17:28</td>\n",
              "      <td>Business</td>\n",
              "      <td>Santa Clara</td>\n",
              "      <td>Berkeley</td>\n",
              "      <td>43.9</td>\n",
              "      <td>Customer Visit</td>\n",
              "    </tr>\n",
              "    <tr>\n",
              "      <th>936</th>\n",
              "      <td>11/11/2016 9:35</td>\n",
              "      <td>11/11/2016 10:23</td>\n",
              "      <td>Business</td>\n",
              "      <td>Berkeley</td>\n",
              "      <td>Menlo Park</td>\n",
              "      <td>45.9</td>\n",
              "      <td>Customer Visit</td>\n",
              "    </tr>\n",
              "    <tr>\n",
              "      <th>939</th>\n",
              "      <td>11/11/2016 14:39</td>\n",
              "      <td>11/11/2016 15:46</td>\n",
              "      <td>Business</td>\n",
              "      <td>Menlo Park</td>\n",
              "      <td>Berkeley</td>\n",
              "      <td>36.6</td>\n",
              "      <td>Customer Visit</td>\n",
              "    </tr>\n",
              "    <tr>\n",
              "      <th>960</th>\n",
              "      <td>11/14/2016 11:24</td>\n",
              "      <td>11/14/2016 12:13</td>\n",
              "      <td>Business</td>\n",
              "      <td>Berkeley</td>\n",
              "      <td>Mountain View</td>\n",
              "      <td>44.6</td>\n",
              "      <td>Customer Visit</td>\n",
              "    </tr>\n",
              "    <tr>\n",
              "      <th>961</th>\n",
              "      <td>11/14/2016 13:40</td>\n",
              "      <td>11/14/2016 14:33</td>\n",
              "      <td>Business</td>\n",
              "      <td>Mountain View</td>\n",
              "      <td>Berkeley</td>\n",
              "      <td>43.6</td>\n",
              "      <td>Customer Visit</td>\n",
              "    </tr>\n",
              "    <tr>\n",
              "      <th>979</th>\n",
              "      <td>11/20/2016 10:27</td>\n",
              "      <td>11/20/2016 11:32</td>\n",
              "      <td>Business</td>\n",
              "      <td>Cary</td>\n",
              "      <td>Cary</td>\n",
              "      <td>39.2</td>\n",
              "      <td>Between Offices</td>\n",
              "    </tr>\n",
              "    <tr>\n",
              "      <th>1088</th>\n",
              "      <td>12/21/2016 20:56</td>\n",
              "      <td>12/21/2016 23:42</td>\n",
              "      <td>Business</td>\n",
              "      <td>Rawalpindi</td>\n",
              "      <td>Unknown Location</td>\n",
              "      <td>103.0</td>\n",
              "      <td>Meeting</td>\n",
              "    </tr>\n",
              "    <tr>\n",
              "      <th>1089</th>\n",
              "      <td>12/22/2016 15:40</td>\n",
              "      <td>12/22/2016 16:38</td>\n",
              "      <td>Business</td>\n",
              "      <td>Unknown Location</td>\n",
              "      <td>Unknown Location</td>\n",
              "      <td>32.3</td>\n",
              "      <td>Meeting</td>\n",
              "    </tr>\n",
              "    <tr>\n",
              "      <th>1154</th>\n",
              "      <td>12/31/2016 22:08</td>\n",
              "      <td>12/31/2016 23:51</td>\n",
              "      <td>Business</td>\n",
              "      <td>Gampaha</td>\n",
              "      <td>Ilukwatta</td>\n",
              "      <td>48.2</td>\n",
              "      <td>Temporary Site</td>\n",
              "    </tr>\n",
              "    <tr>\n",
              "      <th>1155</th>\n",
              "      <td>Totals</td>\n",
              "      <td>NaN</td>\n",
              "      <td>NaN</td>\n",
              "      <td>NaN</td>\n",
              "      <td>NaN</td>\n",
              "      <td>12204.7</td>\n",
              "      <td>NaN</td>\n",
              "    </tr>\n",
              "  </tbody>\n",
              "</table>\n",
              "</div>"
            ],
            "text/plain": [
              "            START_DATE          END_DATE  ...    MILES          PURPOSE\n",
              "4       1/6/2016 14:42    1/6/2016 15:49  ...     63.7   Customer Visit\n",
              "36     1/20/2016 13:25   1/20/2016 14:19  ...     40.2   Customer Visit\n",
              "108     2/16/2016 3:21    2/16/2016 4:13  ...     43.7   Customer Visit\n",
              "232    3/17/2016 12:52   3/17/2016 15:11  ...    136.0   Customer Visit\n",
              "233    3/17/2016 15:16   3/17/2016 15:58  ...     30.2          Meeting\n",
              "245    3/19/2016 14:01   3/19/2016 14:57  ...     35.1   Customer Visit\n",
              "246    3/19/2016 15:34   3/19/2016 16:38  ...     36.5   Meal/Entertain\n",
              "251    3/19/2016 19:33   3/19/2016 20:39  ...     57.0   Customer Visit\n",
              "268    3/25/2016 13:24   3/25/2016 16:22  ...    144.0   Customer Visit\n",
              "269    3/25/2016 16:52   3/25/2016 22:22  ...    310.3   Customer Visit\n",
              "270    3/25/2016 22:54    3/26/2016 1:39  ...    201.0          Meeting\n",
              "295     4/2/2016 12:21    4/2/2016 14:47  ...     77.3   Customer Visit\n",
              "296     4/2/2016 16:57    4/2/2016 18:09  ...     80.5   Customer Visit\n",
              "297     4/2/2016 19:38    4/2/2016 22:36  ...    174.2   Customer Visit\n",
              "298     4/2/2016 23:11     4/3/2016 1:34  ...    144.0          Meeting\n",
              "299      4/3/2016 2:00     4/3/2016 4:16  ...    159.3          Meeting\n",
              "335    4/28/2016 13:30   4/28/2016 13:49  ...     32.8   Customer Visit\n",
              "478     6/27/2016 7:37    6/27/2016 8:48  ...     46.9              NaN\n",
              "546    7/14/2016 16:39   7/14/2016 20:05  ...    195.3              NaN\n",
              "554    7/16/2016 15:29   7/16/2016 16:57  ...     41.9              NaN\n",
              "559    7/17/2016 12:20   7/17/2016 15:25  ...    180.2          Commute\n",
              "651    8/11/2016 18:37   8/11/2016 19:29  ...     31.7              NaN\n",
              "652    8/11/2016 20:59   8/11/2016 21:44  ...     31.9              NaN\n",
              "707    8/24/2016 13:01   8/24/2016 15:25  ...     96.2              NaN\n",
              "708    8/25/2016 15:17   8/25/2016 16:22  ...     35.0              NaN\n",
              "710    8/25/2016 17:19   8/25/2016 19:20  ...     50.4              NaN\n",
              "726    8/27/2016 14:01   8/27/2016 15:44  ...     86.6              NaN\n",
              "727    8/27/2016 16:15   8/27/2016 19:13  ...    156.9              NaN\n",
              "751     9/6/2016 17:49    9/6/2016 17:49  ...     69.1              NaN\n",
              "776    9/27/2016 21:01    9/28/2016 2:37  ...    195.6              NaN\n",
              "779    9/30/2016 17:39   9/30/2016 20:20  ...     37.7              NaN\n",
              "788    10/6/2016 17:23   10/6/2016 17:40  ...    112.6              NaN\n",
              "791    10/7/2016 10:56   10/7/2016 10:59  ...     33.2              NaN\n",
              "841   10/20/2016 12:19  10/20/2016 13:17  ...     47.7              NaN\n",
              "842   10/20/2016 20:44  10/20/2016 21:37  ...     44.6              NaN\n",
              "869   10/28/2016 15:53  10/28/2016 17:59  ...    107.0          Meeting\n",
              "870   10/28/2016 18:13  10/28/2016 20:07  ...    133.6          Meeting\n",
              "871   10/28/2016 20:13  10/28/2016 22:00  ...     91.8          Meeting\n",
              "872   10/29/2016 15:22  10/29/2016 17:05  ...     40.7          Meeting\n",
              "873   10/29/2016 17:13  10/29/2016 19:19  ...     75.7              NaN\n",
              "880   10/30/2016 13:24  10/30/2016 14:37  ...     68.4              NaN\n",
              "881   10/30/2016 15:22  10/30/2016 18:23  ...    195.9              NaN\n",
              "882   10/30/2016 18:26  10/30/2016 19:39  ...     45.2              NaN\n",
              "913    11/6/2016 16:27   11/6/2016 17:28  ...     43.9   Customer Visit\n",
              "936    11/11/2016 9:35  11/11/2016 10:23  ...     45.9   Customer Visit\n",
              "939   11/11/2016 14:39  11/11/2016 15:46  ...     36.6   Customer Visit\n",
              "960   11/14/2016 11:24  11/14/2016 12:13  ...     44.6   Customer Visit\n",
              "961   11/14/2016 13:40  11/14/2016 14:33  ...     43.6   Customer Visit\n",
              "979   11/20/2016 10:27  11/20/2016 11:32  ...     39.2  Between Offices\n",
              "1088  12/21/2016 20:56  12/21/2016 23:42  ...    103.0          Meeting\n",
              "1089  12/22/2016 15:40  12/22/2016 16:38  ...     32.3          Meeting\n",
              "1154  12/31/2016 22:08  12/31/2016 23:51  ...     48.2   Temporary Site\n",
              "1155            Totals               NaN  ...  12204.7              NaN\n",
              "\n",
              "[53 rows x 7 columns]"
            ]
          },
          "metadata": {
            "tags": []
          },
          "execution_count": 21
        }
      ]
    },
    {
      "cell_type": "code",
      "metadata": {
        "id": "Vo8-fl_4AStR",
        "colab_type": "code",
        "colab": {
          "base_uri": "https://localhost:8080/",
          "height": 323
        },
        "outputId": "19fe816e-d0ff-4273-98c1-eb5483a41d42"
      },
      "source": [
        "# inverting the selection\n",
        "print(df[df.MILES == 30])\n",
        "print(df[df.MILES != 30])"
      ],
      "execution_count": 22,
      "outputs": [
        {
          "output_type": "stream",
          "text": [
            "          START_DATE         END_DATE       CAT  ...      STOP MILES  PURPOSE\n",
            "486  6/27/2016 12:22  6/27/2016 13:02  Business  ...  Metairie  30.0      NaN\n",
            "\n",
            "[1 rows x 7 columns]\n",
            "            START_DATE          END_DATE  ...    MILES          PURPOSE\n",
            "0       1/1/2016 21:11    1/1/2016 21:17  ...      5.1   Meal/Entertain\n",
            "1        1/2/2016 1:25     1/2/2016 1:37  ...      5.0              NaN\n",
            "2       1/2/2016 20:25    1/2/2016 20:38  ...      4.8  Errand/Supplies\n",
            "3       1/5/2016 17:31    1/5/2016 17:45  ...      4.7          Meeting\n",
            "4       1/6/2016 14:42    1/6/2016 15:49  ...     63.7   Customer Visit\n",
            "...                ...               ...  ...      ...              ...\n",
            "1151  12/31/2016 13:24  12/31/2016 13:42  ...      3.9   Temporary Site\n",
            "1152  12/31/2016 15:03  12/31/2016 15:38  ...     16.2          Meeting\n",
            "1153  12/31/2016 21:32  12/31/2016 21:50  ...      6.4   Temporary Site\n",
            "1154  12/31/2016 22:08  12/31/2016 23:51  ...     48.2   Temporary Site\n",
            "1155            Totals               NaN  ...  12204.7              NaN\n",
            "\n",
            "[1155 rows x 7 columns]\n"
          ],
          "name": "stdout"
        }
      ]
    },
    {
      "cell_type": "markdown",
      "metadata": {
        "id": "zSrCFFH973u7",
        "colab_type": "text"
      },
      "source": [
        "Explore the details from the MILES column\n"
      ]
    },
    {
      "cell_type": "code",
      "metadata": {
        "id": "RLMqzcD673u8",
        "colab_type": "code",
        "colab": {}
      },
      "source": [
        "#pd.Index([1, 2, 3])"
      ],
      "execution_count": 23,
      "outputs": []
    },
    {
      "cell_type": "code",
      "metadata": {
        "id": "_kkV2tyo73u-",
        "colab_type": "code",
        "colab": {
          "base_uri": "https://localhost:8080/",
          "height": 476
        },
        "outputId": "4aaa447e-da11-401b-f882-c240c3557f8a"
      },
      "source": [
        "print(df.MILES.max())\n",
        "print(df[df.MILES == df.MILES.max()])                               # Show the row that has the max miles \n",
        "print(df.MILES.sort_values(ascending=False).head(10))               # Show the top 10 rides (in terms of distance driven)\n",
        "print(df.sort_values(by='MILES' , ascending=False).head(10))        # Shows the top 10 rows of MILES (decreasing value)"
      ],
      "execution_count": 24,
      "outputs": [
        {
          "output_type": "stream",
          "text": [
            "12204.7\n",
            "     START_DATE END_DATE  CAT START STOP    MILES PURPOSE\n",
            "1155     Totals      NaN  NaN   NaN  NaN  12204.7     NaN\n",
            "1155    12204.7\n",
            "269       310.3\n",
            "270       201.0\n",
            "881       195.9\n",
            "776       195.6\n",
            "546       195.3\n",
            "559       180.2\n",
            "297       174.2\n",
            "299       159.3\n",
            "727       156.9\n",
            "Name: MILES, dtype: float64\n",
            "            START_DATE          END_DATE  ...    MILES         PURPOSE\n",
            "1155            Totals               NaN  ...  12204.7             NaN\n",
            "269    3/25/2016 16:52   3/25/2016 22:22  ...    310.3  Customer Visit\n",
            "270    3/25/2016 22:54    3/26/2016 1:39  ...    201.0         Meeting\n",
            "881   10/30/2016 15:22  10/30/2016 18:23  ...    195.9             NaN\n",
            "776    9/27/2016 21:01    9/28/2016 2:37  ...    195.6             NaN\n",
            "546    7/14/2016 16:39   7/14/2016 20:05  ...    195.3             NaN\n",
            "559    7/17/2016 12:20   7/17/2016 15:25  ...    180.2         Commute\n",
            "297     4/2/2016 19:38    4/2/2016 22:36  ...    174.2  Customer Visit\n",
            "299      4/3/2016 2:00     4/3/2016 4:16  ...    159.3         Meeting\n",
            "727    8/27/2016 16:15   8/27/2016 19:13  ...    156.9             NaN\n",
            "\n",
            "[10 rows x 7 columns]\n"
          ],
          "name": "stdout"
        }
      ]
    },
    {
      "cell_type": "markdown",
      "metadata": {
        "id": "1GS20odV73vA",
        "colab_type": "text"
      },
      "source": [
        "Remove the last row which has some anomalous number in MILES "
      ]
    },
    {
      "cell_type": "code",
      "metadata": {
        "id": "2eX4pT_h73vA",
        "colab_type": "code",
        "colab": {}
      },
      "source": [
        "df = df[df.MILES < 1000]            # Only keep the rows, for which the number of miles is less than 1000."
      ],
      "execution_count": 25,
      "outputs": []
    },
    {
      "cell_type": "code",
      "metadata": {
        "id": "B7CK1vnc73vF",
        "colab_type": "code",
        "colab": {
          "base_uri": "https://localhost:8080/",
          "height": 34
        },
        "outputId": "3ef5c932-0136-46b7-fc68-45af0d09c8c6"
      },
      "source": [
        "len(df)                             # Get the number of rows of dataframe."
      ],
      "execution_count": 26,
      "outputs": [
        {
          "output_type": "execute_result",
          "data": {
            "text/plain": [
              "1155"
            ]
          },
          "metadata": {
            "tags": []
          },
          "execution_count": 26
        }
      ]
    },
    {
      "cell_type": "code",
      "metadata": {
        "id": "2zNcHm2C73vH",
        "colab_type": "code",
        "colab": {
          "base_uri": "https://localhost:8080/",
          "height": 153
        },
        "outputId": "1d486dcf-44e0-4d1f-d151-a9c4aca5c188"
      },
      "source": [
        "df.dtypes                           # Get the datatype for each column of dataframe."
      ],
      "execution_count": 27,
      "outputs": [
        {
          "output_type": "execute_result",
          "data": {
            "text/plain": [
              "START_DATE     object\n",
              "END_DATE       object\n",
              "CAT            object\n",
              "START          object\n",
              "STOP           object\n",
              "MILES         float64\n",
              "PURPOSE        object\n",
              "dtype: object"
            ]
          },
          "metadata": {
            "tags": []
          },
          "execution_count": 27
        }
      ]
    },
    {
      "cell_type": "code",
      "metadata": {
        "id": "qkq1-vMz73vK",
        "colab_type": "code",
        "colab": {
          "base_uri": "https://localhost:8080/",
          "height": 297
        },
        "outputId": "f770f536-d81d-46bd-dafe-1ba17ea4cfa6"
      },
      "source": [
        "df.describe()                        # Get a summary of the numerical columns in the data"
      ],
      "execution_count": 28,
      "outputs": [
        {
          "output_type": "execute_result",
          "data": {
            "text/html": [
              "<div>\n",
              "<style scoped>\n",
              "    .dataframe tbody tr th:only-of-type {\n",
              "        vertical-align: middle;\n",
              "    }\n",
              "\n",
              "    .dataframe tbody tr th {\n",
              "        vertical-align: top;\n",
              "    }\n",
              "\n",
              "    .dataframe thead th {\n",
              "        text-align: right;\n",
              "    }\n",
              "</style>\n",
              "<table border=\"1\" class=\"dataframe\">\n",
              "  <thead>\n",
              "    <tr style=\"text-align: right;\">\n",
              "      <th></th>\n",
              "      <th>MILES</th>\n",
              "    </tr>\n",
              "  </thead>\n",
              "  <tbody>\n",
              "    <tr>\n",
              "      <th>count</th>\n",
              "      <td>1155.000000</td>\n",
              "    </tr>\n",
              "    <tr>\n",
              "      <th>mean</th>\n",
              "      <td>10.566840</td>\n",
              "    </tr>\n",
              "    <tr>\n",
              "      <th>std</th>\n",
              "      <td>21.579106</td>\n",
              "    </tr>\n",
              "    <tr>\n",
              "      <th>min</th>\n",
              "      <td>0.500000</td>\n",
              "    </tr>\n",
              "    <tr>\n",
              "      <th>25%</th>\n",
              "      <td>2.900000</td>\n",
              "    </tr>\n",
              "    <tr>\n",
              "      <th>50%</th>\n",
              "      <td>6.000000</td>\n",
              "    </tr>\n",
              "    <tr>\n",
              "      <th>75%</th>\n",
              "      <td>10.400000</td>\n",
              "    </tr>\n",
              "    <tr>\n",
              "      <th>max</th>\n",
              "      <td>310.300000</td>\n",
              "    </tr>\n",
              "  </tbody>\n",
              "</table>\n",
              "</div>"
            ],
            "text/plain": [
              "             MILES\n",
              "count  1155.000000\n",
              "mean     10.566840\n",
              "std      21.579106\n",
              "min       0.500000\n",
              "25%       2.900000\n",
              "50%       6.000000\n",
              "75%      10.400000\n",
              "max     310.300000"
            ]
          },
          "metadata": {
            "tags": []
          },
          "execution_count": 28
        }
      ]
    },
    {
      "cell_type": "markdown",
      "metadata": {
        "id": "aZbd6Rh673vM",
        "colab_type": "text"
      },
      "source": [
        "### Comments about the above output of df.describe()\n",
        "\n",
        "- The miles driven ranges from 0.5 miles to 12204 miles with an average of 21 miles\n",
        "\n",
        "- Max miles - looks suspect"
      ]
    },
    {
      "cell_type": "markdown",
      "metadata": {
        "id": "QusfvKTc73vM",
        "colab_type": "text"
      },
      "source": [
        "## Dropping rows  which have null values"
      ]
    },
    {
      "cell_type": "code",
      "metadata": {
        "id": "mddHcBMh73vN",
        "colab_type": "code",
        "colab": {}
      },
      "source": [
        "# Get the initial data with dropping the NA values\n",
        "df_dropped = df.dropna()  \n",
        "# Dont do the above step (df.dropna()) on the original dataframe, because you will lose good rows with values.\n",
        "# To avoid losing good rows with values, make a copy and do operations on that."
      ],
      "execution_count": 29,
      "outputs": []
    },
    {
      "cell_type": "code",
      "metadata": {
        "id": "58Hx3VkIEB2J",
        "colab_type": "code",
        "colab": {
          "base_uri": "https://localhost:8080/",
          "height": 34
        },
        "outputId": "ca6c075e-dd4f-4172-c697-82b7bc2d774f"
      },
      "source": [
        "df_dropped.shape          # Get the shape of the dataframe after removing the null values"
      ],
      "execution_count": 30,
      "outputs": [
        {
          "output_type": "execute_result",
          "data": {
            "text/plain": [
              "(653, 7)"
            ]
          },
          "metadata": {
            "tags": []
          },
          "execution_count": 30
        }
      ]
    },
    {
      "cell_type": "markdown",
      "metadata": {
        "id": "qLa3khBj73vO",
        "colab_type": "text"
      },
      "source": [
        "### The filtered dataset with no nulls ( in PURPOSE column )  contains 653 rows of non-null values"
      ]
    },
    {
      "cell_type": "markdown",
      "metadata": {
        "id": "1e4DShJx73vP",
        "colab_type": "text"
      },
      "source": [
        "## PANDAS PROFILING\n",
        "Use some packages that will auto profile your data ( than having to manually type in all the commands )\n",
        "\n",
        "You can find the documentation here ( https://pandas-profiling.github.io/pandas-profiling/docs/ )\n",
        "\n",
        "Github page here - https://github.com/pandas-profiling/pandas-profiling"
      ]
    },
    {
      "cell_type": "code",
      "metadata": {
        "id": "SnPkMOgk73vP",
        "colab_type": "code",
        "colab": {
          "base_uri": "https://localhost:8080/",
          "height": 267,
          "referenced_widgets": [
            "636a8d72e3384528b9ae8cbf2186b09b",
            "8f7fafcf44ae41be9f5619aab14e2b15",
            "3a272646e3134d618fb4b423a91abf51",
            "3caf8ac364574b6fbf816df3eeb303e2",
            "b28ac870e6d541c5b54d4f1dffefce37",
            "9657fb4abc67484cb6e85b69006324e6",
            "118335e46ea94d4c9a101a6eec32a77b",
            "9e73a07e8cb848ff99515c8081ad4751",
            "1922659150cd427d8689868f4dce6b02",
            "2cbcc7ac8d1c4c108e83d87f726ac3fa",
            "db18f08eec74473495074ada24bc89fc",
            "d91a955076314f15a06ec8a5c8093461",
            "066ef01d1d364c1580142f705a559fe9",
            "1c772e21d02343849c54002e7ea6360a",
            "48802e3bbece4c9abbd23a6df5f9a018",
            "f53135e5d10e4e8a96d64944b0b66722",
            "ee7bb7cf782347ed906b5bd6c4e1e253",
            "ab5822f91f7f46cfaf6fce6b3e928356",
            "553b3f7e195c495c80c3ff6d0c5f53ae",
            "835ec7d15fc64a74bd60389e5de5b401",
            "bbbada057d4d43379ccc1038040ee7a6",
            "9a373c2f4b0b4fdd97fef0774218273d",
            "996dce9580da41f4a7f5ebf765f9330b",
            "565ca1a277734a0e8abd255ec2b6014e",
            "e21efa0d2fca46059507f0f013fa9f13",
            "f271def9ac4743e2a0afc0801f948cd0",
            "bebe201dcdea40beaae04e4c5b054a1d",
            "9c62f73b723641ea8e3a4cd292790727",
            "e128e47e7ac54bc3b0b36573473dc615",
            "c9d4246e94824ec7b731b6df98850733",
            "b331d128783348a7a0bb9d098249d998",
            "3a43f1f850254895a9241e9b1ab3dca8"
          ]
        },
        "outputId": "879ce898-f953-4ebe-ff01-3ac8595f04ad"
      },
      "source": [
        "import pandas_profiling \n",
        "\n",
        "#pandas_profiling.ProfileReport(df)  # Of you just want to show here \n",
        "#Or if you want to \n",
        "profile = pandas_profiling.ProfileReport(df)\n",
        "profile.to_file('./output.html')   # output into an html file "
      ],
      "execution_count": 31,
      "outputs": [
        {
          "output_type": "stream",
          "text": [
            "/usr/local/lib/python3.6/dist-packages/statsmodels/tools/_testing.py:19: FutureWarning: pandas.util.testing is deprecated. Use the functions in the public API at pandas.testing instead.\n",
            "  import pandas.util.testing as tm\n"
          ],
          "name": "stderr"
        },
        {
          "output_type": "display_data",
          "data": {
            "application/vnd.jupyter.widget-view+json": {
              "model_id": "636a8d72e3384528b9ae8cbf2186b09b",
              "version_minor": 0,
              "version_major": 2
            },
            "text/plain": [
              "HBox(children=(FloatProgress(value=0.0, description='Summarize dataset', max=21.0, style=ProgressStyle(descrip…"
            ]
          },
          "metadata": {
            "tags": []
          }
        },
        {
          "output_type": "stream",
          "text": [
            "\n"
          ],
          "name": "stdout"
        },
        {
          "output_type": "display_data",
          "data": {
            "application/vnd.jupyter.widget-view+json": {
              "model_id": "1922659150cd427d8689868f4dce6b02",
              "version_minor": 0,
              "version_major": 2
            },
            "text/plain": [
              "HBox(children=(FloatProgress(value=0.0, description='Generate report structure', max=1.0, style=ProgressStyle(…"
            ]
          },
          "metadata": {
            "tags": []
          }
        },
        {
          "output_type": "stream",
          "text": [
            "\n"
          ],
          "name": "stdout"
        },
        {
          "output_type": "display_data",
          "data": {
            "application/vnd.jupyter.widget-view+json": {
              "model_id": "ee7bb7cf782347ed906b5bd6c4e1e253",
              "version_minor": 0,
              "version_major": 2
            },
            "text/plain": [
              "HBox(children=(FloatProgress(value=0.0, description='Render HTML', max=1.0, style=ProgressStyle(description_wi…"
            ]
          },
          "metadata": {
            "tags": []
          }
        },
        {
          "output_type": "stream",
          "text": [
            "\n"
          ],
          "name": "stdout"
        },
        {
          "output_type": "display_data",
          "data": {
            "application/vnd.jupyter.widget-view+json": {
              "model_id": "e21efa0d2fca46059507f0f013fa9f13",
              "version_minor": 0,
              "version_major": 2
            },
            "text/plain": [
              "HBox(children=(FloatProgress(value=0.0, description='Export report to file', max=1.0, style=ProgressStyle(desc…"
            ]
          },
          "metadata": {
            "tags": []
          }
        },
        {
          "output_type": "stream",
          "text": [
            "\n"
          ],
          "name": "stdout"
        }
      ]
    },
    {
      "cell_type": "markdown",
      "metadata": {
        "id": "8jSvBLWi73vR",
        "colab_type": "text"
      },
      "source": [
        "### Lets explore the data parameter wise - \n",
        "\n",
        "1.Destination - (starting and stopping)\n",
        "\n",
        "2.Time - (hour of the day, day of week, month of year)\n",
        "\n",
        "3.Categories\n",
        "\n",
        "4.Purpose \n",
        "\n",
        "5.Grouping two parameters to get more insights\n"
      ]
    },
    {
      "cell_type": "markdown",
      "metadata": {
        "id": "UAamyoph73vR",
        "colab_type": "text"
      },
      "source": [
        "## 1. Understanding  the start and stop points "
      ]
    },
    {
      "cell_type": "code",
      "metadata": {
        "id": "nmE7R0d473vS",
        "colab_type": "code",
        "colab": {
          "base_uri": "https://localhost:8080/",
          "height": 629
        },
        "outputId": "f313f8be-54c5-42a8-eeb4-9ac3b254befe"
      },
      "source": [
        "# Get the unique starting point, unique destination\n",
        "# names of unique start points\n",
        "print(df['START'].unique())"
      ],
      "execution_count": 32,
      "outputs": [
        {
          "output_type": "stream",
          "text": [
            "['Fort Pierce' 'West Palm Beach' 'Cary' 'Jamaica' 'New York' 'Elmhurst'\n",
            " 'Midtown' 'East Harlem' 'Flatiron District' 'Midtown East'\n",
            " 'Hudson Square' 'Lower Manhattan' \"Hell's Kitchen\" 'Downtown' 'Gulfton'\n",
            " 'Houston' 'Eagan Park' 'Morrisville' 'Durham' 'Farmington Woods'\n",
            " 'Whitebridge' 'Lake Wellingborough' 'Fayetteville Street' 'Raleigh'\n",
            " 'Hazelwood' 'Fairmont' 'Meredith Townes' 'Apex' 'Chapel Hill'\n",
            " 'Northwoods' 'Edgehill Farms' 'Tanglewood' 'Preston' 'Eastgate'\n",
            " 'East Elmhurst' 'Jackson Heights' 'Long Island City' 'Katunayaka'\n",
            " 'Unknown Location' 'Colombo' 'Nugegoda' 'Islamabad' 'R?walpindi'\n",
            " 'Noorpur Shahan' 'Heritage Pines' 'Westpark Place' 'Waverly Place'\n",
            " 'Wayne Ridge' 'Weston' 'East Austin' 'West University' 'South Congress'\n",
            " 'The Drag' 'Congress Ave District' 'Red River District' 'Georgian Acres'\n",
            " 'North Austin' 'Coxville' 'Convention Center District' 'Austin' 'Katy'\n",
            " 'Sharpstown' 'Sugar Land' 'Galveston' 'Port Bolivar' 'Washington Avenue'\n",
            " 'Briar Meadow' 'Latta' 'Jacksonville' 'Couples Glen' 'Kissimmee'\n",
            " 'Lake Reams' 'Orlando' 'Sand Lake Commons' 'Sky Lake' 'Daytona Beach'\n",
            " 'Ridgeland' 'Florence' 'Meredith' 'Holly Springs' 'Chessington'\n",
            " 'Burtrose' 'Parkway' 'Mcvan' 'Capitol One' 'University District'\n",
            " 'Seattle' 'Redmond' 'Bellevue' 'San Francisco' 'Palo Alto' 'Sunnyvale'\n",
            " 'Newark' 'Menlo Park' 'Old City' 'Savon Height' 'Kilarney Woods'\n",
            " 'Townes at Everett Crossing' 'Huntington Woods' 'Seaport'\n",
            " 'Medical Centre' 'Rose Hill' 'Soho' 'Tribeca' 'Financial District'\n",
            " 'Oakland' 'Emeryville' 'Berkeley' 'Kenner' 'CBD' 'Lower Garden District'\n",
            " 'Lakeview' 'Storyville' 'New Orleans' 'Metairie' 'Chalmette' 'Arabi'\n",
            " 'Pontchartrain Shores' 'Marigny' 'Covington' 'Mandeville'\n",
            " 'Jamestown Court' 'Summerwinds' 'Parkwood' 'Pontchartrain Beach'\n",
            " 'St Thomas' 'Banner Elk' 'Elk Park' 'Newland' 'Boone' 'Stonewater'\n",
            " 'Lexington Park at Amberly' 'Arlington Park at Amberly' 'Arlington'\n",
            " 'Kalorama Triangle' 'K Street' 'West End' 'Connecticut Avenue'\n",
            " 'Columbia Heights' 'Washington' 'Wake Forest' 'Lahore' 'Karachi'\n",
            " 'SOMISSPO' 'West Berkeley' 'North Berkeley Hills' 'San Jose' 'Eagle Rock'\n",
            " 'Winston Salem' 'Asheville' 'Topton' 'Hayesville' 'Bryson City' 'Almond'\n",
            " 'Mebane' 'Agnew' 'Cory' 'Renaissance' 'Santa Clara' 'NOMA' 'Sunnyside'\n",
            " 'Ingleside' 'Central' 'Tenderloin' 'College Avenue' 'South' 'Southside'\n",
            " 'South Berkeley' 'Mountain View' 'El Cerrito' 'Krendle Woods' 'Wake Co.'\n",
            " 'Fuquay-Varina' 'Rawalpindi' 'Kar?chi' 'Katunayake' 'Gampaha']\n"
          ],
          "name": "stdout"
        }
      ]
    },
    {
      "cell_type": "code",
      "metadata": {
        "id": "W_zTp-yp73vU",
        "colab_type": "code",
        "colab": {
          "base_uri": "https://localhost:8080/",
          "height": 34
        },
        "outputId": "0b4f2821-7f53-4a0f-ecfb-2441ab7d983f"
      },
      "source": [
        "len(df['START'].unique())                              # Count of unique start points using  len()"
      ],
      "execution_count": 33,
      "outputs": [
        {
          "output_type": "execute_result",
          "data": {
            "text/plain": [
              "177"
            ]
          },
          "metadata": {
            "tags": []
          },
          "execution_count": 33
        }
      ]
    },
    {
      "cell_type": "code",
      "metadata": {
        "id": "SFUlm5TW73vW",
        "colab_type": "code",
        "colab": {
          "base_uri": "https://localhost:8080/",
          "height": 34
        },
        "outputId": "91b89857-4af6-4c68-b7e4-6a43decca54b"
      },
      "source": [
        "print(df['START'].nunique())                           # or use can use the nunique function"
      ],
      "execution_count": 34,
      "outputs": [
        {
          "output_type": "stream",
          "text": [
            "177\n"
          ],
          "name": "stdout"
        }
      ]
    },
    {
      "cell_type": "code",
      "metadata": {
        "id": "MNH8DaQ773vY",
        "colab_type": "code",
        "colab": {
          "base_uri": "https://localhost:8080/",
          "height": 680
        },
        "outputId": "5ca7c9ac-266d-4cd8-9016-b9bdc09dd4a7"
      },
      "source": [
        "# Get the names of stopping destinations, unique destinations\n",
        "# Names of unique stopping points\n",
        "print(df['STOP'].unique())"
      ],
      "execution_count": 35,
      "outputs": [
        {
          "output_type": "stream",
          "text": [
            "['Fort Pierce' 'West Palm Beach' 'Palm Beach' 'Cary' 'Morrisville'\n",
            " 'New York' 'Queens' 'East Harlem' 'NoMad' 'Midtown' 'Midtown East'\n",
            " 'Hudson Square' 'Lower Manhattan' \"Hell's Kitchen\" 'Queens County'\n",
            " 'Gulfton' 'Downtown' 'Houston' 'Jamestown Court' 'Durham' 'Whitebridge'\n",
            " 'Lake Wellingborough' 'Raleigh' 'Umstead' 'Hazelwood' 'Westpark Place'\n",
            " 'Meredith Townes' 'Leesville Hollow' 'Apex' 'Chapel Hill'\n",
            " 'Williamsburg Manor' 'Macgregor Downs' 'Edgehill Farms' 'Northwoods'\n",
            " 'Tanglewood' 'Preston' 'Walnut Terrace' 'Jackson Heights' 'East Elmhurst'\n",
            " 'Midtown West' 'Long Island City' 'Jamaica' 'Unknown Location' 'Colombo'\n",
            " 'Nugegoda' 'Katunayaka' 'Islamabad' 'R?walpindi' 'Noorpur Shahan'\n",
            " 'Heritage Pines' 'Waverly Place' 'Wayne Ridge' 'Depot Historic District'\n",
            " 'Weston' 'West University' 'South Congress' 'Arts District'\n",
            " 'Congress Ave District' 'Red River District' 'The Drag'\n",
            " 'Convention Center District' 'North Austin' 'Coxville' 'Katy' 'Alief'\n",
            " 'Sharpstown' 'Sugar Land' 'Galveston' 'Port Bolivar' 'Washington Avenue'\n",
            " 'Briar Meadow' 'Greater Greenspoint' 'Latta' 'Jacksonville' 'Kissimmee'\n",
            " 'Isles of Buena Vista' 'Orlando' 'Lake Reams' 'Vista East' 'Sky Lake'\n",
            " 'Sand Lake Commons' 'Daytona Beach' 'Ridgeland' 'Florence' 'Cedar Hill'\n",
            " 'Holly Springs' 'Harden Place' 'Chessington' 'Burtrose' 'Parkway'\n",
            " 'Capitol One' 'University District' 'Redmond' 'Bellevue' 'Seattle'\n",
            " 'Mcvan' 'Palo Alto' 'Sunnyvale' 'Newark' 'Menlo Park' 'San Francisco'\n",
            " 'Parkway Museums' 'Hog Island' 'Savon Height' 'Kildaire Farms'\n",
            " 'Kilarney Woods' 'Gramercy-Flatiron' 'Tudor City' 'Soho' 'Tribeca'\n",
            " 'Financial District' 'Kips Bay' 'Emeryville' 'Berkeley' 'Oakland'\n",
            " 'Bay Farm Island' 'New Orleans' 'Lower Garden District' 'Lakeview'\n",
            " 'Storyville' 'Faubourg Marigny' 'Metairie' 'Kenner' 'Bywater' 'Chalmette'\n",
            " 'Arabi' 'Pontchartrain Shores' 'Marigny' 'Covington' 'Mandeville'\n",
            " 'Summerwinds' 'Parkwood' 'Pontchartrain Beach' 'CBD' 'St Thomas'\n",
            " 'Banner Elk' 'Elk Park' 'Newland' 'Boone' 'Stonewater'\n",
            " 'Lexington Park at Amberly' 'Arlington Park at Amberly' 'Washington'\n",
            " 'K Street' 'Kalorama Triangle' 'Northwest Rectangle' 'Columbia Heights'\n",
            " 'Arlington' 'Farmington Woods' 'Wake Forest' 'Lahore' 'Karachi'\n",
            " 'French Quarter' 'North Berkeley Hills' 'Southside' 'San Jose'\n",
            " 'Eagle Rock' 'Huntington Woods' 'Winston Salem' 'Asheville' 'Topton'\n",
            " 'Hayesville' 'Bryson City' 'Almond' 'Mebane' 'Santa Clara' 'Cory' 'Agnew'\n",
            " 'Renaissance' 'West Berkeley' 'Central' 'Sunnyside' 'Ingleside'\n",
            " 'Potrero Flats' 'SOMISSPO' 'Tenderloin' 'College Avenue' 'South'\n",
            " 'Southwest Berkeley' 'South Berkeley' 'Mountain View' 'El Cerrito'\n",
            " 'Wake Co.' 'Fuquay-Varina' 'Rawalpindi' 'Kar?chi' 'Gampaha' 'Ilukwatta']\n"
          ],
          "name": "stdout"
        }
      ]
    },
    {
      "cell_type": "code",
      "metadata": {
        "id": "3O2iTz9j73va",
        "colab_type": "code",
        "colab": {
          "base_uri": "https://localhost:8080/",
          "height": 34
        },
        "outputId": "08f687f9-d25d-4f82-8393-3118a91c9474"
      },
      "source": [
        "print(len(df['STOP'].unique()))            # count of unique stopping points"
      ],
      "execution_count": 36,
      "outputs": [
        {
          "output_type": "stream",
          "text": [
            "188\n"
          ],
          "name": "stdout"
        }
      ]
    },
    {
      "cell_type": "code",
      "metadata": {
        "id": "vlu4Vd-g73vc",
        "colab_type": "code",
        "colab": {
          "base_uri": "https://localhost:8080/",
          "height": 51
        },
        "outputId": "71443d6c-dc93-400b-9c43-219e3154e9fe"
      },
      "source": [
        "# To take it one level up in the ease of comparing between two series/lists , use sets\n",
        "# Find details comparing (between) unique start and stop locations \n",
        "\n",
        "s_start = set(df['START'])                 # names of unique start points\n",
        "s_stop = set(df['STOP'])                   # names of unique stop points\n",
        "\n",
        "print(len(s_start))\n",
        "print(len(s_stop))"
      ],
      "execution_count": 37,
      "outputs": [
        {
          "output_type": "stream",
          "text": [
            "177\n",
            "188\n"
          ],
          "name": "stdout"
        }
      ]
    },
    {
      "cell_type": "code",
      "metadata": {
        "id": "nF86GHP873ve",
        "colab_type": "code",
        "colab": {
          "base_uri": "https://localhost:8080/",
          "height": 85
        },
        "outputId": "452e15b8-6bd1-4261-974a-d6d40175375b"
      },
      "source": [
        "#Example on how to use sets to do intersection , union and difference\n",
        "\n",
        "l1 = [1,2,3,4,4]\n",
        "l2 = [3,4,5,6]\n",
        "\n",
        "s1 = set(l1)\n",
        "s2 = set(l2)\n",
        "\n",
        "print(s2 - s1) # difference  (whats in l2 and not in l1)\n",
        "print(s1 - s2) # difference (whats in l1 and not in l2)\n",
        "print(s2 | s1) # union \n",
        "print(s2 & s1) # intersection"
      ],
      "execution_count": 38,
      "outputs": [
        {
          "output_type": "stream",
          "text": [
            "{5, 6}\n",
            "{1, 2}\n",
            "{1, 2, 3, 4, 5, 6}\n",
            "{3, 4}\n"
          ],
          "name": "stdout"
        }
      ]
    },
    {
      "cell_type": "markdown",
      "metadata": {
        "id": "whfCWQeM73vg",
        "colab_type": "text"
      },
      "source": [
        "Stations which are appeared in both start and stop locations "
      ]
    },
    {
      "cell_type": "code",
      "metadata": {
        "id": "4DB98NTT73vh",
        "colab_type": "code",
        "colab": {
          "base_uri": "https://localhost:8080/",
          "height": 1000
        },
        "outputId": "75cf9a19-c0d1-4e4e-86ee-e7d436e2cb22"
      },
      "source": [
        "s_stop & s_start"
      ],
      "execution_count": 39,
      "outputs": [
        {
          "output_type": "execute_result",
          "data": {
            "text/plain": [
              "{'Agnew',\n",
              " 'Almond',\n",
              " 'Apex',\n",
              " 'Arabi',\n",
              " 'Arlington',\n",
              " 'Arlington Park at Amberly',\n",
              " 'Asheville',\n",
              " 'Banner Elk',\n",
              " 'Bellevue',\n",
              " 'Berkeley',\n",
              " 'Boone',\n",
              " 'Briar Meadow',\n",
              " 'Bryson City',\n",
              " 'Burtrose',\n",
              " 'CBD',\n",
              " 'Capitol One',\n",
              " 'Cary',\n",
              " 'Central',\n",
              " 'Chalmette',\n",
              " 'Chapel Hill',\n",
              " 'Chessington',\n",
              " 'College Avenue',\n",
              " 'Colombo',\n",
              " 'Columbia Heights',\n",
              " 'Congress Ave District',\n",
              " 'Convention Center District',\n",
              " 'Cory',\n",
              " 'Covington',\n",
              " 'Coxville',\n",
              " 'Daytona Beach',\n",
              " 'Downtown',\n",
              " 'Durham',\n",
              " 'Eagle Rock',\n",
              " 'East Elmhurst',\n",
              " 'East Harlem',\n",
              " 'Edgehill Farms',\n",
              " 'El Cerrito',\n",
              " 'Elk Park',\n",
              " 'Emeryville',\n",
              " 'Farmington Woods',\n",
              " 'Financial District',\n",
              " 'Florence',\n",
              " 'Fort Pierce',\n",
              " 'Fuquay-Varina',\n",
              " 'Galveston',\n",
              " 'Gampaha',\n",
              " 'Gulfton',\n",
              " 'Hayesville',\n",
              " 'Hazelwood',\n",
              " \"Hell's Kitchen\",\n",
              " 'Heritage Pines',\n",
              " 'Holly Springs',\n",
              " 'Houston',\n",
              " 'Hudson Square',\n",
              " 'Huntington Woods',\n",
              " 'Ingleside',\n",
              " 'Islamabad',\n",
              " 'Jackson Heights',\n",
              " 'Jacksonville',\n",
              " 'Jamaica',\n",
              " 'Jamestown Court',\n",
              " 'K Street',\n",
              " 'Kalorama Triangle',\n",
              " 'Kar?chi',\n",
              " 'Karachi',\n",
              " 'Katunayaka',\n",
              " 'Katy',\n",
              " 'Kenner',\n",
              " 'Kilarney Woods',\n",
              " 'Kissimmee',\n",
              " 'Lahore',\n",
              " 'Lake Reams',\n",
              " 'Lake Wellingborough',\n",
              " 'Lakeview',\n",
              " 'Latta',\n",
              " 'Lexington Park at Amberly',\n",
              " 'Long Island City',\n",
              " 'Lower Garden District',\n",
              " 'Lower Manhattan',\n",
              " 'Mandeville',\n",
              " 'Marigny',\n",
              " 'Mcvan',\n",
              " 'Mebane',\n",
              " 'Menlo Park',\n",
              " 'Meredith Townes',\n",
              " 'Metairie',\n",
              " 'Midtown',\n",
              " 'Midtown East',\n",
              " 'Morrisville',\n",
              " 'Mountain View',\n",
              " 'New Orleans',\n",
              " 'New York',\n",
              " 'Newark',\n",
              " 'Newland',\n",
              " 'Noorpur Shahan',\n",
              " 'North Austin',\n",
              " 'North Berkeley Hills',\n",
              " 'Northwoods',\n",
              " 'Nugegoda',\n",
              " 'Oakland',\n",
              " 'Orlando',\n",
              " 'Palo Alto',\n",
              " 'Parkway',\n",
              " 'Parkwood',\n",
              " 'Pontchartrain Beach',\n",
              " 'Pontchartrain Shores',\n",
              " 'Port Bolivar',\n",
              " 'Preston',\n",
              " 'R?walpindi',\n",
              " 'Raleigh',\n",
              " 'Rawalpindi',\n",
              " 'Red River District',\n",
              " 'Redmond',\n",
              " 'Renaissance',\n",
              " 'Ridgeland',\n",
              " 'SOMISSPO',\n",
              " 'San Francisco',\n",
              " 'San Jose',\n",
              " 'Sand Lake Commons',\n",
              " 'Santa Clara',\n",
              " 'Savon Height',\n",
              " 'Seattle',\n",
              " 'Sharpstown',\n",
              " 'Sky Lake',\n",
              " 'Soho',\n",
              " 'South',\n",
              " 'South Berkeley',\n",
              " 'South Congress',\n",
              " 'Southside',\n",
              " 'St Thomas',\n",
              " 'Stonewater',\n",
              " 'Storyville',\n",
              " 'Sugar Land',\n",
              " 'Summerwinds',\n",
              " 'Sunnyside',\n",
              " 'Sunnyvale',\n",
              " 'Tanglewood',\n",
              " 'Tenderloin',\n",
              " 'The Drag',\n",
              " 'Topton',\n",
              " 'Tribeca',\n",
              " 'University District',\n",
              " 'Unknown Location',\n",
              " 'Wake Co.',\n",
              " 'Wake Forest',\n",
              " 'Washington',\n",
              " 'Washington Avenue',\n",
              " 'Waverly Place',\n",
              " 'Wayne Ridge',\n",
              " 'West Berkeley',\n",
              " 'West Palm Beach',\n",
              " 'West University',\n",
              " 'Weston',\n",
              " 'Westpark Place',\n",
              " 'Whitebridge',\n",
              " 'Winston Salem'}"
            ]
          },
          "metadata": {
            "tags": []
          },
          "execution_count": 39
        }
      ]
    },
    {
      "cell_type": "code",
      "metadata": {
        "id": "IdfGWVrR73vj",
        "colab_type": "code",
        "colab": {
          "base_uri": "https://localhost:8080/",
          "height": 204
        },
        "outputId": "b201847d-212d-40dc-8d23-ffd5df88d4f1"
      },
      "source": [
        "#Identify popular start points - top 10\n",
        "df['START'].value_counts().head(10)"
      ],
      "execution_count": 40,
      "outputs": [
        {
          "output_type": "execute_result",
          "data": {
            "text/plain": [
              "Cary                201\n",
              "Unknown Location    148\n",
              "Morrisville          85\n",
              "Whitebridge          68\n",
              "Islamabad            57\n",
              "Durham               37\n",
              "Lahore               36\n",
              "Raleigh              28\n",
              "Kar?chi              27\n",
              "Apex                 17\n",
              "Name: START, dtype: int64"
            ]
          },
          "metadata": {
            "tags": []
          },
          "execution_count": 40
        }
      ]
    },
    {
      "cell_type": "code",
      "metadata": {
        "id": "0_VAzZd573vl",
        "colab_type": "code",
        "colab": {
          "base_uri": "https://localhost:8080/",
          "height": 204
        },
        "outputId": "44fe8603-afb2-448c-884d-661ff9e150e4"
      },
      "source": [
        "#Identify popular stop destinations - top 10\n",
        "df['STOP'].value_counts().head(10)"
      ],
      "execution_count": 41,
      "outputs": [
        {
          "output_type": "execute_result",
          "data": {
            "text/plain": [
              "Cary                203\n",
              "Unknown Location    149\n",
              "Morrisville          84\n",
              "Whitebridge          65\n",
              "Islamabad            58\n",
              "Lahore               36\n",
              "Durham               36\n",
              "Raleigh              29\n",
              "Kar?chi              26\n",
              "Apex                 17\n",
              "Name: STOP, dtype: int64"
            ]
          },
          "metadata": {
            "tags": []
          },
          "execution_count": 41
        }
      ]
    },
    {
      "cell_type": "code",
      "metadata": {
        "id": "ax8JSeaj73vn",
        "colab_type": "code",
        "colab": {
          "base_uri": "https://localhost:8080/",
          "height": 419
        },
        "outputId": "eee25698-a344-45da-fd11-7297c3b0219c"
      },
      "source": [
        "# Are there cases where the start and the stop location are the same  ? \n",
        "df[df['START'] == df['STOP']]"
      ],
      "execution_count": 42,
      "outputs": [
        {
          "output_type": "execute_result",
          "data": {
            "text/html": [
              "<div>\n",
              "<style scoped>\n",
              "    .dataframe tbody tr th:only-of-type {\n",
              "        vertical-align: middle;\n",
              "    }\n",
              "\n",
              "    .dataframe tbody tr th {\n",
              "        vertical-align: top;\n",
              "    }\n",
              "\n",
              "    .dataframe thead th {\n",
              "        text-align: right;\n",
              "    }\n",
              "</style>\n",
              "<table border=\"1\" class=\"dataframe\">\n",
              "  <thead>\n",
              "    <tr style=\"text-align: right;\">\n",
              "      <th></th>\n",
              "      <th>START_DATE</th>\n",
              "      <th>END_DATE</th>\n",
              "      <th>CAT</th>\n",
              "      <th>START</th>\n",
              "      <th>STOP</th>\n",
              "      <th>MILES</th>\n",
              "      <th>PURPOSE</th>\n",
              "    </tr>\n",
              "  </thead>\n",
              "  <tbody>\n",
              "    <tr>\n",
              "      <th>0</th>\n",
              "      <td>1/1/2016 21:11</td>\n",
              "      <td>1/1/2016 21:17</td>\n",
              "      <td>Business</td>\n",
              "      <td>Fort Pierce</td>\n",
              "      <td>Fort Pierce</td>\n",
              "      <td>5.1</td>\n",
              "      <td>Meal/Entertain</td>\n",
              "    </tr>\n",
              "    <tr>\n",
              "      <th>1</th>\n",
              "      <td>1/2/2016 1:25</td>\n",
              "      <td>1/2/2016 1:37</td>\n",
              "      <td>Business</td>\n",
              "      <td>Fort Pierce</td>\n",
              "      <td>Fort Pierce</td>\n",
              "      <td>5.0</td>\n",
              "      <td>NaN</td>\n",
              "    </tr>\n",
              "    <tr>\n",
              "      <th>2</th>\n",
              "      <td>1/2/2016 20:25</td>\n",
              "      <td>1/2/2016 20:38</td>\n",
              "      <td>Business</td>\n",
              "      <td>Fort Pierce</td>\n",
              "      <td>Fort Pierce</td>\n",
              "      <td>4.8</td>\n",
              "      <td>Errand/Supplies</td>\n",
              "    </tr>\n",
              "    <tr>\n",
              "      <th>3</th>\n",
              "      <td>1/5/2016 17:31</td>\n",
              "      <td>1/5/2016 17:45</td>\n",
              "      <td>Business</td>\n",
              "      <td>Fort Pierce</td>\n",
              "      <td>Fort Pierce</td>\n",
              "      <td>4.7</td>\n",
              "      <td>Meeting</td>\n",
              "    </tr>\n",
              "    <tr>\n",
              "      <th>5</th>\n",
              "      <td>1/6/2016 17:15</td>\n",
              "      <td>1/6/2016 17:19</td>\n",
              "      <td>Business</td>\n",
              "      <td>West Palm Beach</td>\n",
              "      <td>West Palm Beach</td>\n",
              "      <td>4.3</td>\n",
              "      <td>Meal/Entertain</td>\n",
              "    </tr>\n",
              "    <tr>\n",
              "      <th>...</th>\n",
              "      <td>...</td>\n",
              "      <td>...</td>\n",
              "      <td>...</td>\n",
              "      <td>...</td>\n",
              "      <td>...</td>\n",
              "      <td>...</td>\n",
              "      <td>...</td>\n",
              "    </tr>\n",
              "    <tr>\n",
              "      <th>1147</th>\n",
              "      <td>12/30/2016 15:41</td>\n",
              "      <td>12/30/2016 16:03</td>\n",
              "      <td>Business</td>\n",
              "      <td>Kar?chi</td>\n",
              "      <td>Kar?chi</td>\n",
              "      <td>4.6</td>\n",
              "      <td>Errand/Supplies</td>\n",
              "    </tr>\n",
              "    <tr>\n",
              "      <th>1148</th>\n",
              "      <td>12/30/2016 16:45</td>\n",
              "      <td>12/30/2016 17:08</td>\n",
              "      <td>Business</td>\n",
              "      <td>Kar?chi</td>\n",
              "      <td>Kar?chi</td>\n",
              "      <td>4.6</td>\n",
              "      <td>Meeting</td>\n",
              "    </tr>\n",
              "    <tr>\n",
              "      <th>1149</th>\n",
              "      <td>12/30/2016 23:06</td>\n",
              "      <td>12/30/2016 23:10</td>\n",
              "      <td>Business</td>\n",
              "      <td>Kar?chi</td>\n",
              "      <td>Kar?chi</td>\n",
              "      <td>0.8</td>\n",
              "      <td>Customer Visit</td>\n",
              "    </tr>\n",
              "    <tr>\n",
              "      <th>1150</th>\n",
              "      <td>12/31/2016 1:07</td>\n",
              "      <td>12/31/2016 1:14</td>\n",
              "      <td>Business</td>\n",
              "      <td>Kar?chi</td>\n",
              "      <td>Kar?chi</td>\n",
              "      <td>0.7</td>\n",
              "      <td>Meeting</td>\n",
              "    </tr>\n",
              "    <tr>\n",
              "      <th>1152</th>\n",
              "      <td>12/31/2016 15:03</td>\n",
              "      <td>12/31/2016 15:38</td>\n",
              "      <td>Business</td>\n",
              "      <td>Unknown Location</td>\n",
              "      <td>Unknown Location</td>\n",
              "      <td>16.2</td>\n",
              "      <td>Meeting</td>\n",
              "    </tr>\n",
              "  </tbody>\n",
              "</table>\n",
              "<p>288 rows × 7 columns</p>\n",
              "</div>"
            ],
            "text/plain": [
              "            START_DATE          END_DATE  ... MILES          PURPOSE\n",
              "0       1/1/2016 21:11    1/1/2016 21:17  ...   5.1   Meal/Entertain\n",
              "1        1/2/2016 1:25     1/2/2016 1:37  ...   5.0              NaN\n",
              "2       1/2/2016 20:25    1/2/2016 20:38  ...   4.8  Errand/Supplies\n",
              "3       1/5/2016 17:31    1/5/2016 17:45  ...   4.7          Meeting\n",
              "5       1/6/2016 17:15    1/6/2016 17:19  ...   4.3   Meal/Entertain\n",
              "...                ...               ...  ...   ...              ...\n",
              "1147  12/30/2016 15:41  12/30/2016 16:03  ...   4.6  Errand/Supplies\n",
              "1148  12/30/2016 16:45  12/30/2016 17:08  ...   4.6          Meeting\n",
              "1149  12/30/2016 23:06  12/30/2016 23:10  ...   0.8   Customer Visit\n",
              "1150   12/31/2016 1:07   12/31/2016 1:14  ...   0.7          Meeting\n",
              "1152  12/31/2016 15:03  12/31/2016 15:38  ...  16.2          Meeting\n",
              "\n",
              "[288 rows x 7 columns]"
            ]
          },
          "metadata": {
            "tags": []
          },
          "execution_count": 42
        }
      ]
    },
    {
      "cell_type": "code",
      "metadata": {
        "id": "I1oDU0J-73vr",
        "colab_type": "code",
        "colab": {
          "base_uri": "https://localhost:8080/",
          "height": 221
        },
        "outputId": "3794aca1-8d5a-4e1b-f17c-53155cd90bdd"
      },
      "source": [
        "# Favorite starting point w.r.t. the total miles covered \n",
        "df.groupby('START')['MILES'].sum().sort_values(ascending = False ).head(10)"
      ],
      "execution_count": 43,
      "outputs": [
        {
          "output_type": "execute_result",
          "data": {
            "text/plain": [
              "START\n",
              "Unknown Location    1976.5\n",
              "Cary                1791.3\n",
              "Morrisville          671.7\n",
              "Raleigh              433.0\n",
              "Islamabad            401.2\n",
              "Durham               384.4\n",
              "Jacksonville         375.2\n",
              "Latta                310.3\n",
              "Asheville            287.7\n",
              "Whitebridge          273.4\n",
              "Name: MILES, dtype: float64"
            ]
          },
          "metadata": {
            "tags": []
          },
          "execution_count": 43
        }
      ]
    },
    {
      "cell_type": "markdown",
      "metadata": {
        "id": "sN8WmJMa73vu",
        "colab_type": "text"
      },
      "source": [
        "#### Find out most farthest start and stop pair - top10 ( aggregation ) ( BY TOTAL miles COVERED EVER ! )"
      ]
    },
    {
      "cell_type": "code",
      "metadata": {
        "id": "Qzix_S2V73vu",
        "colab_type": "code",
        "colab": {
          "base_uri": "https://localhost:8080/",
          "height": 300
        },
        "outputId": "639a15f5-bdf7-4dbf-8dc7-35a0db4e718e"
      },
      "source": [
        "#Doing a quick plot \n",
        "k3 = df.groupby('START')['MILES'].sum().sort_values(ascending=False).head(10) \n",
        "k3= k3.reset_index() # flatten the dataframe \n",
        "k3.columns = ['START' ,'sum_of_miles']\n",
        "%matplotlib inline \n",
        "import seaborn as sns\n",
        "sns.barplot(data= k3 , x= 'START' , y ='sum_of_miles')"
      ],
      "execution_count": 44,
      "outputs": [
        {
          "output_type": "execute_result",
          "data": {
            "text/plain": [
              "<matplotlib.axes._subplots.AxesSubplot at 0x7fa5e9d780f0>"
            ]
          },
          "metadata": {
            "tags": []
          },
          "execution_count": 44
        },
        {
          "output_type": "display_data",
          "data": {
            "image/png": "[encoded data removed]",
            "text/plain": [
              "<Figure size 432x288 with 1 Axes>"
            ]
          },
          "metadata": {
            "tags": [],
            "needs_background": "light"
          }
        }
      ]
    },
    {
      "cell_type": "code",
      "metadata": {
        "id": "NU-ub4jM73vx",
        "colab_type": "code",
        "colab": {
          "base_uri": "https://localhost:8080/",
          "height": 136
        },
        "outputId": "9ba3b3c8-9701-4a98-f36b-186d2900a11c"
      },
      "source": [
        "df.groupby(['START','STOP'])['MILES'].sum().sort_values(ascending=False).head()"
      ],
      "execution_count": 45,
      "outputs": [
        {
          "output_type": "execute_result",
          "data": {
            "text/plain": [
              "START             STOP            \n",
              "Unknown Location  Unknown Location    1360.8\n",
              "Morrisville       Cary                 395.7\n",
              "Cary              Durham               390.0\n",
              "                  Morrisville          380.0\n",
              "Raleigh           Cary                 365.7\n",
              "Name: MILES, dtype: float64"
            ]
          },
          "metadata": {
            "tags": []
          },
          "execution_count": 45
        }
      ]
    },
    {
      "cell_type": "code",
      "metadata": {
        "id": "VyYxybbN73v0",
        "colab_type": "code",
        "colab": {
          "base_uri": "https://localhost:8080/",
          "height": 221
        },
        "outputId": "43a59666-7341-4f3f-e98f-54d92044bc56"
      },
      "source": [
        "#Dropping Unknown Location Value  - Save into another dataframe (you dont want to overwrite the original df)\n",
        "df2 = df[df['START'] != 'Unknown Location']             # Makes a new dataframe, which don't have \"Unknown Location\" as starting point\n",
        "df2 = df2[df2['STOP'] != 'Unknown Location']            # Further updates the df2 dataframe, by removing \"Unknown Location\" as stopping point\n",
        "\n",
        "df2.groupby(['START','STOP'])['MILES'].sum().sort_values(ascending=False).head(10)"
      ],
      "execution_count": 46,
      "outputs": [
        {
          "output_type": "execute_result",
          "data": {
            "text/plain": [
              "START         STOP        \n",
              "Morrisville   Cary            395.7\n",
              "Cary          Durham          390.0\n",
              "              Morrisville     380.0\n",
              "Raleigh       Cary            365.7\n",
              "Cary          Raleigh         336.5\n",
              "Durham        Cary            334.4\n",
              "Latta         Jacksonville    310.3\n",
              "Cary          Cary            255.9\n",
              "Jacksonville  Kissimmee       201.0\n",
              "Asheville     Mebane          195.9\n",
              "Name: MILES, dtype: float64"
            ]
          },
          "metadata": {
            "tags": []
          },
          "execution_count": 46
        }
      ]
    },
    {
      "cell_type": "markdown",
      "metadata": {
        "id": "ZeYVvHB373v5",
        "colab_type": "text"
      },
      "source": [
        "The most popular start and stop pair - ( BY COUNT of travels! )"
      ]
    },
    {
      "cell_type": "code",
      "metadata": {
        "scrolled": true,
        "id": "RgqZfjxm73v6",
        "colab_type": "code",
        "colab": {
          "base_uri": "https://localhost:8080/",
          "height": 221
        },
        "outputId": "5a0a72da-4e80-4162-93c5-409f2a4d5398"
      },
      "source": [
        "df2.groupby(['START','STOP'])['MILES'].size().sort_values(ascending=False).head(10)"
      ],
      "execution_count": 47,
      "outputs": [
        {
          "output_type": "execute_result",
          "data": {
            "text/plain": [
              "START        STOP       \n",
              "Morrisville  Cary           75\n",
              "Cary         Morrisville    67\n",
              "             Cary           53\n",
              "             Durham         36\n",
              "Durham       Cary           32\n",
              "Lahore       Lahore         27\n",
              "Islamabad    Islamabad      25\n",
              "Cary         Raleigh        23\n",
              "Raleigh      Cary           21\n",
              "Kar?chi      Kar?chi        20\n",
              "Name: MILES, dtype: int64"
            ]
          },
          "metadata": {
            "tags": []
          },
          "execution_count": 47
        }
      ]
    },
    {
      "cell_type": "markdown",
      "metadata": {
        "id": "12S-vpsk73v8",
        "colab_type": "text"
      },
      "source": [
        "**The most popular start to destination pair is Morrisville-Cary**"
      ]
    },
    {
      "cell_type": "markdown",
      "metadata": {
        "id": "AEuPLlqK73v8",
        "colab_type": "text"
      },
      "source": [
        "## 2. Manipulating date & time objects"
      ]
    },
    {
      "cell_type": "code",
      "metadata": {
        "id": "aMvHdBEA73v9",
        "colab_type": "code",
        "colab": {
          "base_uri": "https://localhost:8080/",
          "height": 204
        },
        "outputId": "c19995a9-3de5-4626-eb2f-b3e176900b48"
      },
      "source": [
        "df.head()"
      ],
      "execution_count": 48,
      "outputs": [
        {
          "output_type": "execute_result",
          "data": {
            "text/html": [
              "<div>\n",
              "<style scoped>\n",
              "    .dataframe tbody tr th:only-of-type {\n",
              "        vertical-align: middle;\n",
              "    }\n",
              "\n",
              "    .dataframe tbody tr th {\n",
              "        vertical-align: top;\n",
              "    }\n",
              "\n",
              "    .dataframe thead th {\n",
              "        text-align: right;\n",
              "    }\n",
              "</style>\n",
              "<table border=\"1\" class=\"dataframe\">\n",
              "  <thead>\n",
              "    <tr style=\"text-align: right;\">\n",
              "      <th></th>\n",
              "      <th>START_DATE</th>\n",
              "      <th>END_DATE</th>\n",
              "      <th>CAT</th>\n",
              "      <th>START</th>\n",
              "      <th>STOP</th>\n",
              "      <th>MILES</th>\n",
              "      <th>PURPOSE</th>\n",
              "    </tr>\n",
              "  </thead>\n",
              "  <tbody>\n",
              "    <tr>\n",
              "      <th>0</th>\n",
              "      <td>1/1/2016 21:11</td>\n",
              "      <td>1/1/2016 21:17</td>\n",
              "      <td>Business</td>\n",
              "      <td>Fort Pierce</td>\n",
              "      <td>Fort Pierce</td>\n",
              "      <td>5.1</td>\n",
              "      <td>Meal/Entertain</td>\n",
              "    </tr>\n",
              "    <tr>\n",
              "      <th>1</th>\n",
              "      <td>1/2/2016 1:25</td>\n",
              "      <td>1/2/2016 1:37</td>\n",
              "      <td>Business</td>\n",
              "      <td>Fort Pierce</td>\n",
              "      <td>Fort Pierce</td>\n",
              "      <td>5.0</td>\n",
              "      <td>NaN</td>\n",
              "    </tr>\n",
              "    <tr>\n",
              "      <th>2</th>\n",
              "      <td>1/2/2016 20:25</td>\n",
              "      <td>1/2/2016 20:38</td>\n",
              "      <td>Business</td>\n",
              "      <td>Fort Pierce</td>\n",
              "      <td>Fort Pierce</td>\n",
              "      <td>4.8</td>\n",
              "      <td>Errand/Supplies</td>\n",
              "    </tr>\n",
              "    <tr>\n",
              "      <th>3</th>\n",
              "      <td>1/5/2016 17:31</td>\n",
              "      <td>1/5/2016 17:45</td>\n",
              "      <td>Business</td>\n",
              "      <td>Fort Pierce</td>\n",
              "      <td>Fort Pierce</td>\n",
              "      <td>4.7</td>\n",
              "      <td>Meeting</td>\n",
              "    </tr>\n",
              "    <tr>\n",
              "      <th>4</th>\n",
              "      <td>1/6/2016 14:42</td>\n",
              "      <td>1/6/2016 15:49</td>\n",
              "      <td>Business</td>\n",
              "      <td>Fort Pierce</td>\n",
              "      <td>West Palm Beach</td>\n",
              "      <td>63.7</td>\n",
              "      <td>Customer Visit</td>\n",
              "    </tr>\n",
              "  </tbody>\n",
              "</table>\n",
              "</div>"
            ],
            "text/plain": [
              "       START_DATE        END_DATE  ... MILES          PURPOSE\n",
              "0  1/1/2016 21:11  1/1/2016 21:17  ...   5.1   Meal/Entertain\n",
              "1   1/2/2016 1:25   1/2/2016 1:37  ...   5.0              NaN\n",
              "2  1/2/2016 20:25  1/2/2016 20:38  ...   4.8  Errand/Supplies\n",
              "3  1/5/2016 17:31  1/5/2016 17:45  ...   4.7          Meeting\n",
              "4  1/6/2016 14:42  1/6/2016 15:49  ...  63.7   Customer Visit\n",
              "\n",
              "[5 rows x 7 columns]"
            ]
          },
          "metadata": {
            "tags": []
          },
          "execution_count": 48
        }
      ]
    },
    {
      "cell_type": "markdown",
      "metadata": {
        "id": "CjhnJToS73v-",
        "colab_type": "text"
      },
      "source": [
        "We will be using the datetime module (  https://docs.python.org/3/library/datetime.html  )\n",
        "\n",
        "Search for \"strftime() and strptime() Format Codes\" in the documentation page"
      ]
    },
    {
      "cell_type": "code",
      "metadata": {
        "id": "x73FrX-C73v_",
        "colab_type": "code",
        "colab": {
          "base_uri": "https://localhost:8080/",
          "height": 153
        },
        "outputId": "7b0313d5-db44-4770-bb5d-328d79608930"
      },
      "source": [
        "df.dtypes"
      ],
      "execution_count": 49,
      "outputs": [
        {
          "output_type": "execute_result",
          "data": {
            "text/plain": [
              "START_DATE     object\n",
              "END_DATE       object\n",
              "CAT            object\n",
              "START          object\n",
              "STOP           object\n",
              "MILES         float64\n",
              "PURPOSE        object\n",
              "dtype: object"
            ]
          },
          "metadata": {
            "tags": []
          },
          "execution_count": 49
        }
      ]
    },
    {
      "cell_type": "code",
      "metadata": {
        "id": "0wu_rDvC73wB",
        "colab_type": "code",
        "colab": {}
      },
      "source": [
        "# Create columns by converting the start and end date into a datatime format\n",
        "# You can also over write the same column - but for the sake of understanding the difference in formats, we create new columns\n",
        "\n",
        "from datetime import datetime                             # Import datetime library\n",
        "df['start_dt'] = df['START_DATE'].apply(lambda x : datetime.strptime(x, '%m/%d/%Y %H:%M'))\n",
        "df['end_dt'] = df['END_DATE'].apply(lambda x : datetime.strptime(x, '%m/%d/%Y %H:%M'))"
      ],
      "execution_count": 50,
      "outputs": []
    },
    {
      "cell_type": "code",
      "metadata": {
        "id": "mzEZTrdZ73wD",
        "colab_type": "code",
        "colab": {
          "base_uri": "https://localhost:8080/",
          "height": 204
        },
        "outputId": "2b1424da-4c94-42c6-a5b1-4d89bc851c69"
      },
      "source": [
        "df.head()             # Print first 5 rows of data."
      ],
      "execution_count": 51,
      "outputs": [
        {
          "output_type": "execute_result",
          "data": {
            "text/html": [
              "<div>\n",
              "<style scoped>\n",
              "    .dataframe tbody tr th:only-of-type {\n",
              "        vertical-align: middle;\n",
              "    }\n",
              "\n",
              "    .dataframe tbody tr th {\n",
              "        vertical-align: top;\n",
              "    }\n",
              "\n",
              "    .dataframe thead th {\n",
              "        text-align: right;\n",
              "    }\n",
              "</style>\n",
              "<table border=\"1\" class=\"dataframe\">\n",
              "  <thead>\n",
              "    <tr style=\"text-align: right;\">\n",
              "      <th></th>\n",
              "      <th>START_DATE</th>\n",
              "      <th>END_DATE</th>\n",
              "      <th>CAT</th>\n",
              "      <th>START</th>\n",
              "      <th>STOP</th>\n",
              "      <th>MILES</th>\n",
              "      <th>PURPOSE</th>\n",
              "      <th>start_dt</th>\n",
              "      <th>end_dt</th>\n",
              "    </tr>\n",
              "  </thead>\n",
              "  <tbody>\n",
              "    <tr>\n",
              "      <th>0</th>\n",
              "      <td>1/1/2016 21:11</td>\n",
              "      <td>1/1/2016 21:17</td>\n",
              "      <td>Business</td>\n",
              "      <td>Fort Pierce</td>\n",
              "      <td>Fort Pierce</td>\n",
              "      <td>5.1</td>\n",
              "      <td>Meal/Entertain</td>\n",
              "      <td>2016-01-01 21:11:00</td>\n",
              "      <td>2016-01-01 21:17:00</td>\n",
              "    </tr>\n",
              "    <tr>\n",
              "      <th>1</th>\n",
              "      <td>1/2/2016 1:25</td>\n",
              "      <td>1/2/2016 1:37</td>\n",
              "      <td>Business</td>\n",
              "      <td>Fort Pierce</td>\n",
              "      <td>Fort Pierce</td>\n",
              "      <td>5.0</td>\n",
              "      <td>NaN</td>\n",
              "      <td>2016-01-02 01:25:00</td>\n",
              "      <td>2016-01-02 01:37:00</td>\n",
              "    </tr>\n",
              "    <tr>\n",
              "      <th>2</th>\n",
              "      <td>1/2/2016 20:25</td>\n",
              "      <td>1/2/2016 20:38</td>\n",
              "      <td>Business</td>\n",
              "      <td>Fort Pierce</td>\n",
              "      <td>Fort Pierce</td>\n",
              "      <td>4.8</td>\n",
              "      <td>Errand/Supplies</td>\n",
              "      <td>2016-01-02 20:25:00</td>\n",
              "      <td>2016-01-02 20:38:00</td>\n",
              "    </tr>\n",
              "    <tr>\n",
              "      <th>3</th>\n",
              "      <td>1/5/2016 17:31</td>\n",
              "      <td>1/5/2016 17:45</td>\n",
              "      <td>Business</td>\n",
              "      <td>Fort Pierce</td>\n",
              "      <td>Fort Pierce</td>\n",
              "      <td>4.7</td>\n",
              "      <td>Meeting</td>\n",
              "      <td>2016-01-05 17:31:00</td>\n",
              "      <td>2016-01-05 17:45:00</td>\n",
              "    </tr>\n",
              "    <tr>\n",
              "      <th>4</th>\n",
              "      <td>1/6/2016 14:42</td>\n",
              "      <td>1/6/2016 15:49</td>\n",
              "      <td>Business</td>\n",
              "      <td>Fort Pierce</td>\n",
              "      <td>West Palm Beach</td>\n",
              "      <td>63.7</td>\n",
              "      <td>Customer Visit</td>\n",
              "      <td>2016-01-06 14:42:00</td>\n",
              "      <td>2016-01-06 15:49:00</td>\n",
              "    </tr>\n",
              "  </tbody>\n",
              "</table>\n",
              "</div>"
            ],
            "text/plain": [
              "       START_DATE        END_DATE  ...            start_dt              end_dt\n",
              "0  1/1/2016 21:11  1/1/2016 21:17  ... 2016-01-01 21:11:00 2016-01-01 21:17:00\n",
              "1   1/2/2016 1:25   1/2/2016 1:37  ... 2016-01-02 01:25:00 2016-01-02 01:37:00\n",
              "2  1/2/2016 20:25  1/2/2016 20:38  ... 2016-01-02 20:25:00 2016-01-02 20:38:00\n",
              "3  1/5/2016 17:31  1/5/2016 17:45  ... 2016-01-05 17:31:00 2016-01-05 17:45:00\n",
              "4  1/6/2016 14:42  1/6/2016 15:49  ... 2016-01-06 14:42:00 2016-01-06 15:49:00\n",
              "\n",
              "[5 rows x 9 columns]"
            ]
          },
          "metadata": {
            "tags": []
          },
          "execution_count": 51
        }
      ]
    },
    {
      "cell_type": "code",
      "metadata": {
        "id": "-ViyTibxKhM-",
        "colab_type": "code",
        "colab": {
          "base_uri": "https://localhost:8080/",
          "height": 187
        },
        "outputId": "4a2a4e57-c58a-491d-dc6d-16c083d29cda"
      },
      "source": [
        "df.dtypes             # See how the dtype is different"
      ],
      "execution_count": 52,
      "outputs": [
        {
          "output_type": "execute_result",
          "data": {
            "text/plain": [
              "START_DATE            object\n",
              "END_DATE              object\n",
              "CAT                   object\n",
              "START                 object\n",
              "STOP                  object\n",
              "MILES                float64\n",
              "PURPOSE               object\n",
              "start_dt      datetime64[ns]\n",
              "end_dt        datetime64[ns]\n",
              "dtype: object"
            ]
          },
          "metadata": {
            "tags": []
          },
          "execution_count": 52
        }
      ]
    },
    {
      "cell_type": "code",
      "metadata": {
        "id": "BUjYhgB173wH",
        "colab_type": "code",
        "colab": {}
      },
      "source": [
        "#Create more columns by using the inbuilt functionalities of datatime module\n",
        "\n",
        "df['start_day'] = df['start_dt'].dt.day\n",
        "df['start_hour'] = df['start_dt'].dt.hour\n",
        "df['start_month'] = df['start_dt'].dt.month\n",
        "df['d_of_wk'] = df['start_dt'].dt.dayofweek   # Days encoded as 0-6  ( monday =0, Tue =1 .... )"
      ],
      "execution_count": 53,
      "outputs": []
    },
    {
      "cell_type": "code",
      "metadata": {
        "id": "ZPsOvrKm73wL",
        "colab_type": "code",
        "colab": {}
      },
      "source": [
        "# You can convert the numeric encoding of weekdays into short form by manually writing the mapping \n",
        "# days = {0:'Mon',1:'Tue',2:'Wed',3:'Thur',4:'Fri',5:'Sat',6:'Sun'}\n",
        "# df['day_of_week'] = df['day_of_week'].apply(lambda x: days[x])\n",
        "\n",
        "#or use the builtin functions \n",
        "\n",
        "df['weekday'] = df['start_dt'].apply(lambda x : datetime.strftime(x,'%a'))  # ( or directly convert into the short form)"
      ],
      "execution_count": 54,
      "outputs": []
    },
    {
      "cell_type": "code",
      "metadata": {
        "id": "L-Ehy-L873wM",
        "colab_type": "code",
        "colab": {}
      },
      "source": [
        "# Similarly you can use the calendar library to get the month abbreviation \n",
        "\n",
        "#import calendar\n",
        "#df['start_month_cal'] = df['start_month'].apply(lambda x: calendar.month_abbr[x])\n",
        "\n",
        "# or \n",
        "# use the built in functions in datatime module\n",
        "df['cal_month'] =  df['start_dt'].apply(lambda x : datetime.strftime(x,'%b'))"
      ],
      "execution_count": 55,
      "outputs": []
    },
    {
      "cell_type": "code",
      "metadata": {
        "id": "iCotg9pf73wQ",
        "colab_type": "code",
        "colab": {
          "base_uri": "https://localhost:8080/",
          "height": 306
        },
        "outputId": "8ae77514-2d3c-4124-e4c6-35adf66c6aee"
      },
      "source": [
        "df.head()"
      ],
      "execution_count": 56,
      "outputs": [
        {
          "output_type": "execute_result",
          "data": {
            "text/html": [
              "<div>\n",
              "<style scoped>\n",
              "    .dataframe tbody tr th:only-of-type {\n",
              "        vertical-align: middle;\n",
              "    }\n",
              "\n",
              "    .dataframe tbody tr th {\n",
              "        vertical-align: top;\n",
              "    }\n",
              "\n",
              "    .dataframe thead th {\n",
              "        text-align: right;\n",
              "    }\n",
              "</style>\n",
              "<table border=\"1\" class=\"dataframe\">\n",
              "  <thead>\n",
              "    <tr style=\"text-align: right;\">\n",
              "      <th></th>\n",
              "      <th>START_DATE</th>\n",
              "      <th>END_DATE</th>\n",
              "      <th>CAT</th>\n",
              "      <th>START</th>\n",
              "      <th>STOP</th>\n",
              "      <th>MILES</th>\n",
              "      <th>PURPOSE</th>\n",
              "      <th>start_dt</th>\n",
              "      <th>end_dt</th>\n",
              "      <th>start_day</th>\n",
              "      <th>start_hour</th>\n",
              "      <th>start_month</th>\n",
              "      <th>d_of_wk</th>\n",
              "      <th>weekday</th>\n",
              "      <th>cal_month</th>\n",
              "    </tr>\n",
              "  </thead>\n",
              "  <tbody>\n",
              "    <tr>\n",
              "      <th>0</th>\n",
              "      <td>1/1/2016 21:11</td>\n",
              "      <td>1/1/2016 21:17</td>\n",
              "      <td>Business</td>\n",
              "      <td>Fort Pierce</td>\n",
              "      <td>Fort Pierce</td>\n",
              "      <td>5.1</td>\n",
              "      <td>Meal/Entertain</td>\n",
              "      <td>2016-01-01 21:11:00</td>\n",
              "      <td>2016-01-01 21:17:00</td>\n",
              "      <td>1</td>\n",
              "      <td>21</td>\n",
              "      <td>1</td>\n",
              "      <td>4</td>\n",
              "      <td>Fri</td>\n",
              "      <td>Jan</td>\n",
              "    </tr>\n",
              "    <tr>\n",
              "      <th>1</th>\n",
              "      <td>1/2/2016 1:25</td>\n",
              "      <td>1/2/2016 1:37</td>\n",
              "      <td>Business</td>\n",
              "      <td>Fort Pierce</td>\n",
              "      <td>Fort Pierce</td>\n",
              "      <td>5.0</td>\n",
              "      <td>NaN</td>\n",
              "      <td>2016-01-02 01:25:00</td>\n",
              "      <td>2016-01-02 01:37:00</td>\n",
              "      <td>2</td>\n",
              "      <td>1</td>\n",
              "      <td>1</td>\n",
              "      <td>5</td>\n",
              "      <td>Sat</td>\n",
              "      <td>Jan</td>\n",
              "    </tr>\n",
              "    <tr>\n",
              "      <th>2</th>\n",
              "      <td>1/2/2016 20:25</td>\n",
              "      <td>1/2/2016 20:38</td>\n",
              "      <td>Business</td>\n",
              "      <td>Fort Pierce</td>\n",
              "      <td>Fort Pierce</td>\n",
              "      <td>4.8</td>\n",
              "      <td>Errand/Supplies</td>\n",
              "      <td>2016-01-02 20:25:00</td>\n",
              "      <td>2016-01-02 20:38:00</td>\n",
              "      <td>2</td>\n",
              "      <td>20</td>\n",
              "      <td>1</td>\n",
              "      <td>5</td>\n",
              "      <td>Sat</td>\n",
              "      <td>Jan</td>\n",
              "    </tr>\n",
              "    <tr>\n",
              "      <th>3</th>\n",
              "      <td>1/5/2016 17:31</td>\n",
              "      <td>1/5/2016 17:45</td>\n",
              "      <td>Business</td>\n",
              "      <td>Fort Pierce</td>\n",
              "      <td>Fort Pierce</td>\n",
              "      <td>4.7</td>\n",
              "      <td>Meeting</td>\n",
              "      <td>2016-01-05 17:31:00</td>\n",
              "      <td>2016-01-05 17:45:00</td>\n",
              "      <td>5</td>\n",
              "      <td>17</td>\n",
              "      <td>1</td>\n",
              "      <td>1</td>\n",
              "      <td>Tue</td>\n",
              "      <td>Jan</td>\n",
              "    </tr>\n",
              "    <tr>\n",
              "      <th>4</th>\n",
              "      <td>1/6/2016 14:42</td>\n",
              "      <td>1/6/2016 15:49</td>\n",
              "      <td>Business</td>\n",
              "      <td>Fort Pierce</td>\n",
              "      <td>West Palm Beach</td>\n",
              "      <td>63.7</td>\n",
              "      <td>Customer Visit</td>\n",
              "      <td>2016-01-06 14:42:00</td>\n",
              "      <td>2016-01-06 15:49:00</td>\n",
              "      <td>6</td>\n",
              "      <td>14</td>\n",
              "      <td>1</td>\n",
              "      <td>2</td>\n",
              "      <td>Wed</td>\n",
              "      <td>Jan</td>\n",
              "    </tr>\n",
              "  </tbody>\n",
              "</table>\n",
              "</div>"
            ],
            "text/plain": [
              "       START_DATE        END_DATE       CAT  ... d_of_wk weekday  cal_month\n",
              "0  1/1/2016 21:11  1/1/2016 21:17  Business  ...       4     Fri        Jan\n",
              "1   1/2/2016 1:25   1/2/2016 1:37  Business  ...       5     Sat        Jan\n",
              "2  1/2/2016 20:25  1/2/2016 20:38  Business  ...       5     Sat        Jan\n",
              "3  1/5/2016 17:31  1/5/2016 17:45  Business  ...       1     Tue        Jan\n",
              "4  1/6/2016 14:42  1/6/2016 15:49  Business  ...       2     Wed        Jan\n",
              "\n",
              "[5 rows x 15 columns]"
            ]
          },
          "metadata": {
            "tags": []
          },
          "execution_count": 56
        }
      ]
    },
    {
      "cell_type": "code",
      "metadata": {
        "id": "m7RjxMzs73wT",
        "colab_type": "code",
        "colab": {
          "base_uri": "https://localhost:8080/",
          "height": 255
        },
        "outputId": "87b2f6c4-a052-4f1f-9c14-da2f3082a346"
      },
      "source": [
        "# Which month did he get most drives? \n",
        "df.groupby(['start_month']).size()             # Group by the month"
      ],
      "execution_count": 57,
      "outputs": [
        {
          "output_type": "execute_result",
          "data": {
            "text/plain": [
              "start_month\n",
              "1      61\n",
              "2     115\n",
              "3     113\n",
              "4      54\n",
              "5      49\n",
              "6     108\n",
              "7     112\n",
              "8     133\n",
              "9      36\n",
              "10    106\n",
              "11    122\n",
              "12    146\n",
              "dtype: int64"
            ]
          },
          "metadata": {
            "tags": []
          },
          "execution_count": 57
        }
      ]
    },
    {
      "cell_type": "code",
      "metadata": {
        "id": "GRUKjqys73wW",
        "colab_type": "code",
        "colab": {
          "base_uri": "https://localhost:8080/",
          "height": 255
        },
        "outputId": "14007238-5e80-4163-d1d2-4fa15af65a78"
      },
      "source": [
        "df.groupby('cal_month').sum()['MILES'].sort_values(ascending = False)           "
      ],
      "execution_count": 58,
      "outputs": [
        {
          "output_type": "execute_result",
          "data": {
            "text/plain": [
              "cal_month\n",
              "Oct    1810.0\n",
              "Mar    1693.9\n",
              "Aug    1335.5\n",
              "Jul    1224.6\n",
              "Apr    1113.0\n",
              "Dec     981.3\n",
              "Feb     908.2\n",
              "Jun     842.8\n",
              "Nov     816.9\n",
              "Sep     601.8\n",
              "Jan     512.9\n",
              "May     363.8\n",
              "Name: MILES, dtype: float64"
            ]
          },
          "metadata": {
            "tags": []
          },
          "execution_count": 58
        }
      ]
    },
    {
      "cell_type": "code",
      "metadata": {
        "id": "gJ1DZpbE73wY",
        "colab_type": "code",
        "colab": {
          "base_uri": "https://localhost:8080/",
          "height": 255
        },
        "outputId": "add57063-ef63-4e8f-9816-fe876ee1551a"
      },
      "source": [
        "# Getting the average distance covered each month\n",
        "df.groupby('cal_month').mean()['MILES'].sort_values(ascending = False)"
      ],
      "execution_count": 59,
      "outputs": [
        {
          "output_type": "execute_result",
          "data": {
            "text/plain": [
              "cal_month\n",
              "Apr    20.611111\n",
              "Oct    17.075472\n",
              "Sep    16.716667\n",
              "Mar    14.990265\n",
              "Jul    10.933929\n",
              "Aug    10.041353\n",
              "Jan     8.408197\n",
              "Feb     7.897391\n",
              "Jun     7.803704\n",
              "May     7.424490\n",
              "Dec     6.721233\n",
              "Nov     6.695902\n",
              "Name: MILES, dtype: float64"
            ]
          },
          "metadata": {
            "tags": []
          },
          "execution_count": 59
        }
      ]
    },
    {
      "cell_type": "code",
      "metadata": {
        "id": "IVrC73Ki73wa",
        "colab_type": "code",
        "colab": {}
      },
      "source": [
        "# Write your inferences here based on the last 3 outputs "
      ],
      "execution_count": 60,
      "outputs": []
    },
    {
      "cell_type": "code",
      "metadata": {
        "id": "UHWuwGBw73wb",
        "colab_type": "code",
        "colab": {
          "base_uri": "https://localhost:8080/",
          "height": 170
        },
        "outputId": "d91d9d1e-32b6-4f91-ff68-13642d5ef10b"
      },
      "source": [
        "# Which day did he get most drives? \n",
        "df.groupby(['weekday']).size()  "
      ],
      "execution_count": 61,
      "outputs": [
        {
          "output_type": "execute_result",
          "data": {
            "text/plain": [
              "weekday\n",
              "Fri    206\n",
              "Mon    174\n",
              "Sat    150\n",
              "Sun    148\n",
              "Thu    154\n",
              "Tue    176\n",
              "Wed    147\n",
              "dtype: int64"
            ]
          },
          "metadata": {
            "tags": []
          },
          "execution_count": 61
        }
      ]
    },
    {
      "cell_type": "markdown",
      "metadata": {
        "id": "myRVUvO073we",
        "colab_type": "text"
      },
      "source": [
        "**When does he usually start the trip ?**"
      ]
    },
    {
      "cell_type": "code",
      "metadata": {
        "id": "rkesjjDV73we",
        "colab_type": "code",
        "colab": {
          "base_uri": "https://localhost:8080/",
          "height": 442
        },
        "outputId": "bb940da3-1050-4c6e-c1ad-6af72e6fa2cf"
      },
      "source": [
        "df.groupby('start_hour').size()              # The number of trips started for each hour."
      ],
      "execution_count": 62,
      "outputs": [
        {
          "output_type": "execute_result",
          "data": {
            "text/plain": [
              "start_hour\n",
              "0     19\n",
              "1      5\n",
              "2      2\n",
              "3      3\n",
              "5      4\n",
              "6      4\n",
              "7     13\n",
              "8     35\n",
              "9     51\n",
              "10    65\n",
              "11    72\n",
              "12    77\n",
              "13    94\n",
              "14    89\n",
              "15    98\n",
              "16    88\n",
              "17    95\n",
              "18    94\n",
              "19    68\n",
              "20    71\n",
              "21    51\n",
              "22    31\n",
              "23    26\n",
              "dtype: int64"
            ]
          },
          "metadata": {
            "tags": []
          },
          "execution_count": 62
        }
      ]
    },
    {
      "cell_type": "markdown",
      "metadata": {
        "id": "iY9t7tHK73wg",
        "colab_type": "text"
      },
      "source": [
        "This looks like an interesting data \n",
        "\n",
        "Does he have a prefered time of start ?"
      ]
    },
    {
      "cell_type": "code",
      "metadata": {
        "id": "Bg85_O0R73wg",
        "colab_type": "code",
        "colab": {}
      },
      "source": [
        "df['start_hour'] = df['start_dt'].dt.hour"
      ],
      "execution_count": 63,
      "outputs": []
    },
    {
      "cell_type": "code",
      "metadata": {
        "id": "vAdlHvax73wj",
        "colab_type": "code",
        "colab": {
          "base_uri": "https://localhost:8080/",
          "height": 301
        },
        "outputId": "9a4025bd-b9a6-4c79-a145-e06b343a7685"
      },
      "source": [
        "df_hrs = df.groupby('start_hour').size()\n",
        "df_hrs = df_hrs.reset_index()\n",
        "df_hrs.columns = ['start_hour' ,'count']\n",
        "sns.barplot(data= df_hrs , x ='start_hour' , y = 'count')"
      ],
      "execution_count": 64,
      "outputs": [
        {
          "output_type": "execute_result",
          "data": {
            "text/plain": [
              "<matplotlib.axes._subplots.AxesSubplot at 0x7fa5e9728550>"
            ]
          },
          "metadata": {
            "tags": []
          },
          "execution_count": 64
        },
        {
          "output_type": "display_data",
          "data": {
            "image/png": "[encoded data removed]",
            "text/plain": [
              "<Figure size 432x288 with 1 Axes>"
            ]
          },
          "metadata": {
            "tags": [],
            "needs_background": "light"
          }
        }
      ]
    },
    {
      "cell_type": "markdown",
      "metadata": {
        "id": "7PbJ6UPj73wo",
        "colab_type": "text"
      },
      "source": [
        "Looks like he mostly starts the trip around 9-10 and the peak hours seem to be between 12- 5 PM "
      ]
    },
    {
      "cell_type": "markdown",
      "metadata": {
        "id": "P8KaeCCv73wo",
        "colab_type": "text"
      },
      "source": [
        "### Duration of the trips "
      ]
    },
    {
      "cell_type": "code",
      "metadata": {
        "id": "w9f_7Toz73wp",
        "colab_type": "code",
        "colab": {}
      },
      "source": [
        "df['diff'] = (df['end_dt'] - df['start_dt'])"
      ],
      "execution_count": 65,
      "outputs": []
    },
    {
      "cell_type": "code",
      "metadata": {
        "id": "YWD97hZ173wr",
        "colab_type": "code",
        "colab": {
          "base_uri": "https://localhost:8080/",
          "height": 306
        },
        "outputId": "8b5786e5-57f3-4348-997d-b84be5dad9e2"
      },
      "source": [
        "df.dtypes"
      ],
      "execution_count": 66,
      "outputs": [
        {
          "output_type": "execute_result",
          "data": {
            "text/plain": [
              "START_DATE              object\n",
              "END_DATE                object\n",
              "CAT                     object\n",
              "START                   object\n",
              "STOP                    object\n",
              "MILES                  float64\n",
              "PURPOSE                 object\n",
              "start_dt        datetime64[ns]\n",
              "end_dt          datetime64[ns]\n",
              "start_day                int64\n",
              "start_hour               int64\n",
              "start_month              int64\n",
              "d_of_wk                  int64\n",
              "weekday                 object\n",
              "cal_month               object\n",
              "diff           timedelta64[ns]\n",
              "dtype: object"
            ]
          },
          "metadata": {
            "tags": []
          },
          "execution_count": 66
        }
      ]
    },
    {
      "cell_type": "markdown",
      "metadata": {
        "id": "KRW20r1S73wt",
        "colab_type": "text"
      },
      "source": [
        "This creates a timedelta datatype"
      ]
    },
    {
      "cell_type": "markdown",
      "metadata": {
        "id": "2k5fjAge73wt",
        "colab_type": "text"
      },
      "source": [
        "### How long did the trips last "
      ]
    },
    {
      "cell_type": "code",
      "metadata": {
        "id": "5Wud4jp673wu",
        "colab_type": "code",
        "colab": {}
      },
      "source": [
        "df['diff_hr'] = df['diff'].astype('timedelta64[h]')"
      ],
      "execution_count": 67,
      "outputs": []
    },
    {
      "cell_type": "markdown",
      "metadata": {
        "id": "WLH7zHmN73wv",
        "colab_type": "text"
      },
      "source": [
        "Find the date time units in  https://docs.scipy.org/doc/numpy/reference/arrays.datetime.html\n",
        "\n",
        "search for 'Datetime Units'"
      ]
    },
    {
      "cell_type": "code",
      "metadata": {
        "id": "0XYaEBII73wv",
        "colab_type": "code",
        "colab": {
          "base_uri": "https://localhost:8080/",
          "height": 170
        },
        "outputId": "1312552a-a9ee-4f82-b6b3-96f9a7639a65"
      },
      "source": [
        "df['diff'].describe()"
      ],
      "execution_count": 68,
      "outputs": [
        {
          "output_type": "execute_result",
          "data": {
            "text/plain": [
              "count                      1155\n",
              "mean     0 days 00:23:14.597402\n",
              "std      0 days 00:27:19.096606\n",
              "min             0 days 00:00:00\n",
              "25%             0 days 00:10:00\n",
              "50%             0 days 00:16:00\n",
              "75%             0 days 00:27:30\n",
              "max             0 days 05:36:00\n",
              "Name: diff, dtype: object"
            ]
          },
          "metadata": {
            "tags": []
          },
          "execution_count": 68
        }
      ]
    },
    {
      "cell_type": "code",
      "metadata": {
        "id": "8iZm0geM73wx",
        "colab_type": "code",
        "colab": {}
      },
      "source": [
        "# View in terms of minutes \n",
        "df['diff_mins'] = df['diff'].astype('timedelta64[m]')"
      ],
      "execution_count": 69,
      "outputs": []
    },
    {
      "cell_type": "code",
      "metadata": {
        "id": "f_pAQrIN73wy",
        "colab_type": "code",
        "colab": {
          "base_uri": "https://localhost:8080/",
          "height": 170
        },
        "outputId": "3a4bd88f-88a7-4fa7-9e0b-a7fae80caaa4"
      },
      "source": [
        "df['diff_mins'].describe()"
      ],
      "execution_count": 70,
      "outputs": [
        {
          "output_type": "execute_result",
          "data": {
            "text/plain": [
              "count    1155.000000\n",
              "mean       23.243290\n",
              "std        27.318277\n",
              "min         0.000000\n",
              "25%        10.000000\n",
              "50%        16.000000\n",
              "75%        27.500000\n",
              "max       336.000000\n",
              "Name: diff_mins, dtype: float64"
            ]
          },
          "metadata": {
            "tags": []
          },
          "execution_count": 70
        }
      ]
    },
    {
      "cell_type": "markdown",
      "metadata": {
        "id": "aag6csW273w1",
        "colab_type": "text"
      },
      "source": [
        "There seems to be somethin strange with the minumum time ( in minutes ) - it is 0 "
      ]
    },
    {
      "cell_type": "code",
      "metadata": {
        "id": "e4fzVtcY73w1",
        "colab_type": "code",
        "colab": {
          "base_uri": "https://localhost:8080/",
          "height": 329
        },
        "outputId": "3085e0e8-a370-4128-ccd7-55392a38ef00"
      },
      "source": [
        "len(df[df['START_DATE'] == df['END_DATE']])\n",
        "\n",
        "df[df['START_DATE'] == df['END_DATE']]"
      ],
      "execution_count": 71,
      "outputs": [
        {
          "output_type": "execute_result",
          "data": {
            "text/html": [
              "<div>\n",
              "<style scoped>\n",
              "    .dataframe tbody tr th:only-of-type {\n",
              "        vertical-align: middle;\n",
              "    }\n",
              "\n",
              "    .dataframe tbody tr th {\n",
              "        vertical-align: top;\n",
              "    }\n",
              "\n",
              "    .dataframe thead th {\n",
              "        text-align: right;\n",
              "    }\n",
              "</style>\n",
              "<table border=\"1\" class=\"dataframe\">\n",
              "  <thead>\n",
              "    <tr style=\"text-align: right;\">\n",
              "      <th></th>\n",
              "      <th>START_DATE</th>\n",
              "      <th>END_DATE</th>\n",
              "      <th>CAT</th>\n",
              "      <th>START</th>\n",
              "      <th>STOP</th>\n",
              "      <th>MILES</th>\n",
              "      <th>PURPOSE</th>\n",
              "      <th>start_dt</th>\n",
              "      <th>end_dt</th>\n",
              "      <th>start_day</th>\n",
              "      <th>start_hour</th>\n",
              "      <th>start_month</th>\n",
              "      <th>d_of_wk</th>\n",
              "      <th>weekday</th>\n",
              "      <th>cal_month</th>\n",
              "      <th>diff</th>\n",
              "      <th>diff_hr</th>\n",
              "      <th>diff_mins</th>\n",
              "    </tr>\n",
              "  </thead>\n",
              "  <tbody>\n",
              "    <tr>\n",
              "      <th>751</th>\n",
              "      <td>9/6/2016 17:49</td>\n",
              "      <td>9/6/2016 17:49</td>\n",
              "      <td>Business</td>\n",
              "      <td>Unknown Location</td>\n",
              "      <td>Unknown Location</td>\n",
              "      <td>69.1</td>\n",
              "      <td>NaN</td>\n",
              "      <td>2016-09-06 17:49:00</td>\n",
              "      <td>2016-09-06 17:49:00</td>\n",
              "      <td>6</td>\n",
              "      <td>17</td>\n",
              "      <td>9</td>\n",
              "      <td>1</td>\n",
              "      <td>Tue</td>\n",
              "      <td>Sep</td>\n",
              "      <td>0 days</td>\n",
              "      <td>0.0</td>\n",
              "      <td>0.0</td>\n",
              "    </tr>\n",
              "    <tr>\n",
              "      <th>761</th>\n",
              "      <td>9/16/2016 7:08</td>\n",
              "      <td>9/16/2016 7:08</td>\n",
              "      <td>Business</td>\n",
              "      <td>Unknown Location</td>\n",
              "      <td>Unknown Location</td>\n",
              "      <td>1.6</td>\n",
              "      <td>NaN</td>\n",
              "      <td>2016-09-16 07:08:00</td>\n",
              "      <td>2016-09-16 07:08:00</td>\n",
              "      <td>16</td>\n",
              "      <td>7</td>\n",
              "      <td>9</td>\n",
              "      <td>4</td>\n",
              "      <td>Fri</td>\n",
              "      <td>Sep</td>\n",
              "      <td>0 days</td>\n",
              "      <td>0.0</td>\n",
              "      <td>0.0</td>\n",
              "    </tr>\n",
              "    <tr>\n",
              "      <th>798</th>\n",
              "      <td>10/8/2016 15:03</td>\n",
              "      <td>10/8/2016 15:03</td>\n",
              "      <td>Business</td>\n",
              "      <td>Karachi</td>\n",
              "      <td>Karachi</td>\n",
              "      <td>3.6</td>\n",
              "      <td>NaN</td>\n",
              "      <td>2016-10-08 15:03:00</td>\n",
              "      <td>2016-10-08 15:03:00</td>\n",
              "      <td>8</td>\n",
              "      <td>15</td>\n",
              "      <td>10</td>\n",
              "      <td>5</td>\n",
              "      <td>Sat</td>\n",
              "      <td>Oct</td>\n",
              "      <td>0 days</td>\n",
              "      <td>0.0</td>\n",
              "      <td>0.0</td>\n",
              "    </tr>\n",
              "    <tr>\n",
              "      <th>807</th>\n",
              "      <td>10/13/2016 13:02</td>\n",
              "      <td>10/13/2016 13:02</td>\n",
              "      <td>Business</td>\n",
              "      <td>Islamabad</td>\n",
              "      <td>Islamabad</td>\n",
              "      <td>0.7</td>\n",
              "      <td>NaN</td>\n",
              "      <td>2016-10-13 13:02:00</td>\n",
              "      <td>2016-10-13 13:02:00</td>\n",
              "      <td>13</td>\n",
              "      <td>13</td>\n",
              "      <td>10</td>\n",
              "      <td>3</td>\n",
              "      <td>Thu</td>\n",
              "      <td>Oct</td>\n",
              "      <td>0 days</td>\n",
              "      <td>0.0</td>\n",
              "      <td>0.0</td>\n",
              "    </tr>\n",
              "  </tbody>\n",
              "</table>\n",
              "</div>"
            ],
            "text/plain": [
              "           START_DATE          END_DATE       CAT  ...   diff diff_hr  diff_mins\n",
              "751    9/6/2016 17:49    9/6/2016 17:49  Business  ... 0 days     0.0        0.0\n",
              "761    9/16/2016 7:08    9/16/2016 7:08  Business  ... 0 days     0.0        0.0\n",
              "798   10/8/2016 15:03   10/8/2016 15:03  Business  ... 0 days     0.0        0.0\n",
              "807  10/13/2016 13:02  10/13/2016 13:02  Business  ... 0 days     0.0        0.0\n",
              "\n",
              "[4 rows x 18 columns]"
            ]
          },
          "metadata": {
            "tags": []
          },
          "execution_count": 71
        }
      ]
    },
    {
      "cell_type": "markdown",
      "metadata": {
        "id": "XcCiFFAp73w3",
        "colab_type": "text"
      },
      "source": [
        "There are some values where the start and end dates are the same - remove them ?"
      ]
    },
    {
      "cell_type": "code",
      "metadata": {
        "id": "6ELd5QKu73w3",
        "colab_type": "code",
        "colab": {
          "base_uri": "https://localhost:8080/",
          "height": 34
        },
        "outputId": "897737b8-6d29-4e61-de39-e66fab75c85a"
      },
      "source": [
        "len(df2)"
      ],
      "execution_count": 72,
      "outputs": [
        {
          "output_type": "execute_result",
          "data": {
            "text/plain": [
              "944"
            ]
          },
          "metadata": {
            "tags": []
          },
          "execution_count": 72
        }
      ]
    },
    {
      "cell_type": "markdown",
      "metadata": {
        "id": "rw4cx0F873w6",
        "colab_type": "text"
      },
      "source": [
        "### Speed "
      ]
    },
    {
      "cell_type": "code",
      "metadata": {
        "id": "zJ99UCa-73w6",
        "colab_type": "code",
        "colab": {
          "base_uri": "https://localhost:8080/",
          "height": 170
        },
        "outputId": "0a6c49d1-561f-4260-8369-25a68043da7c"
      },
      "source": [
        "# calculate trip speed for each trip\n",
        "df['Duration_hours'] = df['diff_mins'] / 60\n",
        "df['Speed'] = df['MILES'] / df['Duration_hours']\n",
        "df['Speed'].describe()"
      ],
      "execution_count": 73,
      "outputs": [
        {
          "output_type": "execute_result",
          "data": {
            "text/plain": [
              "count    1155.000000\n",
              "mean             inf\n",
              "std              NaN\n",
              "min         3.917355\n",
              "25%        14.888276\n",
              "50%        21.000000\n",
              "75%        28.569805\n",
              "max              inf\n",
              "Name: Speed, dtype: float64"
            ]
          },
          "metadata": {
            "tags": []
          },
          "execution_count": 73
        }
      ]
    },
    {
      "cell_type": "markdown",
      "metadata": {
        "id": "EbwMhPiE73w7",
        "colab_type": "text"
      },
      "source": [
        "Remove the ones with unknown location"
      ]
    },
    {
      "cell_type": "code",
      "metadata": {
        "id": "t0KE1uiH73w8",
        "colab_type": "code",
        "colab": {}
      },
      "source": [
        "# df2 = df[df.START != 'Unknown Location']\n",
        "# df2 = df2[df2.STOP != 'Unknown Location']\n",
        "\n",
        "#or \n",
        "#you can filter using one single conditional statement\n",
        "df2 = df[(df.START != 'Unknown Location') & ( df.STOP != 'Unknown Location')]"
      ],
      "execution_count": 74,
      "outputs": []
    },
    {
      "cell_type": "code",
      "metadata": {
        "id": "I1if4eJ973w9",
        "colab_type": "code",
        "colab": {
          "base_uri": "https://localhost:8080/",
          "height": 394
        },
        "outputId": "7af45dd8-2a97-40a3-b04c-89a779eb0f19"
      },
      "source": [
        "# Remove the ones that have the same start and end time (and redo the analysis)\n",
        "df2 = df[df.start_dt != df.end_dt]\n",
        "\n",
        "# we still see some really fast driving !!\n",
        "df2.sort_values(by ='diff_mins', ascending = True).head(5)\n",
        "\n",
        "# To do \n",
        "# Take a cut off for the time taken to drive to  do the speed analysis again \n",
        "# something like (df.diff_mins > 5)\n",
        "# analyse only the trips that lasted atleast 5 mins "
      ],
      "execution_count": 75,
      "outputs": [
        {
          "output_type": "execute_result",
          "data": {
            "text/html": [
              "<div>\n",
              "<style scoped>\n",
              "    .dataframe tbody tr th:only-of-type {\n",
              "        vertical-align: middle;\n",
              "    }\n",
              "\n",
              "    .dataframe tbody tr th {\n",
              "        vertical-align: top;\n",
              "    }\n",
              "\n",
              "    .dataframe thead th {\n",
              "        text-align: right;\n",
              "    }\n",
              "</style>\n",
              "<table border=\"1\" class=\"dataframe\">\n",
              "  <thead>\n",
              "    <tr style=\"text-align: right;\">\n",
              "      <th></th>\n",
              "      <th>START_DATE</th>\n",
              "      <th>END_DATE</th>\n",
              "      <th>CAT</th>\n",
              "      <th>START</th>\n",
              "      <th>STOP</th>\n",
              "      <th>MILES</th>\n",
              "      <th>PURPOSE</th>\n",
              "      <th>start_dt</th>\n",
              "      <th>end_dt</th>\n",
              "      <th>start_day</th>\n",
              "      <th>start_hour</th>\n",
              "      <th>start_month</th>\n",
              "      <th>d_of_wk</th>\n",
              "      <th>weekday</th>\n",
              "      <th>cal_month</th>\n",
              "      <th>diff</th>\n",
              "      <th>diff_hr</th>\n",
              "      <th>diff_mins</th>\n",
              "      <th>Duration_hours</th>\n",
              "      <th>Speed</th>\n",
              "    </tr>\n",
              "  </thead>\n",
              "  <tbody>\n",
              "    <tr>\n",
              "      <th>646</th>\n",
              "      <td>8/10/2016 18:49</td>\n",
              "      <td>8/10/2016 18:50</td>\n",
              "      <td>Business</td>\n",
              "      <td>Apex</td>\n",
              "      <td>Apex</td>\n",
              "      <td>1.0</td>\n",
              "      <td>NaN</td>\n",
              "      <td>2016-08-10 18:49:00</td>\n",
              "      <td>2016-08-10 18:50:00</td>\n",
              "      <td>10</td>\n",
              "      <td>18</td>\n",
              "      <td>8</td>\n",
              "      <td>2</td>\n",
              "      <td>Wed</td>\n",
              "      <td>Aug</td>\n",
              "      <td>00:01:00</td>\n",
              "      <td>0.0</td>\n",
              "      <td>1.0</td>\n",
              "      <td>0.016667</td>\n",
              "      <td>60.0</td>\n",
              "    </tr>\n",
              "    <tr>\n",
              "      <th>786</th>\n",
              "      <td>10/4/2016 12:17</td>\n",
              "      <td>10/4/2016 12:18</td>\n",
              "      <td>Business</td>\n",
              "      <td>Unknown Location</td>\n",
              "      <td>Unknown Location</td>\n",
              "      <td>15.1</td>\n",
              "      <td>NaN</td>\n",
              "      <td>2016-10-04 12:17:00</td>\n",
              "      <td>2016-10-04 12:18:00</td>\n",
              "      <td>4</td>\n",
              "      <td>12</td>\n",
              "      <td>10</td>\n",
              "      <td>1</td>\n",
              "      <td>Tue</td>\n",
              "      <td>Oct</td>\n",
              "      <td>00:01:00</td>\n",
              "      <td>0.0</td>\n",
              "      <td>1.0</td>\n",
              "      <td>0.016667</td>\n",
              "      <td>906.0</td>\n",
              "    </tr>\n",
              "    <tr>\n",
              "      <th>789</th>\n",
              "      <td>10/6/2016 18:37</td>\n",
              "      <td>10/6/2016 18:39</td>\n",
              "      <td>Business</td>\n",
              "      <td>Unknown Location</td>\n",
              "      <td>Unknown Location</td>\n",
              "      <td>18.4</td>\n",
              "      <td>NaN</td>\n",
              "      <td>2016-10-06 18:37:00</td>\n",
              "      <td>2016-10-06 18:39:00</td>\n",
              "      <td>6</td>\n",
              "      <td>18</td>\n",
              "      <td>10</td>\n",
              "      <td>3</td>\n",
              "      <td>Thu</td>\n",
              "      <td>Oct</td>\n",
              "      <td>00:02:00</td>\n",
              "      <td>0.0</td>\n",
              "      <td>2.0</td>\n",
              "      <td>0.033333</td>\n",
              "      <td>552.0</td>\n",
              "    </tr>\n",
              "    <tr>\n",
              "      <th>607</th>\n",
              "      <td>7/29/2016 15:45</td>\n",
              "      <td>7/29/2016 15:47</td>\n",
              "      <td>Business</td>\n",
              "      <td>Whitebridge</td>\n",
              "      <td>Westpark Place</td>\n",
              "      <td>2.2</td>\n",
              "      <td>NaN</td>\n",
              "      <td>2016-07-29 15:45:00</td>\n",
              "      <td>2016-07-29 15:47:00</td>\n",
              "      <td>29</td>\n",
              "      <td>15</td>\n",
              "      <td>7</td>\n",
              "      <td>4</td>\n",
              "      <td>Fri</td>\n",
              "      <td>Jul</td>\n",
              "      <td>00:02:00</td>\n",
              "      <td>0.0</td>\n",
              "      <td>2.0</td>\n",
              "      <td>0.033333</td>\n",
              "      <td>66.0</td>\n",
              "    </tr>\n",
              "    <tr>\n",
              "      <th>44</th>\n",
              "      <td>1/26/2016 17:27</td>\n",
              "      <td>1/26/2016 17:29</td>\n",
              "      <td>Business</td>\n",
              "      <td>Cary</td>\n",
              "      <td>Cary</td>\n",
              "      <td>0.5</td>\n",
              "      <td>Errand/Supplies</td>\n",
              "      <td>2016-01-26 17:27:00</td>\n",
              "      <td>2016-01-26 17:29:00</td>\n",
              "      <td>26</td>\n",
              "      <td>17</td>\n",
              "      <td>1</td>\n",
              "      <td>1</td>\n",
              "      <td>Tue</td>\n",
              "      <td>Jan</td>\n",
              "      <td>00:02:00</td>\n",
              "      <td>0.0</td>\n",
              "      <td>2.0</td>\n",
              "      <td>0.033333</td>\n",
              "      <td>15.0</td>\n",
              "    </tr>\n",
              "  </tbody>\n",
              "</table>\n",
              "</div>"
            ],
            "text/plain": [
              "          START_DATE         END_DATE  ... Duration_hours  Speed\n",
              "646  8/10/2016 18:49  8/10/2016 18:50  ...       0.016667   60.0\n",
              "786  10/4/2016 12:17  10/4/2016 12:18  ...       0.016667  906.0\n",
              "789  10/6/2016 18:37  10/6/2016 18:39  ...       0.033333  552.0\n",
              "607  7/29/2016 15:45  7/29/2016 15:47  ...       0.033333   66.0\n",
              "44   1/26/2016 17:27  1/26/2016 17:29  ...       0.033333   15.0\n",
              "\n",
              "[5 rows x 20 columns]"
            ]
          },
          "metadata": {
            "tags": []
          },
          "execution_count": 75
        }
      ]
    },
    {
      "cell_type": "markdown",
      "metadata": {
        "id": "Ll5jdpAf73xA",
        "colab_type": "text"
      },
      "source": [
        "## 3. Category & Purpose"
      ]
    },
    {
      "cell_type": "code",
      "metadata": {
        "id": "gquL3BUv73xA",
        "colab_type": "code",
        "colab": {
          "base_uri": "https://localhost:8080/",
          "height": 68
        },
        "outputId": "a24986ba-fb5c-4d00-ce7f-8882193af7e0"
      },
      "source": [
        "df['CAT'].value_counts()"
      ],
      "execution_count": 76,
      "outputs": [
        {
          "output_type": "execute_result",
          "data": {
            "text/plain": [
              "Business    1078\n",
              "Personal      77\n",
              "Name: CAT, dtype: int64"
            ]
          },
          "metadata": {
            "tags": []
          },
          "execution_count": 76
        }
      ]
    },
    {
      "cell_type": "markdown",
      "metadata": {
        "id": "P1avZc0473xD",
        "colab_type": "text"
      },
      "source": [
        "**Most trips are in the business category**"
      ]
    },
    {
      "cell_type": "code",
      "metadata": {
        "id": "1i1t_EpJ73xD",
        "colab_type": "code",
        "colab": {
          "base_uri": "https://localhost:8080/",
          "height": 204
        },
        "outputId": "d94f57e6-7ef6-492f-9403-e3a600330a44"
      },
      "source": [
        "#Purpose\n",
        "df['PURPOSE'].value_counts()"
      ],
      "execution_count": 77,
      "outputs": [
        {
          "output_type": "execute_result",
          "data": {
            "text/plain": [
              "Meeting            187\n",
              "Meal/Entertain     160\n",
              "Errand/Supplies    128\n",
              "Customer Visit     101\n",
              "Temporary Site      50\n",
              "Between Offices     18\n",
              "Moving               4\n",
              "Airport/Travel       3\n",
              "Charity ($)          1\n",
              "Commute              1\n",
              "Name: PURPOSE, dtype: int64"
            ]
          },
          "metadata": {
            "tags": []
          },
          "execution_count": 77
        }
      ]
    },
    {
      "cell_type": "markdown",
      "metadata": {
        "id": "I4ninmDJ73xG",
        "colab_type": "text"
      },
      "source": [
        "**Most trips are for meetings**"
      ]
    },
    {
      "cell_type": "code",
      "metadata": {
        "id": "g8PeGQyn73xH",
        "colab_type": "code",
        "colab": {
          "base_uri": "https://localhost:8080/",
          "height": 221
        },
        "outputId": "dd785412-1a8d-4288-8008-0ecc65eb9633"
      },
      "source": [
        "#Average distance traveled for each activity\n",
        "df.groupby('PURPOSE').mean()['MILES'].sort_values(ascending = False)"
      ],
      "execution_count": 78,
      "outputs": [
        {
          "output_type": "execute_result",
          "data": {
            "text/plain": [
              "PURPOSE\n",
              "Commute            180.200000\n",
              "Customer Visit      20.688119\n",
              "Meeting             15.247594\n",
              "Charity ($)         15.100000\n",
              "Between Offices     10.944444\n",
              "Temporary Site      10.474000\n",
              "Meal/Entertain       5.698125\n",
              "Airport/Travel       5.500000\n",
              "Moving               4.550000\n",
              "Errand/Supplies      3.968750\n",
              "Name: MILES, dtype: float64"
            ]
          },
          "metadata": {
            "tags": []
          },
          "execution_count": 78
        }
      ]
    },
    {
      "cell_type": "markdown",
      "metadata": {
        "id": "Or6uXGAv73xI",
        "colab_type": "text"
      },
      "source": [
        "Now lets try to answer some questions from this data.\n",
        "\n",
        "Question1: How many miles was earned per category and purpose ?\n",
        "\n",
        "Question2: What is percentage of business miles vs personal?\n",
        "\n",
        "Question3: How much time was spend for drives per category and purpose? \n"
      ]
    },
    {
      "cell_type": "code",
      "metadata": {
        "id": "rLz2LvBk73xJ",
        "colab_type": "code",
        "colab": {
          "base_uri": "https://localhost:8080/",
          "height": 221
        },
        "outputId": "a79af4c4-f50a-4768-8978-34426fe41a2a"
      },
      "source": [
        "#Question1: How many miles was earned per category and purpose ?\n",
        "df.groupby('PURPOSE').sum()['MILES'].sort_values(ascending = False)"
      ],
      "execution_count": 79,
      "outputs": [
        {
          "output_type": "execute_result",
          "data": {
            "text/plain": [
              "PURPOSE\n",
              "Meeting            2851.3\n",
              "Customer Visit     2089.5\n",
              "Meal/Entertain      911.7\n",
              "Temporary Site      523.7\n",
              "Errand/Supplies     508.0\n",
              "Between Offices     197.0\n",
              "Commute             180.2\n",
              "Moving               18.2\n",
              "Airport/Travel       16.5\n",
              "Charity ($)          15.1\n",
              "Name: MILES, dtype: float64"
            ]
          },
          "metadata": {
            "tags": []
          },
          "execution_count": 79
        }
      ]
    },
    {
      "cell_type": "code",
      "metadata": {
        "id": "XpIICZl773xK",
        "colab_type": "code",
        "colab": {
          "base_uri": "https://localhost:8080/",
          "height": 85
        },
        "outputId": "fa82427b-a87a-45ea-9a25-45a054d6f105"
      },
      "source": [
        "#Question1: How many miles was earned per category and purpose ?\n",
        "df.groupby('CAT').sum()['MILES'].sort_values(ascending = False)"
      ],
      "execution_count": 80,
      "outputs": [
        {
          "output_type": "execute_result",
          "data": {
            "text/plain": [
              "CAT\n",
              "Business    11487.0\n",
              "Personal      717.7\n",
              "Name: MILES, dtype: float64"
            ]
          },
          "metadata": {
            "tags": []
          },
          "execution_count": 80
        }
      ]
    },
    {
      "cell_type": "code",
      "metadata": {
        "id": "b_snpubb73xM",
        "colab_type": "code",
        "colab": {
          "base_uri": "https://localhost:8080/",
          "height": 142
        },
        "outputId": "bd25cf6e-b90a-453b-cbe6-9dfa871132a5"
      },
      "source": [
        "#Question2: What is percentage of business miles vs personal?\n",
        "df1 = df.groupby('CAT').agg({'MILES':'sum'})\n",
        "df1\n",
        "df1.apply(lambda x: x/x.sum()*100).rename(columns = {'MILES':'% of Miles'})"
      ],
      "execution_count": 81,
      "outputs": [
        {
          "output_type": "execute_result",
          "data": {
            "text/html": [
              "<div>\n",
              "<style scoped>\n",
              "    .dataframe tbody tr th:only-of-type {\n",
              "        vertical-align: middle;\n",
              "    }\n",
              "\n",
              "    .dataframe tbody tr th {\n",
              "        vertical-align: top;\n",
              "    }\n",
              "\n",
              "    .dataframe thead th {\n",
              "        text-align: right;\n",
              "    }\n",
              "</style>\n",
              "<table border=\"1\" class=\"dataframe\">\n",
              "  <thead>\n",
              "    <tr style=\"text-align: right;\">\n",
              "      <th></th>\n",
              "      <th>% of Miles</th>\n",
              "    </tr>\n",
              "    <tr>\n",
              "      <th>CAT</th>\n",
              "      <th></th>\n",
              "    </tr>\n",
              "  </thead>\n",
              "  <tbody>\n",
              "    <tr>\n",
              "      <th>Business</th>\n",
              "      <td>94.119479</td>\n",
              "    </tr>\n",
              "    <tr>\n",
              "      <th>Personal</th>\n",
              "      <td>5.880521</td>\n",
              "    </tr>\n",
              "  </tbody>\n",
              "</table>\n",
              "</div>"
            ],
            "text/plain": [
              "          % of Miles\n",
              "CAT                 \n",
              "Business   94.119479\n",
              "Personal    5.880521"
            ]
          },
          "metadata": {
            "tags": []
          },
          "execution_count": 81
        }
      ]
    },
    {
      "cell_type": "code",
      "metadata": {
        "scrolled": true,
        "id": "H0G-aWkB73xO",
        "colab_type": "code",
        "colab": {
          "base_uri": "https://localhost:8080/",
          "height": 85
        },
        "outputId": "1d3c4036-2134-4d7d-9c4e-d4e9b355cbab"
      },
      "source": [
        "#Question3: How much time was spend for drives per category and purpose?\n",
        "dfk= df.groupby('CAT').sum()['diff_mins'].sort_values(ascending = False)\n",
        "dfk.apply(lambda x: x/60)"
      ],
      "execution_count": 82,
      "outputs": [
        {
          "output_type": "execute_result",
          "data": {
            "text/plain": [
              "CAT\n",
              "Business    421.183333\n",
              "Personal     26.250000\n",
              "Name: diff_mins, dtype: float64"
            ]
          },
          "metadata": {
            "tags": []
          },
          "execution_count": 82
        }
      ]
    },
    {
      "cell_type": "code",
      "metadata": {
        "scrolled": true,
        "id": "X89fe1QT73xQ",
        "colab_type": "code",
        "colab": {
          "base_uri": "https://localhost:8080/",
          "height": 221
        },
        "outputId": "64051a62-0edb-4e02-ed8d-e9186a4532be"
      },
      "source": [
        "#Question3: How much time was spend for drives per category and purpose? \n",
        "df.groupby('PURPOSE').sum()['diff_mins'].sort_values(ascending = False)"
      ],
      "execution_count": 83,
      "outputs": [
        {
          "output_type": "execute_result",
          "data": {
            "text/plain": [
              "PURPOSE\n",
              "Meeting            5561.0\n",
              "Customer Visit     3375.0\n",
              "Meal/Entertain     2580.0\n",
              "Errand/Supplies    1661.0\n",
              "Temporary Site     1293.0\n",
              "Between Offices     459.0\n",
              "Commute             185.0\n",
              "Airport/Travel       78.0\n",
              "Moving               60.0\n",
              "Charity ($)          27.0\n",
              "Name: diff_mins, dtype: float64"
            ]
          },
          "metadata": {
            "tags": []
          },
          "execution_count": 83
        }
      ]
    }
  ]
}