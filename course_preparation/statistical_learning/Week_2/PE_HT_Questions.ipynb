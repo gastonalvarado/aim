{
 "cells": [
  {
   "cell_type": "markdown",
   "metadata": {},
   "source": [
    "# 1. You are a manager of a chinese restaurant. You want to determine whether the waiting time to place an order has changed in the past month from its previous population mean value of 4.5 minutes. State the null and alternative hypothesis."
   ]
  },
  {
   "cell_type": "code",
   "execution_count": null,
   "metadata": {},
   "outputs": [],
   "source": []
  },
  {
   "cell_type": "markdown",
   "metadata": {},
   "source": [
    "# 2. Summarize the p- value Approach to hypothesis testing."
   ]
  },
  {
   "cell_type": "code",
   "execution_count": null,
   "metadata": {},
   "outputs": [],
   "source": []
  },
  {
   "cell_type": "markdown",
   "metadata": {},
   "source": [
    "# 3. If you use a 0.05 level of significance in a two-tail hypothesis test. What decision will you make if Zstat = +2.21?"
   ]
  },
  {
   "cell_type": "code",
   "execution_count": null,
   "metadata": {},
   "outputs": [],
   "source": []
  },
  {
   "cell_type": "markdown",
   "metadata": {},
   "source": [
    "# 4. If you use a 0.01 level of significance in a two tail hypothesis test, what is your decision rule for rejecting H0: µ = 12.5 if you use the Z test?"
   ]
  },
  {
   "cell_type": "code",
   "execution_count": null,
   "metadata": {},
   "outputs": [],
   "source": []
  },
  {
   "cell_type": "markdown",
   "metadata": {},
   "source": [
    "# 5. What is the p value if, in a two-tail hypothesis test, Zstat = +2.00?"
   ]
  },
  {
   "cell_type": "code",
   "execution_count": null,
   "metadata": {},
   "outputs": [],
   "source": []
  },
  {
   "cell_type": "markdown",
   "metadata": {},
   "source": [
    "# 6. A bottled water distributor wants to determine whether the mean amount of water contained in 1- gallon bottles purchased from a nationality known water bottling company is actually 1 gallon. You know from the water bottle company specifications that the standard deviation of the amount of water per bottle is 0.02 gallon. You select a random sample of 50 bottles, and the mean amount of water per gallon bottle is 0.995 gallon.\n",
    "\n",
    "a) Is there evidence that the mean amount is different from 1.0 gallon?(Use α = 0.01)\n",
    "\n",
    "b) Construct a 99% confidence interval estimate of the population mean amount of water per bottle.\n",
    "\n",
    "c) Compare the results of a and b. What conclusions do you reach?"
   ]
  },
  {
   "cell_type": "code",
   "execution_count": null,
   "metadata": {},
   "outputs": [],
   "source": []
  },
  {
   "cell_type": "markdown",
   "metadata": {},
   "source": [
    "# 7.  If in sample of n = 16 selected from a normal population, Xbar = 56 and S = 12, what is the value of tstat if you are testing the null hypothesis Ho : µ = 50?"
   ]
  },
  {
   "cell_type": "code",
   "execution_count": null,
   "metadata": {},
   "outputs": [],
   "source": []
  },
  {
   "cell_type": "markdown",
   "metadata": {},
   "source": [
    "# 8. If in a sample of n  = 16 selected from a left-skewed population, Xbar = 65 and S =12, would you use the t test to test the null hypothesis H0: µ =60? Discuss."
   ]
  },
  {
   "cell_type": "code",
   "execution_count": null,
   "metadata": {},
   "outputs": [],
   "source": []
  },
  {
   "cell_type": "markdown",
   "metadata": {},
   "source": [
    "# 9. Calculate Paired t test using python"
   ]
  },
  {
   "cell_type": "markdown",
   "metadata": {},
   "source": [
    "# The file Concrete.csv contains the compressive strength, in thousands • of pounds per square inch (psi), of 40 samples of concrete taken two and seven days after pouring. (Data extracted from O. CarrilloGamboa and R. F. Gunst, “Measurement – Error – Model Collinearities”, Technometrics, 34 (1992): 454 – 464.)"
   ]
  },
  {
   "cell_type": "markdown",
   "metadata": {},
   "source": [
    "# At the 0.01 level of significance, is there evidence that the means strength is lower at two days than at seven days?"
   ]
  },
  {
   "cell_type": "code",
   "execution_count": null,
   "metadata": {},
   "outputs": [],
   "source": []
  }
 ],
 "metadata": {
  "kernelspec": {
   "display_name": "Python 3",
   "language": "python",
   "name": "python3"
  },
  "language_info": {
   "codemirror_mode": {
    "name": "ipython",
    "version": 3
   },
   "file_extension": ".py",
   "mimetype": "text/x-python",
   "name": "python",
   "nbconvert_exporter": "python",
   "pygments_lexer": "ipython3",
   "version": "3.6.5"
  }
 },
 "nbformat": 4,
 "nbformat_minor": 2
}
