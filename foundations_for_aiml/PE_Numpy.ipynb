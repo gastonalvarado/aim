{
  "nbformat": 4,
  "nbformat_minor": 0,
  "metadata": {
    "kernelspec": {
      "display_name": "Python 3",
      "language": "python",
      "name": "python3"
    },
    "language_info": {
      "codemirror_mode": {
        "name": "ipython",
        "version": 3
      },
      "file_extension": ".py",
      "mimetype": "text/x-python",
      "name": "python",
      "nbconvert_exporter": "python",
      "pygments_lexer": "ipython3",
      "version": "3.7.3"
    },
    "colab": {
      "name": "PE - Numpy.ipynb",
      "provenance": [],
      "collapsed_sections": []
    }
  },
  "cells": [
    {
      "cell_type": "markdown",
      "metadata": {
        "id": "S3DPtcibigrM",
        "colab_type": "text"
      },
      "source": [
        "# Numpy"
      ]
    },
    {
      "cell_type": "markdown",
      "metadata": {
        "id": "_MwIsKNvigrQ",
        "colab_type": "text"
      },
      "source": [
        "We have seen python basic data structures in our last section. They are great but lack specialized features for data analysis. Like, adding roows, columns, operating on 2d matrices aren't readily available. So, we will use *numpy* for such functions.\n",
        "\n"
      ]
    },
    {
      "cell_type": "code",
      "metadata": {
        "id": "uUDCPfHUigrU",
        "colab_type": "code",
        "colab": {}
      },
      "source": [
        "import numpy as np"
      ],
      "execution_count": 0,
      "outputs": []
    },
    {
      "cell_type": "markdown",
      "metadata": {
        "id": "n6N1tc8wigro",
        "colab_type": "text"
      },
      "source": [
        "Numpy operates on *nd* arrays. These are similar to lists but contains homogenous elements but easier to store 2-d data."
      ]
    },
    {
      "cell_type": "code",
      "metadata": {
        "id": "UNOD1poTigrr",
        "colab_type": "code",
        "colab": {},
        "outputId": "cfb01b85-9ff3-4b42-dfb9-ba05fcbd4ecc"
      },
      "source": [
        "l1 = [1,2,3,4]\n",
        "nd1 = np.array(l1)\n",
        "print(nd1)\n",
        "\n",
        "l2 = [5,6,7,8]\n",
        "nd2 = np.array([l1,l2])\n",
        "print(nd2)"
      ],
      "execution_count": 0,
      "outputs": [
        {
          "output_type": "stream",
          "text": [
            "[1 2 3 4]\n",
            "[[1 2 3 4]\n",
            " [5 6 7 8]]\n"
          ],
          "name": "stdout"
        }
      ]
    },
    {
      "cell_type": "markdown",
      "metadata": {
        "id": "qMeH19I8igsE",
        "colab_type": "text"
      },
      "source": [
        "Sum functions on np.array()"
      ]
    },
    {
      "cell_type": "code",
      "metadata": {
        "id": "8GQe4RmnigsG",
        "colab_type": "code",
        "colab": {},
        "outputId": "b1a87d73-62db-4933-dd1d-eeafaaab7be3"
      },
      "source": [
        "print(nd2.shape)\n",
        "\n",
        "print(nd2.size)\n",
        "\n",
        "print(nd2.dtype)"
      ],
      "execution_count": 0,
      "outputs": [
        {
          "output_type": "stream",
          "text": [
            "(2, 4)\n",
            "8\n",
            "int32\n"
          ],
          "name": "stdout"
        }
      ]
    },
    {
      "cell_type": "markdown",
      "metadata": {
        "id": "m_PyE_WLigsU",
        "colab_type": "text"
      },
      "source": [
        "### Question 1\n",
        "\n",
        "Create an identity 2d-array or matrix (with ones across the diagonal).\n",
        "\n",
        "[ **Hint:** You can also use **np.identity()** function ]"
      ]
    },
    {
      "cell_type": "code",
      "metadata": {
        "id": "hpZdKOoZigsW",
        "colab_type": "code",
        "colab": {}
      },
      "source": [
        ""
      ],
      "execution_count": 0,
      "outputs": []
    },
    {
      "cell_type": "markdown",
      "metadata": {
        "id": "_U68HZ2Jigsk",
        "colab_type": "text"
      },
      "source": [
        "### Question 2\n",
        "\n",
        "Create a 2d-array or matrix of order 3x3 with values = 9,8,7,6,5,4,3,2,1 arranged in the same order.\n",
        "\n",
        "Use: **np.matrix()** function\n",
        "\n"
      ]
    },
    {
      "cell_type": "code",
      "metadata": {
        "id": "7pUhfcJVigsm",
        "colab_type": "code",
        "colab": {}
      },
      "source": [
        ""
      ],
      "execution_count": 0,
      "outputs": []
    },
    {
      "cell_type": "markdown",
      "metadata": {
        "id": "iOS7gu5yigsz",
        "colab_type": "text"
      },
      "source": [
        "### Question 3\n",
        "\n",
        "Interchange both the rows and columns of the given matrix.\n",
        "\n",
        "Hint: You can use the transpose **.T**)"
      ]
    },
    {
      "cell_type": "code",
      "metadata": {
        "id": "lPG8A--Jigs1",
        "colab_type": "code",
        "colab": {}
      },
      "source": [
        ""
      ],
      "execution_count": 0,
      "outputs": []
    },
    {
      "cell_type": "markdown",
      "metadata": {
        "id": "HI2sWjV0igtK",
        "colab_type": "text"
      },
      "source": [
        "### Question 4\n",
        "Add + 1 to all the elements in the given matrix."
      ]
    },
    {
      "cell_type": "code",
      "metadata": {
        "id": "AHsNvx48igtM",
        "colab_type": "code",
        "colab": {}
      },
      "source": [
        ""
      ],
      "execution_count": 0,
      "outputs": []
    },
    {
      "cell_type": "markdown",
      "metadata": {
        "id": "jrP84LYJigtX",
        "colab_type": "text"
      },
      "source": [
        "Similarly you can do operations like scalar  substraction, division, multiplication (operating on each element in the matrix)"
      ]
    },
    {
      "cell_type": "markdown",
      "metadata": {
        "id": "lVyA92wJigtZ",
        "colab_type": "text"
      },
      "source": [
        "### Question 5\n",
        "\n",
        "Find the mean of all elements in the given matrix nd6.\n",
        "nd6 = [[  1   4   9 121 144 169]\n",
        " [ 16  25  36 196 225 256]\n",
        " [ 49  64  81 289 324 361]]\n",
        " \n",
        " Use: **.mean()** function\n"
      ]
    },
    {
      "cell_type": "code",
      "metadata": {
        "id": "oYTTq0d3igtb",
        "colab_type": "code",
        "colab": {}
      },
      "source": [
        ""
      ],
      "execution_count": 0,
      "outputs": []
    },
    {
      "cell_type": "markdown",
      "metadata": {
        "id": "2c0tKFpiigto",
        "colab_type": "text"
      },
      "source": [
        "### Question 7\n",
        "\n",
        "Find the dot product of two given matrices.\n",
        "\n",
        "[**Hint:** Use **np.dot()**]"
      ]
    },
    {
      "cell_type": "code",
      "metadata": {
        "id": "fS_pamH6igtq",
        "colab_type": "code",
        "colab": {}
      },
      "source": [
        ""
      ],
      "execution_count": 0,
      "outputs": []
    }
  ]
}